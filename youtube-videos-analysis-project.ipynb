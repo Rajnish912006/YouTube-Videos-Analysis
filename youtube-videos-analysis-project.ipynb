{
 "cells": [
  {
   "cell_type": "markdown",
   "metadata": {
    "execution": {
     "iopub.execute_input": "2023-03-02T17:10:58.717635Z",
     "iopub.status.busy": "2023-03-02T17:10:58.716903Z",
     "iopub.status.idle": "2023-03-02T17:11:06.068418Z",
     "shell.execute_reply": "2023-03-02T17:11:06.067409Z",
     "shell.execute_reply.started": "2023-03-02T17:10:58.717519Z"
    }
   },
   "source": [
    "YouTube is a widely used and famous online video platform in the world today. YouTube has a list of trending videos that is updated constantly.Analysing these trending videos can give content creators greater perspective and knowledge for increasing their popularity and brand of their channels.Companies and businesses using social media and digital platforms can also use this analysis to boost their growth in business by publishing videos or sponsoring appropriate channels at the right time.\n",
    "#### Objectives\n",
    "To understand characteristics that make a video end up in trending section on YouTube.\n",
    "To grasp knowledge about YouTube's algorithm and extract key aspects that can be used to improve growth of YouTube channels.\n",
    "Provide content creators and other digital businesses with information about features required to make a video that trends and reaches maximum people."
   ]
  },
  {
   "cell_type": "code",
   "execution_count": 2,
   "metadata": {
    "execution": {
     "iopub.execute_input": "2023-03-02T17:12:37.201506Z",
     "iopub.status.busy": "2023-03-02T17:12:37.201122Z",
     "iopub.status.idle": "2023-03-02T17:12:39.936724Z",
     "shell.execute_reply": "2023-03-02T17:12:39.935119Z",
     "shell.execute_reply.started": "2023-03-02T17:12:37.201475Z"
    }
   },
   "outputs": [],
   "source": [
    "import pandas as pd \n",
    "import numpy as np\n",
    "df = pd.read_csv(\"../input/youtube-trending-video-dataset/US_youtube_trending_data.csv\")"
   ]
  },
  {
   "cell_type": "code",
   "execution_count": 3,
   "metadata": {
    "execution": {
     "iopub.execute_input": "2023-03-02T17:19:23.465484Z",
     "iopub.status.busy": "2023-03-02T17:19:23.465118Z",
     "iopub.status.idle": "2023-03-02T17:19:23.494379Z",
     "shell.execute_reply": "2023-03-02T17:19:23.492730Z",
     "shell.execute_reply.started": "2023-03-02T17:19:23.465453Z"
    }
   },
   "outputs": [
    {
     "data": {
      "text/html": [
       "<div>\n",
       "<style scoped>\n",
       "    .dataframe tbody tr th:only-of-type {\n",
       "        vertical-align: middle;\n",
       "    }\n",
       "\n",
       "    .dataframe tbody tr th {\n",
       "        vertical-align: top;\n",
       "    }\n",
       "\n",
       "    .dataframe thead th {\n",
       "        text-align: right;\n",
       "    }\n",
       "</style>\n",
       "<table border=\"1\" class=\"dataframe\">\n",
       "  <thead>\n",
       "    <tr style=\"text-align: right;\">\n",
       "      <th></th>\n",
       "      <th>video_id</th>\n",
       "      <th>title</th>\n",
       "      <th>publishedAt</th>\n",
       "      <th>channelId</th>\n",
       "      <th>channelTitle</th>\n",
       "      <th>categoryId</th>\n",
       "      <th>trending_date</th>\n",
       "      <th>tags</th>\n",
       "      <th>view_count</th>\n",
       "      <th>likes</th>\n",
       "      <th>dislikes</th>\n",
       "      <th>comment_count</th>\n",
       "      <th>thumbnail_link</th>\n",
       "      <th>comments_disabled</th>\n",
       "      <th>ratings_disabled</th>\n",
       "      <th>description</th>\n",
       "    </tr>\n",
       "  </thead>\n",
       "  <tbody>\n",
       "    <tr>\n",
       "      <th>0</th>\n",
       "      <td>3C66w5Z0ixs</td>\n",
       "      <td>I ASKED HER TO BE MY GIRLFRIEND...</td>\n",
       "      <td>2020-08-11T19:20:14Z</td>\n",
       "      <td>UCvtRTOMP2TqYqu51xNrqAzg</td>\n",
       "      <td>Brawadis</td>\n",
       "      <td>22</td>\n",
       "      <td>2020-08-12T00:00:00Z</td>\n",
       "      <td>brawadis|prank|basketball|skits|ghost|funny vi...</td>\n",
       "      <td>1514614</td>\n",
       "      <td>156908</td>\n",
       "      <td>5855</td>\n",
       "      <td>35313</td>\n",
       "      <td>https://i.ytimg.com/vi/3C66w5Z0ixs/default.jpg</td>\n",
       "      <td>False</td>\n",
       "      <td>False</td>\n",
       "      <td>SUBSCRIBE to BRAWADIS ▶ http://bit.ly/Subscrib...</td>\n",
       "    </tr>\n",
       "    <tr>\n",
       "      <th>1</th>\n",
       "      <td>M9Pmf9AB4Mo</td>\n",
       "      <td>Apex Legends | Stories from the Outlands – “Th...</td>\n",
       "      <td>2020-08-11T17:00:10Z</td>\n",
       "      <td>UC0ZV6M2THA81QT9hrVWJG3A</td>\n",
       "      <td>Apex Legends</td>\n",
       "      <td>20</td>\n",
       "      <td>2020-08-12T00:00:00Z</td>\n",
       "      <td>Apex Legends|Apex Legends characters|new Apex ...</td>\n",
       "      <td>2381688</td>\n",
       "      <td>146739</td>\n",
       "      <td>2794</td>\n",
       "      <td>16549</td>\n",
       "      <td>https://i.ytimg.com/vi/M9Pmf9AB4Mo/default.jpg</td>\n",
       "      <td>False</td>\n",
       "      <td>False</td>\n",
       "      <td>While running her own modding shop, Ramya Pare...</td>\n",
       "    </tr>\n",
       "    <tr>\n",
       "      <th>2</th>\n",
       "      <td>J78aPJ3VyNs</td>\n",
       "      <td>I left youtube for a month and THIS is what ha...</td>\n",
       "      <td>2020-08-11T16:34:06Z</td>\n",
       "      <td>UCYzPXprvl5Y-Sf0g4vX-m6g</td>\n",
       "      <td>jacksepticeye</td>\n",
       "      <td>24</td>\n",
       "      <td>2020-08-12T00:00:00Z</td>\n",
       "      <td>jacksepticeye|funny|funny meme|memes|jacksepti...</td>\n",
       "      <td>2038853</td>\n",
       "      <td>353787</td>\n",
       "      <td>2628</td>\n",
       "      <td>40221</td>\n",
       "      <td>https://i.ytimg.com/vi/J78aPJ3VyNs/default.jpg</td>\n",
       "      <td>False</td>\n",
       "      <td>False</td>\n",
       "      <td>I left youtube for a month and this is what ha...</td>\n",
       "    </tr>\n",
       "    <tr>\n",
       "      <th>3</th>\n",
       "      <td>kXLn3HkpjaA</td>\n",
       "      <td>XXL 2020 Freshman Class Revealed - Official An...</td>\n",
       "      <td>2020-08-11T16:38:55Z</td>\n",
       "      <td>UCbg_UMjlHJg_19SZckaKajg</td>\n",
       "      <td>XXL</td>\n",
       "      <td>10</td>\n",
       "      <td>2020-08-12T00:00:00Z</td>\n",
       "      <td>xxl freshman|xxl freshmen|2020 xxl freshman|20...</td>\n",
       "      <td>496771</td>\n",
       "      <td>23251</td>\n",
       "      <td>1856</td>\n",
       "      <td>7647</td>\n",
       "      <td>https://i.ytimg.com/vi/kXLn3HkpjaA/default.jpg</td>\n",
       "      <td>False</td>\n",
       "      <td>False</td>\n",
       "      <td>Subscribe to XXL → http://bit.ly/subscribe-xxl...</td>\n",
       "    </tr>\n",
       "    <tr>\n",
       "      <th>4</th>\n",
       "      <td>VIUo6yapDbc</td>\n",
       "      <td>Ultimate DIY Home Movie Theater for The LaBran...</td>\n",
       "      <td>2020-08-11T15:10:05Z</td>\n",
       "      <td>UCDVPcEbVLQgLZX0Rt6jo34A</td>\n",
       "      <td>Mr. Kate</td>\n",
       "      <td>26</td>\n",
       "      <td>2020-08-12T00:00:00Z</td>\n",
       "      <td>The LaBrant Family|DIY|Interior Design|Makeove...</td>\n",
       "      <td>1123889</td>\n",
       "      <td>45802</td>\n",
       "      <td>964</td>\n",
       "      <td>2196</td>\n",
       "      <td>https://i.ytimg.com/vi/VIUo6yapDbc/default.jpg</td>\n",
       "      <td>False</td>\n",
       "      <td>False</td>\n",
       "      <td>Transforming The LaBrant Family's empty white ...</td>\n",
       "    </tr>\n",
       "  </tbody>\n",
       "</table>\n",
       "</div>"
      ],
      "text/plain": [
       "      video_id                                              title  \\\n",
       "0  3C66w5Z0ixs                 I ASKED HER TO BE MY GIRLFRIEND...   \n",
       "1  M9Pmf9AB4Mo  Apex Legends | Stories from the Outlands – “Th...   \n",
       "2  J78aPJ3VyNs  I left youtube for a month and THIS is what ha...   \n",
       "3  kXLn3HkpjaA  XXL 2020 Freshman Class Revealed - Official An...   \n",
       "4  VIUo6yapDbc  Ultimate DIY Home Movie Theater for The LaBran...   \n",
       "\n",
       "            publishedAt                 channelId   channelTitle  categoryId  \\\n",
       "0  2020-08-11T19:20:14Z  UCvtRTOMP2TqYqu51xNrqAzg       Brawadis          22   \n",
       "1  2020-08-11T17:00:10Z  UC0ZV6M2THA81QT9hrVWJG3A   Apex Legends          20   \n",
       "2  2020-08-11T16:34:06Z  UCYzPXprvl5Y-Sf0g4vX-m6g  jacksepticeye          24   \n",
       "3  2020-08-11T16:38:55Z  UCbg_UMjlHJg_19SZckaKajg            XXL          10   \n",
       "4  2020-08-11T15:10:05Z  UCDVPcEbVLQgLZX0Rt6jo34A       Mr. Kate          26   \n",
       "\n",
       "          trending_date                                               tags  \\\n",
       "0  2020-08-12T00:00:00Z  brawadis|prank|basketball|skits|ghost|funny vi...   \n",
       "1  2020-08-12T00:00:00Z  Apex Legends|Apex Legends characters|new Apex ...   \n",
       "2  2020-08-12T00:00:00Z  jacksepticeye|funny|funny meme|memes|jacksepti...   \n",
       "3  2020-08-12T00:00:00Z  xxl freshman|xxl freshmen|2020 xxl freshman|20...   \n",
       "4  2020-08-12T00:00:00Z  The LaBrant Family|DIY|Interior Design|Makeove...   \n",
       "\n",
       "   view_count   likes  dislikes  comment_count  \\\n",
       "0     1514614  156908      5855          35313   \n",
       "1     2381688  146739      2794          16549   \n",
       "2     2038853  353787      2628          40221   \n",
       "3      496771   23251      1856           7647   \n",
       "4     1123889   45802       964           2196   \n",
       "\n",
       "                                   thumbnail_link  comments_disabled  \\\n",
       "0  https://i.ytimg.com/vi/3C66w5Z0ixs/default.jpg              False   \n",
       "1  https://i.ytimg.com/vi/M9Pmf9AB4Mo/default.jpg              False   \n",
       "2  https://i.ytimg.com/vi/J78aPJ3VyNs/default.jpg              False   \n",
       "3  https://i.ytimg.com/vi/kXLn3HkpjaA/default.jpg              False   \n",
       "4  https://i.ytimg.com/vi/VIUo6yapDbc/default.jpg              False   \n",
       "\n",
       "   ratings_disabled                                        description  \n",
       "0             False  SUBSCRIBE to BRAWADIS ▶ http://bit.ly/Subscrib...  \n",
       "1             False  While running her own modding shop, Ramya Pare...  \n",
       "2             False  I left youtube for a month and this is what ha...  \n",
       "3             False  Subscribe to XXL → http://bit.ly/subscribe-xxl...  \n",
       "4             False  Transforming The LaBrant Family's empty white ...  "
      ]
     },
     "execution_count": 3,
     "metadata": {},
     "output_type": "execute_result"
    }
   ],
   "source": [
    "df.head()"
   ]
  },
  {
   "cell_type": "code",
   "execution_count": 4,
   "metadata": {
    "execution": {
     "iopub.execute_input": "2023-03-02T17:19:29.485729Z",
     "iopub.status.busy": "2023-03-02T17:19:29.485369Z",
     "iopub.status.idle": "2023-03-02T17:19:29.500416Z",
     "shell.execute_reply": "2023-03-02T17:19:29.499292Z",
     "shell.execute_reply.started": "2023-03-02T17:19:29.485699Z"
    }
   },
   "outputs": [
    {
     "data": {
      "text/plain": [
       "15"
      ]
     },
     "execution_count": 4,
     "metadata": {},
     "output_type": "execute_result"
    }
   ],
   "source": [
    "df.categoryId.nunique()"
   ]
  },
  {
   "cell_type": "code",
   "execution_count": 5,
   "metadata": {
    "execution": {
     "iopub.execute_input": "2023-03-02T17:19:32.654842Z",
     "iopub.status.busy": "2023-03-02T17:19:32.654441Z",
     "iopub.status.idle": "2023-03-02T17:19:32.661810Z",
     "shell.execute_reply": "2023-03-02T17:19:32.660854Z",
     "shell.execute_reply.started": "2023-03-02T17:19:32.654766Z"
    }
   },
   "outputs": [
    {
     "data": {
      "text/plain": [
       "Index(['video_id', 'title', 'publishedAt', 'channelId', 'channelTitle',\n",
       "       'categoryId', 'trending_date', 'tags', 'view_count', 'likes',\n",
       "       'dislikes', 'comment_count', 'thumbnail_link', 'comments_disabled',\n",
       "       'ratings_disabled', 'description'],\n",
       "      dtype='object')"
      ]
     },
     "execution_count": 5,
     "metadata": {},
     "output_type": "execute_result"
    }
   ],
   "source": [
    "df.columns"
   ]
  },
  {
   "cell_type": "code",
   "execution_count": 6,
   "metadata": {
    "execution": {
     "iopub.execute_input": "2023-03-02T17:19:36.225734Z",
     "iopub.status.busy": "2023-03-02T17:19:36.225352Z",
     "iopub.status.idle": "2023-03-02T17:19:36.233642Z",
     "shell.execute_reply": "2023-03-02T17:19:36.232768Z",
     "shell.execute_reply.started": "2023-03-02T17:19:36.225702Z"
    }
   },
   "outputs": [
    {
     "data": {
      "text/plain": [
       "array([22, 20, 24, 10, 26, 27, 23, 28,  1, 25, 17, 19, 15,  2, 29])"
      ]
     },
     "execution_count": 6,
     "metadata": {},
     "output_type": "execute_result"
    }
   ],
   "source": [
    "df.categoryId.unique()"
   ]
  },
  {
   "cell_type": "code",
   "execution_count": 7,
   "metadata": {
    "execution": {
     "iopub.execute_input": "2023-03-02T17:20:11.178021Z",
     "iopub.status.busy": "2023-03-02T17:20:11.177681Z",
     "iopub.status.idle": "2023-03-02T17:20:11.188248Z",
     "shell.execute_reply": "2023-03-02T17:20:11.187304Z",
     "shell.execute_reply.started": "2023-03-02T17:20:11.177994Z"
    }
   },
   "outputs": [
    {
     "data": {
      "text/plain": [
       "24    37551\n",
       "20    36680\n",
       "10    30624\n",
       "17    20719\n",
       "22    16408\n",
       "23     9942\n",
       "1      7417\n",
       "25     7172\n",
       "28     5677\n",
       "26     5162\n",
       "27     4556\n",
       "2      3497\n",
       "19     1035\n",
       "15      836\n",
       "29      114\n",
       "Name: categoryId, dtype: int64"
      ]
     },
     "execution_count": 7,
     "metadata": {},
     "output_type": "execute_result"
    }
   ],
   "source": [
    "df.categoryId.value_counts()"
   ]
  },
  {
   "cell_type": "code",
   "execution_count": 8,
   "metadata": {
    "execution": {
     "iopub.execute_input": "2023-03-02T17:20:15.572261Z",
     "iopub.status.busy": "2023-03-02T17:20:15.571714Z",
     "iopub.status.idle": "2023-03-02T17:20:15.611107Z",
     "shell.execute_reply": "2023-03-02T17:20:15.609674Z",
     "shell.execute_reply.started": "2023-03-02T17:20:15.572221Z"
    }
   },
   "outputs": [
    {
     "data": {
      "text/html": [
       "<div>\n",
       "<style scoped>\n",
       "    .dataframe tbody tr th:only-of-type {\n",
       "        vertical-align: middle;\n",
       "    }\n",
       "\n",
       "    .dataframe tbody tr th {\n",
       "        vertical-align: top;\n",
       "    }\n",
       "\n",
       "    .dataframe thead th {\n",
       "        text-align: right;\n",
       "    }\n",
       "</style>\n",
       "<table border=\"1\" class=\"dataframe\">\n",
       "  <thead>\n",
       "    <tr style=\"text-align: right;\">\n",
       "      <th></th>\n",
       "      <th>categoryId</th>\n",
       "      <th>view_count</th>\n",
       "      <th>likes</th>\n",
       "      <th>dislikes</th>\n",
       "      <th>comment_count</th>\n",
       "      <th>comments_disabled</th>\n",
       "      <th>ratings_disabled</th>\n",
       "    </tr>\n",
       "  </thead>\n",
       "  <tbody>\n",
       "    <tr>\n",
       "      <th>categoryId</th>\n",
       "      <td>1.000000</td>\n",
       "      <td>-0.050566</td>\n",
       "      <td>-0.076083</td>\n",
       "      <td>-0.029786</td>\n",
       "      <td>-0.059764</td>\n",
       "      <td>0.073685</td>\n",
       "      <td>0.000309</td>\n",
       "    </tr>\n",
       "    <tr>\n",
       "      <th>view_count</th>\n",
       "      <td>-0.050566</td>\n",
       "      <td>1.000000</td>\n",
       "      <td>0.857979</td>\n",
       "      <td>0.528837</td>\n",
       "      <td>0.596008</td>\n",
       "      <td>0.005563</td>\n",
       "      <td>0.010998</td>\n",
       "    </tr>\n",
       "    <tr>\n",
       "      <th>likes</th>\n",
       "      <td>-0.076083</td>\n",
       "      <td>0.857979</td>\n",
       "      <td>1.000000</td>\n",
       "      <td>0.513075</td>\n",
       "      <td>0.735359</td>\n",
       "      <td>-0.022803</td>\n",
       "      <td>-0.024456</td>\n",
       "    </tr>\n",
       "    <tr>\n",
       "      <th>dislikes</th>\n",
       "      <td>-0.029786</td>\n",
       "      <td>0.528837</td>\n",
       "      <td>0.513075</td>\n",
       "      <td>1.000000</td>\n",
       "      <td>0.438610</td>\n",
       "      <td>0.011710</td>\n",
       "      <td>-0.012974</td>\n",
       "    </tr>\n",
       "    <tr>\n",
       "      <th>comment_count</th>\n",
       "      <td>-0.059764</td>\n",
       "      <td>0.596008</td>\n",
       "      <td>0.735359</td>\n",
       "      <td>0.438610</td>\n",
       "      <td>1.000000</td>\n",
       "      <td>-0.015919</td>\n",
       "      <td>-0.004067</td>\n",
       "    </tr>\n",
       "    <tr>\n",
       "      <th>comments_disabled</th>\n",
       "      <td>0.073685</td>\n",
       "      <td>0.005563</td>\n",
       "      <td>-0.022803</td>\n",
       "      <td>0.011710</td>\n",
       "      <td>-0.015919</td>\n",
       "      <td>1.000000</td>\n",
       "      <td>0.188428</td>\n",
       "    </tr>\n",
       "    <tr>\n",
       "      <th>ratings_disabled</th>\n",
       "      <td>0.000309</td>\n",
       "      <td>0.010998</td>\n",
       "      <td>-0.024456</td>\n",
       "      <td>-0.012974</td>\n",
       "      <td>-0.004067</td>\n",
       "      <td>0.188428</td>\n",
       "      <td>1.000000</td>\n",
       "    </tr>\n",
       "  </tbody>\n",
       "</table>\n",
       "</div>"
      ],
      "text/plain": [
       "                   categoryId  view_count     likes  dislikes  comment_count  \\\n",
       "categoryId           1.000000   -0.050566 -0.076083 -0.029786      -0.059764   \n",
       "view_count          -0.050566    1.000000  0.857979  0.528837       0.596008   \n",
       "likes               -0.076083    0.857979  1.000000  0.513075       0.735359   \n",
       "dislikes            -0.029786    0.528837  0.513075  1.000000       0.438610   \n",
       "comment_count       -0.059764    0.596008  0.735359  0.438610       1.000000   \n",
       "comments_disabled    0.073685    0.005563 -0.022803  0.011710      -0.015919   \n",
       "ratings_disabled     0.000309    0.010998 -0.024456 -0.012974      -0.004067   \n",
       "\n",
       "                   comments_disabled  ratings_disabled  \n",
       "categoryId                  0.073685          0.000309  \n",
       "view_count                  0.005563          0.010998  \n",
       "likes                      -0.022803         -0.024456  \n",
       "dislikes                    0.011710         -0.012974  \n",
       "comment_count              -0.015919         -0.004067  \n",
       "comments_disabled           1.000000          0.188428  \n",
       "ratings_disabled            0.188428          1.000000  "
      ]
     },
     "execution_count": 8,
     "metadata": {},
     "output_type": "execute_result"
    }
   ],
   "source": [
    "df.corr()"
   ]
  },
  {
   "cell_type": "code",
   "execution_count": 9,
   "metadata": {
    "execution": {
     "iopub.execute_input": "2023-03-02T17:20:22.529908Z",
     "iopub.status.busy": "2023-03-02T17:20:22.529450Z",
     "iopub.status.idle": "2023-03-02T17:20:22.545998Z",
     "shell.execute_reply": "2023-03-02T17:20:22.545003Z",
     "shell.execute_reply.started": "2023-03-02T17:20:22.529874Z"
    }
   },
   "outputs": [],
   "source": [
    "corrolation_list = ['view_count', 'likes', 'dislikes', 'comment_count']\n",
    "df_data=df[corrolation_list].corr()"
   ]
  },
  {
   "cell_type": "code",
   "execution_count": 10,
   "metadata": {
    "execution": {
     "iopub.execute_input": "2023-03-02T17:20:25.843655Z",
     "iopub.status.busy": "2023-03-02T17:20:25.843298Z",
     "iopub.status.idle": "2023-03-02T17:20:25.854131Z",
     "shell.execute_reply": "2023-03-02T17:20:25.853215Z",
     "shell.execute_reply.started": "2023-03-02T17:20:25.843629Z"
    }
   },
   "outputs": [
    {
     "data": {
      "text/html": [
       "<div>\n",
       "<style scoped>\n",
       "    .dataframe tbody tr th:only-of-type {\n",
       "        vertical-align: middle;\n",
       "    }\n",
       "\n",
       "    .dataframe tbody tr th {\n",
       "        vertical-align: top;\n",
       "    }\n",
       "\n",
       "    .dataframe thead th {\n",
       "        text-align: right;\n",
       "    }\n",
       "</style>\n",
       "<table border=\"1\" class=\"dataframe\">\n",
       "  <thead>\n",
       "    <tr style=\"text-align: right;\">\n",
       "      <th></th>\n",
       "      <th>view_count</th>\n",
       "      <th>likes</th>\n",
       "      <th>dislikes</th>\n",
       "      <th>comment_count</th>\n",
       "    </tr>\n",
       "  </thead>\n",
       "  <tbody>\n",
       "    <tr>\n",
       "      <th>view_count</th>\n",
       "      <td>1.000000</td>\n",
       "      <td>0.857979</td>\n",
       "      <td>0.528837</td>\n",
       "      <td>0.596008</td>\n",
       "    </tr>\n",
       "    <tr>\n",
       "      <th>likes</th>\n",
       "      <td>0.857979</td>\n",
       "      <td>1.000000</td>\n",
       "      <td>0.513075</td>\n",
       "      <td>0.735359</td>\n",
       "    </tr>\n",
       "    <tr>\n",
       "      <th>dislikes</th>\n",
       "      <td>0.528837</td>\n",
       "      <td>0.513075</td>\n",
       "      <td>1.000000</td>\n",
       "      <td>0.438610</td>\n",
       "    </tr>\n",
       "    <tr>\n",
       "      <th>comment_count</th>\n",
       "      <td>0.596008</td>\n",
       "      <td>0.735359</td>\n",
       "      <td>0.438610</td>\n",
       "      <td>1.000000</td>\n",
       "    </tr>\n",
       "  </tbody>\n",
       "</table>\n",
       "</div>"
      ],
      "text/plain": [
       "               view_count     likes  dislikes  comment_count\n",
       "view_count       1.000000  0.857979  0.528837       0.596008\n",
       "likes            0.857979  1.000000  0.513075       0.735359\n",
       "dislikes         0.528837  0.513075  1.000000       0.438610\n",
       "comment_count    0.596008  0.735359  0.438610       1.000000"
      ]
     },
     "metadata": {},
     "output_type": "display_data"
    }
   ],
   "source": [
    "display(df_data)"
   ]
  },
  {
   "cell_type": "code",
   "execution_count": 11,
   "metadata": {
    "execution": {
     "iopub.execute_input": "2023-03-02T17:20:40.317814Z",
     "iopub.status.busy": "2023-03-02T17:20:40.317365Z",
     "iopub.status.idle": "2023-03-02T17:21:29.747075Z",
     "shell.execute_reply": "2023-03-02T17:21:29.745180Z",
     "shell.execute_reply.started": "2023-03-02T17:20:40.317752Z"
    }
   },
   "outputs": [],
   "source": [
    "col_list = ['video_id', 'view_count', 'likes', 'dislikes', 'comment_count']\n",
    "us_yt = pd.read_csv('../input/youtube-trending-video-dataset/US_youtube_trending_data.csv', usecols=col_list) #USA, remaking the dataframe in the same format as the others\n",
    "ca_yt = pd.read_csv('../input/youtube-trending-video-dataset/CA_youtube_trending_data.csv', usecols=col_list) #Canada\n",
    "de_yt = pd.read_csv('../input/youtube-trending-video-dataset/DE_youtube_trending_data.csv', usecols=col_list) #Germany\n",
    "fr_yt = pd.read_csv('../input/youtube-trending-video-dataset/FR_youtube_trending_data.csv', usecols=col_list) #France\n",
    "gb_yt = pd.read_csv('../input/youtube-trending-video-dataset/GB_youtube_trending_data.csv', usecols=col_list) #United Kingdom (Great Brittain)\n",
    "in_yt = pd.read_csv('../input/youtube-trending-video-dataset/IN_youtube_trending_data.csv', usecols=col_list) #India\n",
    "jp_yt = pd.read_csv('../input/youtube-trending-video-dataset/JP_youtube_trending_data.csv', usecols=col_list) #Japan\n",
    "kr_yt = pd.read_csv('../input/youtube-trending-video-dataset/KR_youtube_trending_data.csv', usecols=col_list) #South Korea\n",
    "mx_yt = pd.read_csv('../input/youtube-trending-video-dataset/MX_youtube_trending_data.csv', usecols=col_list) #Mexico\n",
    "ru_yt = pd.read_csv('../input/youtube-trending-video-dataset/RU_youtube_trending_data.csv', usecols=col_list) #Russia"
   ]
  },
  {
   "cell_type": "code",
   "execution_count": 12,
   "metadata": {
    "execution": {
     "iopub.execute_input": "2023-03-02T17:21:35.486022Z",
     "iopub.status.busy": "2023-03-02T17:21:35.485622Z",
     "iopub.status.idle": "2023-03-02T17:21:35.491845Z",
     "shell.execute_reply": "2023-03-02T17:21:35.490417Z",
     "shell.execute_reply.started": "2023-03-02T17:21:35.485991Z"
    }
   },
   "outputs": [],
   "source": [
    "df_list = [us_yt, ca_yt, de_yt, fr_yt, gb_yt, in_yt, jp_yt, kr_yt, mx_yt, ru_yt]\n",
    "df_name_list = ['United States', 'Canada', 'Germany', 'France', 'Great Brittain', 'India',\n",
    "                'Japan', 'South Korea', 'Mexico', 'Russia']"
   ]
  },
  {
   "cell_type": "code",
   "execution_count": 14,
   "metadata": {
    "execution": {
     "iopub.execute_input": "2023-03-02T17:22:18.387401Z",
     "iopub.status.busy": "2023-03-02T17:22:18.386746Z",
     "iopub.status.idle": "2023-03-02T17:22:18.411177Z",
     "shell.execute_reply": "2023-03-02T17:22:18.409789Z",
     "shell.execute_reply.started": "2023-03-02T17:22:18.387337Z"
    }
   },
   "outputs": [
    {
     "data": {
      "text/html": [
       "<div>\n",
       "<style scoped>\n",
       "    .dataframe tbody tr th:only-of-type {\n",
       "        vertical-align: middle;\n",
       "    }\n",
       "\n",
       "    .dataframe tbody tr th {\n",
       "        vertical-align: top;\n",
       "    }\n",
       "\n",
       "    .dataframe thead th {\n",
       "        text-align: right;\n",
       "    }\n",
       "</style>\n",
       "<table border=\"1\" class=\"dataframe\">\n",
       "  <thead>\n",
       "    <tr style=\"text-align: right;\">\n",
       "      <th></th>\n",
       "      <th>view_count</th>\n",
       "      <th>likes</th>\n",
       "      <th>dislikes</th>\n",
       "      <th>comment_count</th>\n",
       "    </tr>\n",
       "  </thead>\n",
       "  <tbody>\n",
       "  </tbody>\n",
       "</table>\n",
       "</div>"
      ],
      "text/plain": [
       "Empty DataFrame\n",
       "Columns: [view_count, likes, dislikes, comment_count]\n",
       "Index: []"
      ]
     },
     "metadata": {},
     "output_type": "display_data"
    },
    {
     "data": {
      "text/html": [
       "<div>\n",
       "<style scoped>\n",
       "    .dataframe tbody tr th:only-of-type {\n",
       "        vertical-align: middle;\n",
       "    }\n",
       "\n",
       "    .dataframe tbody tr th {\n",
       "        vertical-align: top;\n",
       "    }\n",
       "\n",
       "    .dataframe thead th {\n",
       "        text-align: right;\n",
       "    }\n",
       "</style>\n",
       "<table border=\"1\" class=\"dataframe\">\n",
       "  <thead>\n",
       "    <tr style=\"text-align: right;\">\n",
       "      <th></th>\n",
       "      <th>view_count</th>\n",
       "      <th>likes</th>\n",
       "      <th>dislikes</th>\n",
       "      <th>comment_count</th>\n",
       "    </tr>\n",
       "  </thead>\n",
       "  <tbody>\n",
       "  </tbody>\n",
       "</table>\n",
       "</div>"
      ],
      "text/plain": [
       "Empty DataFrame\n",
       "Columns: [view_count, likes, dislikes, comment_count]\n",
       "Index: []"
      ]
     },
     "metadata": {},
     "output_type": "display_data"
    }
   ],
   "source": [
    "views_df = pd.DataFrame(columns=['view_count', 'likes', 'dislikes', 'comment_count'])\n",
    "likes_df = pd.DataFrame(columns=['view_count', 'likes', 'dislikes', 'comment_count'])\n",
    "\n",
    "display(views_df, likes_df)"
   ]
  },
  {
   "cell_type": "code",
   "execution_count": 15,
   "metadata": {
    "execution": {
     "iopub.execute_input": "2023-03-02T17:22:23.809280Z",
     "iopub.status.busy": "2023-03-02T17:22:23.808858Z",
     "iopub.status.idle": "2023-03-02T17:22:23.817110Z",
     "shell.execute_reply": "2023-03-02T17:22:23.814928Z",
     "shell.execute_reply.started": "2023-03-02T17:22:23.809249Z"
    }
   },
   "outputs": [
    {
     "data": {
      "text/plain": [
       "'United States'"
      ]
     },
     "execution_count": 15,
     "metadata": {},
     "output_type": "execute_result"
    }
   ],
   "source": [
    "df_name_list[0]"
   ]
  },
  {
   "cell_type": "code",
   "execution_count": 25,
   "metadata": {
    "execution": {
     "iopub.execute_input": "2023-03-02T17:35:29.212328Z",
     "iopub.status.busy": "2023-03-02T17:35:29.211958Z",
     "iopub.status.idle": "2023-03-02T17:35:29.235417Z",
     "shell.execute_reply": "2023-03-02T17:35:29.233948Z",
     "shell.execute_reply.started": "2023-03-02T17:35:29.212297Z"
    }
   },
   "outputs": [
    {
     "name": "stdout",
     "output_type": "stream",
     "text": [
      "United States\n"
     ]
    },
    {
     "data": {
      "text/html": [
       "<div>\n",
       "<style scoped>\n",
       "    .dataframe tbody tr th:only-of-type {\n",
       "        vertical-align: middle;\n",
       "    }\n",
       "\n",
       "    .dataframe tbody tr th {\n",
       "        vertical-align: top;\n",
       "    }\n",
       "\n",
       "    .dataframe thead th {\n",
       "        text-align: right;\n",
       "    }\n",
       "</style>\n",
       "<table border=\"1\" class=\"dataframe\">\n",
       "  <thead>\n",
       "    <tr style=\"text-align: right;\">\n",
       "      <th></th>\n",
       "      <th>view_count</th>\n",
       "      <th>likes</th>\n",
       "      <th>dislikes</th>\n",
       "      <th>comment_count</th>\n",
       "    </tr>\n",
       "  </thead>\n",
       "  <tbody>\n",
       "    <tr>\n",
       "      <th>view_count</th>\n",
       "      <td>1.000000</td>\n",
       "      <td>0.857979</td>\n",
       "      <td>0.528837</td>\n",
       "      <td>0.596008</td>\n",
       "    </tr>\n",
       "    <tr>\n",
       "      <th>likes</th>\n",
       "      <td>0.857979</td>\n",
       "      <td>1.000000</td>\n",
       "      <td>0.513075</td>\n",
       "      <td>0.735359</td>\n",
       "    </tr>\n",
       "    <tr>\n",
       "      <th>dislikes</th>\n",
       "      <td>0.528837</td>\n",
       "      <td>0.513075</td>\n",
       "      <td>1.000000</td>\n",
       "      <td>0.438610</td>\n",
       "    </tr>\n",
       "    <tr>\n",
       "      <th>comment_count</th>\n",
       "      <td>0.596008</td>\n",
       "      <td>0.735359</td>\n",
       "      <td>0.438610</td>\n",
       "      <td>1.000000</td>\n",
       "    </tr>\n",
       "  </tbody>\n",
       "</table>\n",
       "</div>"
      ],
      "text/plain": [
       "               view_count     likes  dislikes  comment_count\n",
       "view_count       1.000000  0.857979  0.528837       0.596008\n",
       "likes            0.857979  1.000000  0.513075       0.735359\n",
       "dislikes         0.528837  0.513075  1.000000       0.438610\n",
       "comment_count    0.596008  0.735359  0.438610       1.000000"
      ]
     },
     "metadata": {},
     "output_type": "display_data"
    }
   ],
   "source": [
    "print(df_name_list[0])\n",
    "current_df = df_list[0]\n",
    "_x = current_df[corrolation_list].corr()\n",
    "display(_x)"
   ]
  },
  {
   "cell_type": "code",
   "execution_count": 26,
   "metadata": {
    "execution": {
     "iopub.execute_input": "2023-03-02T17:35:37.165794Z",
     "iopub.status.busy": "2023-03-02T17:35:37.165438Z",
     "iopub.status.idle": "2023-03-02T17:35:37.176099Z",
     "shell.execute_reply": "2023-03-02T17:35:37.175199Z",
     "shell.execute_reply.started": "2023-03-02T17:35:37.165750Z"
    }
   },
   "outputs": [
    {
     "data": {
      "text/html": [
       "<div>\n",
       "<style scoped>\n",
       "    .dataframe tbody tr th:only-of-type {\n",
       "        vertical-align: middle;\n",
       "    }\n",
       "\n",
       "    .dataframe tbody tr th {\n",
       "        vertical-align: top;\n",
       "    }\n",
       "\n",
       "    .dataframe thead th {\n",
       "        text-align: right;\n",
       "    }\n",
       "</style>\n",
       "<table border=\"1\" class=\"dataframe\">\n",
       "  <thead>\n",
       "    <tr style=\"text-align: right;\">\n",
       "      <th></th>\n",
       "      <th>video_id</th>\n",
       "      <th>view_count</th>\n",
       "      <th>likes</th>\n",
       "      <th>dislikes</th>\n",
       "      <th>comment_count</th>\n",
       "    </tr>\n",
       "  </thead>\n",
       "  <tbody>\n",
       "    <tr>\n",
       "      <th>0</th>\n",
       "      <td>3C66w5Z0ixs</td>\n",
       "      <td>1514614</td>\n",
       "      <td>156908</td>\n",
       "      <td>5855</td>\n",
       "      <td>35313</td>\n",
       "    </tr>\n",
       "    <tr>\n",
       "      <th>1</th>\n",
       "      <td>M9Pmf9AB4Mo</td>\n",
       "      <td>2381688</td>\n",
       "      <td>146739</td>\n",
       "      <td>2794</td>\n",
       "      <td>16549</td>\n",
       "    </tr>\n",
       "    <tr>\n",
       "      <th>2</th>\n",
       "      <td>J78aPJ3VyNs</td>\n",
       "      <td>2038853</td>\n",
       "      <td>353787</td>\n",
       "      <td>2628</td>\n",
       "      <td>40221</td>\n",
       "    </tr>\n",
       "    <tr>\n",
       "      <th>3</th>\n",
       "      <td>kXLn3HkpjaA</td>\n",
       "      <td>496771</td>\n",
       "      <td>23251</td>\n",
       "      <td>1856</td>\n",
       "      <td>7647</td>\n",
       "    </tr>\n",
       "    <tr>\n",
       "      <th>4</th>\n",
       "      <td>VIUo6yapDbc</td>\n",
       "      <td>1123889</td>\n",
       "      <td>45802</td>\n",
       "      <td>964</td>\n",
       "      <td>2196</td>\n",
       "    </tr>\n",
       "  </tbody>\n",
       "</table>\n",
       "</div>"
      ],
      "text/plain": [
       "      video_id  view_count   likes  dislikes  comment_count\n",
       "0  3C66w5Z0ixs     1514614  156908      5855          35313\n",
       "1  M9Pmf9AB4Mo     2381688  146739      2794          16549\n",
       "2  J78aPJ3VyNs     2038853  353787      2628          40221\n",
       "3  kXLn3HkpjaA      496771   23251      1856           7647\n",
       "4  VIUo6yapDbc     1123889   45802       964           2196"
      ]
     },
     "execution_count": 26,
     "metadata": {},
     "output_type": "execute_result"
    }
   ],
   "source": [
    "df_list[0].head()"
   ]
  },
  {
   "cell_type": "code",
   "execution_count": 27,
   "metadata": {
    "execution": {
     "iopub.execute_input": "2023-03-02T17:35:42.072503Z",
     "iopub.status.busy": "2023-03-02T17:35:42.070919Z",
     "iopub.status.idle": "2023-03-02T17:35:42.076502Z",
     "shell.execute_reply": "2023-03-02T17:35:42.075755Z",
     "shell.execute_reply.started": "2023-03-02T17:35:42.072450Z"
    }
   },
   "outputs": [],
   "source": [
    "current_df = df_list[0]"
   ]
  },
  {
   "cell_type": "code",
   "execution_count": 28,
   "metadata": {
    "execution": {
     "iopub.execute_input": "2023-03-02T17:36:05.113390Z",
     "iopub.status.busy": "2023-03-02T17:36:05.113063Z",
     "iopub.status.idle": "2023-03-02T17:36:05.129153Z",
     "shell.execute_reply": "2023-03-02T17:36:05.127672Z",
     "shell.execute_reply.started": "2023-03-02T17:36:05.113361Z"
    }
   },
   "outputs": [],
   "source": [
    "_x=current_df[corrolation_list].corr()"
   ]
  },
  {
   "cell_type": "code",
   "execution_count": 29,
   "metadata": {
    "execution": {
     "iopub.execute_input": "2023-03-02T17:36:08.293908Z",
     "iopub.status.busy": "2023-03-02T17:36:08.293546Z",
     "iopub.status.idle": "2023-03-02T17:36:08.310507Z",
     "shell.execute_reply": "2023-03-02T17:36:08.309049Z",
     "shell.execute_reply.started": "2023-03-02T17:36:08.293881Z"
    }
   },
   "outputs": [
    {
     "data": {
      "text/html": [
       "<div>\n",
       "<style scoped>\n",
       "    .dataframe tbody tr th:only-of-type {\n",
       "        vertical-align: middle;\n",
       "    }\n",
       "\n",
       "    .dataframe tbody tr th {\n",
       "        vertical-align: top;\n",
       "    }\n",
       "\n",
       "    .dataframe thead th {\n",
       "        text-align: right;\n",
       "    }\n",
       "</style>\n",
       "<table border=\"1\" class=\"dataframe\">\n",
       "  <thead>\n",
       "    <tr style=\"text-align: right;\">\n",
       "      <th></th>\n",
       "      <th>view_count</th>\n",
       "      <th>likes</th>\n",
       "      <th>dislikes</th>\n",
       "      <th>comment_count</th>\n",
       "    </tr>\n",
       "  </thead>\n",
       "  <tbody>\n",
       "    <tr>\n",
       "      <th>view_count</th>\n",
       "      <td>1.000000</td>\n",
       "      <td>0.857979</td>\n",
       "      <td>0.528837</td>\n",
       "      <td>0.596008</td>\n",
       "    </tr>\n",
       "    <tr>\n",
       "      <th>likes</th>\n",
       "      <td>0.857979</td>\n",
       "      <td>1.000000</td>\n",
       "      <td>0.513075</td>\n",
       "      <td>0.735359</td>\n",
       "    </tr>\n",
       "    <tr>\n",
       "      <th>dislikes</th>\n",
       "      <td>0.528837</td>\n",
       "      <td>0.513075</td>\n",
       "      <td>1.000000</td>\n",
       "      <td>0.438610</td>\n",
       "    </tr>\n",
       "    <tr>\n",
       "      <th>comment_count</th>\n",
       "      <td>0.596008</td>\n",
       "      <td>0.735359</td>\n",
       "      <td>0.438610</td>\n",
       "      <td>1.000000</td>\n",
       "    </tr>\n",
       "  </tbody>\n",
       "</table>\n",
       "</div>"
      ],
      "text/plain": [
       "               view_count     likes  dislikes  comment_count\n",
       "view_count       1.000000  0.857979  0.528837       0.596008\n",
       "likes            0.857979  1.000000  0.513075       0.735359\n",
       "dislikes         0.528837  0.513075  1.000000       0.438610\n",
       "comment_count    0.596008  0.735359  0.438610       1.000000"
      ]
     },
     "metadata": {},
     "output_type": "display_data"
    }
   ],
   "source": [
    "display(_x)"
   ]
  },
  {
   "cell_type": "code",
   "execution_count": 30,
   "metadata": {
    "execution": {
     "iopub.execute_input": "2023-03-02T17:36:11.883299Z",
     "iopub.status.busy": "2023-03-02T17:36:11.882942Z",
     "iopub.status.idle": "2023-03-02T17:36:11.896329Z",
     "shell.execute_reply": "2023-03-02T17:36:11.895616Z",
     "shell.execute_reply.started": "2023-03-02T17:36:11.883272Z"
    }
   },
   "outputs": [
    {
     "data": {
      "text/html": [
       "<div>\n",
       "<style scoped>\n",
       "    .dataframe tbody tr th:only-of-type {\n",
       "        vertical-align: middle;\n",
       "    }\n",
       "\n",
       "    .dataframe tbody tr th {\n",
       "        vertical-align: top;\n",
       "    }\n",
       "\n",
       "    .dataframe thead th {\n",
       "        text-align: right;\n",
       "    }\n",
       "</style>\n",
       "<table border=\"1\" class=\"dataframe\">\n",
       "  <thead>\n",
       "    <tr style=\"text-align: right;\">\n",
       "      <th></th>\n",
       "      <th>view_count</th>\n",
       "      <th>likes</th>\n",
       "      <th>dislikes</th>\n",
       "      <th>comment_count</th>\n",
       "    </tr>\n",
       "  </thead>\n",
       "  <tbody>\n",
       "    <tr>\n",
       "      <th>view_count</th>\n",
       "      <td>1.000000</td>\n",
       "      <td>0.857979</td>\n",
       "      <td>0.528837</td>\n",
       "      <td>0.596008</td>\n",
       "    </tr>\n",
       "    <tr>\n",
       "      <th>likes</th>\n",
       "      <td>0.857979</td>\n",
       "      <td>1.000000</td>\n",
       "      <td>0.513075</td>\n",
       "      <td>0.735359</td>\n",
       "    </tr>\n",
       "    <tr>\n",
       "      <th>dislikes</th>\n",
       "      <td>0.528837</td>\n",
       "      <td>0.513075</td>\n",
       "      <td>1.000000</td>\n",
       "      <td>0.438610</td>\n",
       "    </tr>\n",
       "    <tr>\n",
       "      <th>comment_count</th>\n",
       "      <td>0.596008</td>\n",
       "      <td>0.735359</td>\n",
       "      <td>0.438610</td>\n",
       "      <td>1.000000</td>\n",
       "    </tr>\n",
       "  </tbody>\n",
       "</table>\n",
       "</div>"
      ],
      "text/plain": [
       "               view_count     likes  dislikes  comment_count\n",
       "view_count       1.000000  0.857979  0.528837       0.596008\n",
       "likes            0.857979  1.000000  0.513075       0.735359\n",
       "dislikes         0.528837  0.513075  1.000000       0.438610\n",
       "comment_count    0.596008  0.735359  0.438610       1.000000"
      ]
     },
     "execution_count": 30,
     "metadata": {},
     "output_type": "execute_result"
    }
   ],
   "source": [
    "_x"
   ]
  },
  {
   "cell_type": "code",
   "execution_count": 31,
   "metadata": {
    "execution": {
     "iopub.execute_input": "2023-03-02T17:37:38.914279Z",
     "iopub.status.busy": "2023-03-02T17:37:38.913918Z",
     "iopub.status.idle": "2023-03-02T17:37:39.081768Z",
     "shell.execute_reply": "2023-03-02T17:37:39.080825Z",
     "shell.execute_reply.started": "2023-03-02T17:37:38.914249Z"
    }
   },
   "outputs": [
    {
     "name": "stdout",
     "output_type": "stream",
     "text": [
      "United States\n"
     ]
    },
    {
     "data": {
      "text/html": [
       "<div>\n",
       "<style scoped>\n",
       "    .dataframe tbody tr th:only-of-type {\n",
       "        vertical-align: middle;\n",
       "    }\n",
       "\n",
       "    .dataframe tbody tr th {\n",
       "        vertical-align: top;\n",
       "    }\n",
       "\n",
       "    .dataframe thead th {\n",
       "        text-align: right;\n",
       "    }\n",
       "</style>\n",
       "<table border=\"1\" class=\"dataframe\">\n",
       "  <thead>\n",
       "    <tr style=\"text-align: right;\">\n",
       "      <th></th>\n",
       "      <th>view_count</th>\n",
       "      <th>likes</th>\n",
       "      <th>dislikes</th>\n",
       "      <th>comment_count</th>\n",
       "    </tr>\n",
       "  </thead>\n",
       "  <tbody>\n",
       "    <tr>\n",
       "      <th>view_count</th>\n",
       "      <td>1.000000</td>\n",
       "      <td>0.857979</td>\n",
       "      <td>0.528837</td>\n",
       "      <td>0.596008</td>\n",
       "    </tr>\n",
       "    <tr>\n",
       "      <th>likes</th>\n",
       "      <td>0.857979</td>\n",
       "      <td>1.000000</td>\n",
       "      <td>0.513075</td>\n",
       "      <td>0.735359</td>\n",
       "    </tr>\n",
       "    <tr>\n",
       "      <th>dislikes</th>\n",
       "      <td>0.528837</td>\n",
       "      <td>0.513075</td>\n",
       "      <td>1.000000</td>\n",
       "      <td>0.438610</td>\n",
       "    </tr>\n",
       "    <tr>\n",
       "      <th>comment_count</th>\n",
       "      <td>0.596008</td>\n",
       "      <td>0.735359</td>\n",
       "      <td>0.438610</td>\n",
       "      <td>1.000000</td>\n",
       "    </tr>\n",
       "  </tbody>\n",
       "</table>\n",
       "</div>"
      ],
      "text/plain": [
       "               view_count     likes  dislikes  comment_count\n",
       "view_count       1.000000  0.857979  0.528837       0.596008\n",
       "likes            0.857979  1.000000  0.513075       0.735359\n",
       "dislikes         0.528837  0.513075  1.000000       0.438610\n",
       "comment_count    0.596008  0.735359  0.438610       1.000000"
      ]
     },
     "metadata": {},
     "output_type": "display_data"
    },
    {
     "name": "stdout",
     "output_type": "stream",
     "text": [
      "Canada\n"
     ]
    },
    {
     "data": {
      "text/html": [
       "<div>\n",
       "<style scoped>\n",
       "    .dataframe tbody tr th:only-of-type {\n",
       "        vertical-align: middle;\n",
       "    }\n",
       "\n",
       "    .dataframe tbody tr th {\n",
       "        vertical-align: top;\n",
       "    }\n",
       "\n",
       "    .dataframe thead th {\n",
       "        text-align: right;\n",
       "    }\n",
       "</style>\n",
       "<table border=\"1\" class=\"dataframe\">\n",
       "  <thead>\n",
       "    <tr style=\"text-align: right;\">\n",
       "      <th></th>\n",
       "      <th>view_count</th>\n",
       "      <th>likes</th>\n",
       "      <th>dislikes</th>\n",
       "      <th>comment_count</th>\n",
       "    </tr>\n",
       "  </thead>\n",
       "  <tbody>\n",
       "    <tr>\n",
       "      <th>view_count</th>\n",
       "      <td>1.000000</td>\n",
       "      <td>0.831215</td>\n",
       "      <td>0.599812</td>\n",
       "      <td>0.525251</td>\n",
       "    </tr>\n",
       "    <tr>\n",
       "      <th>likes</th>\n",
       "      <td>0.831215</td>\n",
       "      <td>1.000000</td>\n",
       "      <td>0.538719</td>\n",
       "      <td>0.697019</td>\n",
       "    </tr>\n",
       "    <tr>\n",
       "      <th>dislikes</th>\n",
       "      <td>0.599812</td>\n",
       "      <td>0.538719</td>\n",
       "      <td>1.000000</td>\n",
       "      <td>0.460017</td>\n",
       "    </tr>\n",
       "    <tr>\n",
       "      <th>comment_count</th>\n",
       "      <td>0.525251</td>\n",
       "      <td>0.697019</td>\n",
       "      <td>0.460017</td>\n",
       "      <td>1.000000</td>\n",
       "    </tr>\n",
       "  </tbody>\n",
       "</table>\n",
       "</div>"
      ],
      "text/plain": [
       "               view_count     likes  dislikes  comment_count\n",
       "view_count       1.000000  0.831215  0.599812       0.525251\n",
       "likes            0.831215  1.000000  0.538719       0.697019\n",
       "dislikes         0.599812  0.538719  1.000000       0.460017\n",
       "comment_count    0.525251  0.697019  0.460017       1.000000"
      ]
     },
     "metadata": {},
     "output_type": "display_data"
    },
    {
     "name": "stdout",
     "output_type": "stream",
     "text": [
      "Germany\n"
     ]
    },
    {
     "data": {
      "text/html": [
       "<div>\n",
       "<style scoped>\n",
       "    .dataframe tbody tr th:only-of-type {\n",
       "        vertical-align: middle;\n",
       "    }\n",
       "\n",
       "    .dataframe tbody tr th {\n",
       "        vertical-align: top;\n",
       "    }\n",
       "\n",
       "    .dataframe thead th {\n",
       "        text-align: right;\n",
       "    }\n",
       "</style>\n",
       "<table border=\"1\" class=\"dataframe\">\n",
       "  <thead>\n",
       "    <tr style=\"text-align: right;\">\n",
       "      <th></th>\n",
       "      <th>view_count</th>\n",
       "      <th>likes</th>\n",
       "      <th>dislikes</th>\n",
       "      <th>comment_count</th>\n",
       "    </tr>\n",
       "  </thead>\n",
       "  <tbody>\n",
       "    <tr>\n",
       "      <th>view_count</th>\n",
       "      <td>1.000000</td>\n",
       "      <td>0.845944</td>\n",
       "      <td>0.553385</td>\n",
       "      <td>0.533439</td>\n",
       "    </tr>\n",
       "    <tr>\n",
       "      <th>likes</th>\n",
       "      <td>0.845944</td>\n",
       "      <td>1.000000</td>\n",
       "      <td>0.506082</td>\n",
       "      <td>0.703184</td>\n",
       "    </tr>\n",
       "    <tr>\n",
       "      <th>dislikes</th>\n",
       "      <td>0.553385</td>\n",
       "      <td>0.506082</td>\n",
       "      <td>1.000000</td>\n",
       "      <td>0.454909</td>\n",
       "    </tr>\n",
       "    <tr>\n",
       "      <th>comment_count</th>\n",
       "      <td>0.533439</td>\n",
       "      <td>0.703184</td>\n",
       "      <td>0.454909</td>\n",
       "      <td>1.000000</td>\n",
       "    </tr>\n",
       "  </tbody>\n",
       "</table>\n",
       "</div>"
      ],
      "text/plain": [
       "               view_count     likes  dislikes  comment_count\n",
       "view_count       1.000000  0.845944  0.553385       0.533439\n",
       "likes            0.845944  1.000000  0.506082       0.703184\n",
       "dislikes         0.553385  0.506082  1.000000       0.454909\n",
       "comment_count    0.533439  0.703184  0.454909       1.000000"
      ]
     },
     "metadata": {},
     "output_type": "display_data"
    },
    {
     "name": "stdout",
     "output_type": "stream",
     "text": [
      "France\n"
     ]
    },
    {
     "data": {
      "text/html": [
       "<div>\n",
       "<style scoped>\n",
       "    .dataframe tbody tr th:only-of-type {\n",
       "        vertical-align: middle;\n",
       "    }\n",
       "\n",
       "    .dataframe tbody tr th {\n",
       "        vertical-align: top;\n",
       "    }\n",
       "\n",
       "    .dataframe thead th {\n",
       "        text-align: right;\n",
       "    }\n",
       "</style>\n",
       "<table border=\"1\" class=\"dataframe\">\n",
       "  <thead>\n",
       "    <tr style=\"text-align: right;\">\n",
       "      <th></th>\n",
       "      <th>view_count</th>\n",
       "      <th>likes</th>\n",
       "      <th>dislikes</th>\n",
       "      <th>comment_count</th>\n",
       "    </tr>\n",
       "  </thead>\n",
       "  <tbody>\n",
       "    <tr>\n",
       "      <th>view_count</th>\n",
       "      <td>1.000000</td>\n",
       "      <td>0.876204</td>\n",
       "      <td>0.560136</td>\n",
       "      <td>0.717249</td>\n",
       "    </tr>\n",
       "    <tr>\n",
       "      <th>likes</th>\n",
       "      <td>0.876204</td>\n",
       "      <td>1.000000</td>\n",
       "      <td>0.556488</td>\n",
       "      <td>0.795262</td>\n",
       "    </tr>\n",
       "    <tr>\n",
       "      <th>dislikes</th>\n",
       "      <td>0.560136</td>\n",
       "      <td>0.556488</td>\n",
       "      <td>1.000000</td>\n",
       "      <td>0.575066</td>\n",
       "    </tr>\n",
       "    <tr>\n",
       "      <th>comment_count</th>\n",
       "      <td>0.717249</td>\n",
       "      <td>0.795262</td>\n",
       "      <td>0.575066</td>\n",
       "      <td>1.000000</td>\n",
       "    </tr>\n",
       "  </tbody>\n",
       "</table>\n",
       "</div>"
      ],
      "text/plain": [
       "               view_count     likes  dislikes  comment_count\n",
       "view_count       1.000000  0.876204  0.560136       0.717249\n",
       "likes            0.876204  1.000000  0.556488       0.795262\n",
       "dislikes         0.560136  0.556488  1.000000       0.575066\n",
       "comment_count    0.717249  0.795262  0.575066       1.000000"
      ]
     },
     "metadata": {},
     "output_type": "display_data"
    },
    {
     "name": "stdout",
     "output_type": "stream",
     "text": [
      "Great Brittain\n"
     ]
    },
    {
     "data": {
      "text/html": [
       "<div>\n",
       "<style scoped>\n",
       "    .dataframe tbody tr th:only-of-type {\n",
       "        vertical-align: middle;\n",
       "    }\n",
       "\n",
       "    .dataframe tbody tr th {\n",
       "        vertical-align: top;\n",
       "    }\n",
       "\n",
       "    .dataframe thead th {\n",
       "        text-align: right;\n",
       "    }\n",
       "</style>\n",
       "<table border=\"1\" class=\"dataframe\">\n",
       "  <thead>\n",
       "    <tr style=\"text-align: right;\">\n",
       "      <th></th>\n",
       "      <th>view_count</th>\n",
       "      <th>likes</th>\n",
       "      <th>dislikes</th>\n",
       "      <th>comment_count</th>\n",
       "    </tr>\n",
       "  </thead>\n",
       "  <tbody>\n",
       "    <tr>\n",
       "      <th>view_count</th>\n",
       "      <td>1.000000</td>\n",
       "      <td>0.833602</td>\n",
       "      <td>0.563733</td>\n",
       "      <td>0.537599</td>\n",
       "    </tr>\n",
       "    <tr>\n",
       "      <th>likes</th>\n",
       "      <td>0.833602</td>\n",
       "      <td>1.000000</td>\n",
       "      <td>0.505950</td>\n",
       "      <td>0.707026</td>\n",
       "    </tr>\n",
       "    <tr>\n",
       "      <th>dislikes</th>\n",
       "      <td>0.563733</td>\n",
       "      <td>0.505950</td>\n",
       "      <td>1.000000</td>\n",
       "      <td>0.441411</td>\n",
       "    </tr>\n",
       "    <tr>\n",
       "      <th>comment_count</th>\n",
       "      <td>0.537599</td>\n",
       "      <td>0.707026</td>\n",
       "      <td>0.441411</td>\n",
       "      <td>1.000000</td>\n",
       "    </tr>\n",
       "  </tbody>\n",
       "</table>\n",
       "</div>"
      ],
      "text/plain": [
       "               view_count     likes  dislikes  comment_count\n",
       "view_count       1.000000  0.833602  0.563733       0.537599\n",
       "likes            0.833602  1.000000  0.505950       0.707026\n",
       "dislikes         0.563733  0.505950  1.000000       0.441411\n",
       "comment_count    0.537599  0.707026  0.441411       1.000000"
      ]
     },
     "metadata": {},
     "output_type": "display_data"
    },
    {
     "name": "stdout",
     "output_type": "stream",
     "text": [
      "India\n"
     ]
    },
    {
     "data": {
      "text/html": [
       "<div>\n",
       "<style scoped>\n",
       "    .dataframe tbody tr th:only-of-type {\n",
       "        vertical-align: middle;\n",
       "    }\n",
       "\n",
       "    .dataframe tbody tr th {\n",
       "        vertical-align: top;\n",
       "    }\n",
       "\n",
       "    .dataframe thead th {\n",
       "        text-align: right;\n",
       "    }\n",
       "</style>\n",
       "<table border=\"1\" class=\"dataframe\">\n",
       "  <thead>\n",
       "    <tr style=\"text-align: right;\">\n",
       "      <th></th>\n",
       "      <th>view_count</th>\n",
       "      <th>likes</th>\n",
       "      <th>dislikes</th>\n",
       "      <th>comment_count</th>\n",
       "    </tr>\n",
       "  </thead>\n",
       "  <tbody>\n",
       "    <tr>\n",
       "      <th>view_count</th>\n",
       "      <td>1.000000</td>\n",
       "      <td>0.807653</td>\n",
       "      <td>0.124489</td>\n",
       "      <td>0.470470</td>\n",
       "    </tr>\n",
       "    <tr>\n",
       "      <th>likes</th>\n",
       "      <td>0.807653</td>\n",
       "      <td>1.000000</td>\n",
       "      <td>0.074802</td>\n",
       "      <td>0.618247</td>\n",
       "    </tr>\n",
       "    <tr>\n",
       "      <th>dislikes</th>\n",
       "      <td>0.124489</td>\n",
       "      <td>0.074802</td>\n",
       "      <td>1.000000</td>\n",
       "      <td>0.154924</td>\n",
       "    </tr>\n",
       "    <tr>\n",
       "      <th>comment_count</th>\n",
       "      <td>0.470470</td>\n",
       "      <td>0.618247</td>\n",
       "      <td>0.154924</td>\n",
       "      <td>1.000000</td>\n",
       "    </tr>\n",
       "  </tbody>\n",
       "</table>\n",
       "</div>"
      ],
      "text/plain": [
       "               view_count     likes  dislikes  comment_count\n",
       "view_count       1.000000  0.807653  0.124489       0.470470\n",
       "likes            0.807653  1.000000  0.074802       0.618247\n",
       "dislikes         0.124489  0.074802  1.000000       0.154924\n",
       "comment_count    0.470470  0.618247  0.154924       1.000000"
      ]
     },
     "metadata": {},
     "output_type": "display_data"
    },
    {
     "name": "stdout",
     "output_type": "stream",
     "text": [
      "Japan\n"
     ]
    },
    {
     "data": {
      "text/html": [
       "<div>\n",
       "<style scoped>\n",
       "    .dataframe tbody tr th:only-of-type {\n",
       "        vertical-align: middle;\n",
       "    }\n",
       "\n",
       "    .dataframe tbody tr th {\n",
       "        vertical-align: top;\n",
       "    }\n",
       "\n",
       "    .dataframe thead th {\n",
       "        text-align: right;\n",
       "    }\n",
       "</style>\n",
       "<table border=\"1\" class=\"dataframe\">\n",
       "  <thead>\n",
       "    <tr style=\"text-align: right;\">\n",
       "      <th></th>\n",
       "      <th>view_count</th>\n",
       "      <th>likes</th>\n",
       "      <th>dislikes</th>\n",
       "      <th>comment_count</th>\n",
       "    </tr>\n",
       "  </thead>\n",
       "  <tbody>\n",
       "    <tr>\n",
       "      <th>view_count</th>\n",
       "      <td>1.000000</td>\n",
       "      <td>0.884619</td>\n",
       "      <td>0.553649</td>\n",
       "      <td>0.777745</td>\n",
       "    </tr>\n",
       "    <tr>\n",
       "      <th>likes</th>\n",
       "      <td>0.884619</td>\n",
       "      <td>1.000000</td>\n",
       "      <td>0.567729</td>\n",
       "      <td>0.824239</td>\n",
       "    </tr>\n",
       "    <tr>\n",
       "      <th>dislikes</th>\n",
       "      <td>0.553649</td>\n",
       "      <td>0.567729</td>\n",
       "      <td>1.000000</td>\n",
       "      <td>0.591082</td>\n",
       "    </tr>\n",
       "    <tr>\n",
       "      <th>comment_count</th>\n",
       "      <td>0.777745</td>\n",
       "      <td>0.824239</td>\n",
       "      <td>0.591082</td>\n",
       "      <td>1.000000</td>\n",
       "    </tr>\n",
       "  </tbody>\n",
       "</table>\n",
       "</div>"
      ],
      "text/plain": [
       "               view_count     likes  dislikes  comment_count\n",
       "view_count       1.000000  0.884619  0.553649       0.777745\n",
       "likes            0.884619  1.000000  0.567729       0.824239\n",
       "dislikes         0.553649  0.567729  1.000000       0.591082\n",
       "comment_count    0.777745  0.824239  0.591082       1.000000"
      ]
     },
     "metadata": {},
     "output_type": "display_data"
    },
    {
     "name": "stdout",
     "output_type": "stream",
     "text": [
      "South Korea\n"
     ]
    },
    {
     "data": {
      "text/html": [
       "<div>\n",
       "<style scoped>\n",
       "    .dataframe tbody tr th:only-of-type {\n",
       "        vertical-align: middle;\n",
       "    }\n",
       "\n",
       "    .dataframe tbody tr th {\n",
       "        vertical-align: top;\n",
       "    }\n",
       "\n",
       "    .dataframe thead th {\n",
       "        text-align: right;\n",
       "    }\n",
       "</style>\n",
       "<table border=\"1\" class=\"dataframe\">\n",
       "  <thead>\n",
       "    <tr style=\"text-align: right;\">\n",
       "      <th></th>\n",
       "      <th>view_count</th>\n",
       "      <th>likes</th>\n",
       "      <th>dislikes</th>\n",
       "      <th>comment_count</th>\n",
       "    </tr>\n",
       "  </thead>\n",
       "  <tbody>\n",
       "    <tr>\n",
       "      <th>view_count</th>\n",
       "      <td>1.000000</td>\n",
       "      <td>0.872127</td>\n",
       "      <td>0.510735</td>\n",
       "      <td>0.768647</td>\n",
       "    </tr>\n",
       "    <tr>\n",
       "      <th>likes</th>\n",
       "      <td>0.872127</td>\n",
       "      <td>1.000000</td>\n",
       "      <td>0.549738</td>\n",
       "      <td>0.814076</td>\n",
       "    </tr>\n",
       "    <tr>\n",
       "      <th>dislikes</th>\n",
       "      <td>0.510735</td>\n",
       "      <td>0.549738</td>\n",
       "      <td>1.000000</td>\n",
       "      <td>0.584562</td>\n",
       "    </tr>\n",
       "    <tr>\n",
       "      <th>comment_count</th>\n",
       "      <td>0.768647</td>\n",
       "      <td>0.814076</td>\n",
       "      <td>0.584562</td>\n",
       "      <td>1.000000</td>\n",
       "    </tr>\n",
       "  </tbody>\n",
       "</table>\n",
       "</div>"
      ],
      "text/plain": [
       "               view_count     likes  dislikes  comment_count\n",
       "view_count       1.000000  0.872127  0.510735       0.768647\n",
       "likes            0.872127  1.000000  0.549738       0.814076\n",
       "dislikes         0.510735  0.549738  1.000000       0.584562\n",
       "comment_count    0.768647  0.814076  0.584562       1.000000"
      ]
     },
     "metadata": {},
     "output_type": "display_data"
    },
    {
     "name": "stdout",
     "output_type": "stream",
     "text": [
      "Mexico\n"
     ]
    },
    {
     "data": {
      "text/html": [
       "<div>\n",
       "<style scoped>\n",
       "    .dataframe tbody tr th:only-of-type {\n",
       "        vertical-align: middle;\n",
       "    }\n",
       "\n",
       "    .dataframe tbody tr th {\n",
       "        vertical-align: top;\n",
       "    }\n",
       "\n",
       "    .dataframe thead th {\n",
       "        text-align: right;\n",
       "    }\n",
       "</style>\n",
       "<table border=\"1\" class=\"dataframe\">\n",
       "  <thead>\n",
       "    <tr style=\"text-align: right;\">\n",
       "      <th></th>\n",
       "      <th>view_count</th>\n",
       "      <th>likes</th>\n",
       "      <th>dislikes</th>\n",
       "      <th>comment_count</th>\n",
       "    </tr>\n",
       "  </thead>\n",
       "  <tbody>\n",
       "    <tr>\n",
       "      <th>view_count</th>\n",
       "      <td>1.000000</td>\n",
       "      <td>0.844619</td>\n",
       "      <td>0.505408</td>\n",
       "      <td>0.682985</td>\n",
       "    </tr>\n",
       "    <tr>\n",
       "      <th>likes</th>\n",
       "      <td>0.844619</td>\n",
       "      <td>1.000000</td>\n",
       "      <td>0.516366</td>\n",
       "      <td>0.755392</td>\n",
       "    </tr>\n",
       "    <tr>\n",
       "      <th>dislikes</th>\n",
       "      <td>0.505408</td>\n",
       "      <td>0.516366</td>\n",
       "      <td>1.000000</td>\n",
       "      <td>0.524613</td>\n",
       "    </tr>\n",
       "    <tr>\n",
       "      <th>comment_count</th>\n",
       "      <td>0.682985</td>\n",
       "      <td>0.755392</td>\n",
       "      <td>0.524613</td>\n",
       "      <td>1.000000</td>\n",
       "    </tr>\n",
       "  </tbody>\n",
       "</table>\n",
       "</div>"
      ],
      "text/plain": [
       "               view_count     likes  dislikes  comment_count\n",
       "view_count       1.000000  0.844619  0.505408       0.682985\n",
       "likes            0.844619  1.000000  0.516366       0.755392\n",
       "dislikes         0.505408  0.516366  1.000000       0.524613\n",
       "comment_count    0.682985  0.755392  0.524613       1.000000"
      ]
     },
     "metadata": {},
     "output_type": "display_data"
    },
    {
     "name": "stdout",
     "output_type": "stream",
     "text": [
      "Russia\n"
     ]
    },
    {
     "data": {
      "text/html": [
       "<div>\n",
       "<style scoped>\n",
       "    .dataframe tbody tr th:only-of-type {\n",
       "        vertical-align: middle;\n",
       "    }\n",
       "\n",
       "    .dataframe tbody tr th {\n",
       "        vertical-align: top;\n",
       "    }\n",
       "\n",
       "    .dataframe thead th {\n",
       "        text-align: right;\n",
       "    }\n",
       "</style>\n",
       "<table border=\"1\" class=\"dataframe\">\n",
       "  <thead>\n",
       "    <tr style=\"text-align: right;\">\n",
       "      <th></th>\n",
       "      <th>view_count</th>\n",
       "      <th>likes</th>\n",
       "      <th>dislikes</th>\n",
       "      <th>comment_count</th>\n",
       "    </tr>\n",
       "  </thead>\n",
       "  <tbody>\n",
       "    <tr>\n",
       "      <th>view_count</th>\n",
       "      <td>1.000000</td>\n",
       "      <td>0.857332</td>\n",
       "      <td>0.464623</td>\n",
       "      <td>0.641931</td>\n",
       "    </tr>\n",
       "    <tr>\n",
       "      <th>likes</th>\n",
       "      <td>0.857332</td>\n",
       "      <td>1.000000</td>\n",
       "      <td>0.469789</td>\n",
       "      <td>0.760687</td>\n",
       "    </tr>\n",
       "    <tr>\n",
       "      <th>dislikes</th>\n",
       "      <td>0.464623</td>\n",
       "      <td>0.469789</td>\n",
       "      <td>1.000000</td>\n",
       "      <td>0.468512</td>\n",
       "    </tr>\n",
       "    <tr>\n",
       "      <th>comment_count</th>\n",
       "      <td>0.641931</td>\n",
       "      <td>0.760687</td>\n",
       "      <td>0.468512</td>\n",
       "      <td>1.000000</td>\n",
       "    </tr>\n",
       "  </tbody>\n",
       "</table>\n",
       "</div>"
      ],
      "text/plain": [
       "               view_count     likes  dislikes  comment_count\n",
       "view_count       1.000000  0.857332  0.464623       0.641931\n",
       "likes            0.857332  1.000000  0.469789       0.760687\n",
       "dislikes         0.464623  0.469789  1.000000       0.468512\n",
       "comment_count    0.641931  0.760687  0.468512       1.000000"
      ]
     },
     "metadata": {},
     "output_type": "display_data"
    }
   ],
   "source": [
    "count = 0\n",
    "while count != 10:\n",
    "    print(df_name_list[count])\n",
    "    current_df = df_list[count]\n",
    "    _x = current_df[corrolation_list].corr()\n",
    "    display(_x)\n",
    "    count += 1"
   ]
  },
  {
   "cell_type": "code",
   "execution_count": 28,
   "metadata": {
    "execution": {
     "iopub.execute_input": "2022-12-17T16:07:48.922358Z",
     "iopub.status.busy": "2022-12-17T16:07:48.921530Z",
     "iopub.status.idle": "2022-12-17T16:07:48.934453Z",
     "shell.execute_reply": "2022-12-17T16:07:48.933299Z",
     "shell.execute_reply.started": "2022-12-17T16:07:48.922317Z"
    }
   },
   "outputs": [
    {
     "data": {
      "text/html": [
       "<div>\n",
       "<style scoped>\n",
       "    .dataframe tbody tr th:only-of-type {\n",
       "        vertical-align: middle;\n",
       "    }\n",
       "\n",
       "    .dataframe tbody tr th {\n",
       "        vertical-align: top;\n",
       "    }\n",
       "\n",
       "    .dataframe thead th {\n",
       "        text-align: right;\n",
       "    }\n",
       "</style>\n",
       "<table border=\"1\" class=\"dataframe\">\n",
       "  <thead>\n",
       "    <tr style=\"text-align: right;\">\n",
       "      <th></th>\n",
       "      <th>view_count</th>\n",
       "      <th>likes</th>\n",
       "      <th>dislikes</th>\n",
       "      <th>comment_count</th>\n",
       "    </tr>\n",
       "  </thead>\n",
       "  <tbody>\n",
       "    <tr>\n",
       "      <th>view_count</th>\n",
       "      <td>1.000000</td>\n",
       "      <td>0.860696</td>\n",
       "      <td>0.479372</td>\n",
       "      <td>0.655941</td>\n",
       "    </tr>\n",
       "    <tr>\n",
       "      <th>likes</th>\n",
       "      <td>0.860696</td>\n",
       "      <td>1.000000</td>\n",
       "      <td>0.477154</td>\n",
       "      <td>0.767718</td>\n",
       "    </tr>\n",
       "    <tr>\n",
       "      <th>dislikes</th>\n",
       "      <td>0.479372</td>\n",
       "      <td>0.477154</td>\n",
       "      <td>1.000000</td>\n",
       "      <td>0.468996</td>\n",
       "    </tr>\n",
       "    <tr>\n",
       "      <th>comment_count</th>\n",
       "      <td>0.655941</td>\n",
       "      <td>0.767718</td>\n",
       "      <td>0.468996</td>\n",
       "      <td>1.000000</td>\n",
       "    </tr>\n",
       "  </tbody>\n",
       "</table>\n",
       "</div>"
      ],
      "text/plain": [
       "               view_count     likes  dislikes  comment_count\n",
       "view_count       1.000000  0.860696  0.479372       0.655941\n",
       "likes            0.860696  1.000000  0.477154       0.767718\n",
       "dislikes         0.479372  0.477154  1.000000       0.468996\n",
       "comment_count    0.655941  0.767718  0.468996       1.000000"
      ]
     },
     "execution_count": 28,
     "metadata": {},
     "output_type": "execute_result"
    }
   ],
   "source": [
    "_x"
   ]
  },
  {
   "cell_type": "code",
   "execution_count": 30,
   "metadata": {
    "execution": {
     "iopub.execute_input": "2022-12-17T16:16:53.498646Z",
     "iopub.status.busy": "2022-12-17T16:16:53.498163Z",
     "iopub.status.idle": "2022-12-17T16:16:53.513608Z",
     "shell.execute_reply": "2022-12-17T16:16:53.511414Z",
     "shell.execute_reply.started": "2022-12-17T16:16:53.498600Z"
    }
   },
   "outputs": [
    {
     "data": {
      "text/plain": [
       "view_count       1.000000\n",
       "likes            0.860696\n",
       "dislikes         0.479372\n",
       "comment_count    0.655941\n",
       "Name: view_count, dtype: float64"
      ]
     },
     "execution_count": 30,
     "metadata": {},
     "output_type": "execute_result"
    }
   ],
   "source": [
    "_x.loc['view_count']"
   ]
  },
  {
   "cell_type": "code",
   "execution_count": 32,
   "metadata": {
    "execution": {
     "iopub.execute_input": "2023-03-02T17:38:05.443169Z",
     "iopub.status.busy": "2023-03-02T17:38:05.442817Z",
     "iopub.status.idle": "2023-03-02T17:38:05.450794Z",
     "shell.execute_reply": "2023-03-02T17:38:05.449914Z",
     "shell.execute_reply.started": "2023-03-02T17:38:05.443141Z"
    }
   },
   "outputs": [
    {
     "data": {
      "text/plain": [
       "view_count       0.857332\n",
       "likes            1.000000\n",
       "dislikes         0.469789\n",
       "comment_count    0.760687\n",
       "Name: likes, dtype: float64"
      ]
     },
     "execution_count": 32,
     "metadata": {},
     "output_type": "execute_result"
    }
   ],
   "source": [
    "_x.loc['likes']"
   ]
  },
  {
   "cell_type": "code",
   "execution_count": 33,
   "metadata": {
    "execution": {
     "iopub.execute_input": "2023-03-02T17:38:10.182198Z",
     "iopub.status.busy": "2023-03-02T17:38:10.181833Z",
     "iopub.status.idle": "2023-03-02T17:38:10.393678Z",
     "shell.execute_reply": "2023-03-02T17:38:10.392164Z",
     "shell.execute_reply.started": "2023-03-02T17:38:10.182172Z"
    }
   },
   "outputs": [
    {
     "name": "stdout",
     "output_type": "stream",
     "text": [
      "United States\n"
     ]
    },
    {
     "data": {
      "text/html": [
       "<div>\n",
       "<style scoped>\n",
       "    .dataframe tbody tr th:only-of-type {\n",
       "        vertical-align: middle;\n",
       "    }\n",
       "\n",
       "    .dataframe tbody tr th {\n",
       "        vertical-align: top;\n",
       "    }\n",
       "\n",
       "    .dataframe thead th {\n",
       "        text-align: right;\n",
       "    }\n",
       "</style>\n",
       "<table border=\"1\" class=\"dataframe\">\n",
       "  <thead>\n",
       "    <tr style=\"text-align: right;\">\n",
       "      <th></th>\n",
       "      <th>view_count</th>\n",
       "      <th>likes</th>\n",
       "      <th>dislikes</th>\n",
       "      <th>comment_count</th>\n",
       "    </tr>\n",
       "  </thead>\n",
       "  <tbody>\n",
       "    <tr>\n",
       "      <th>view_count</th>\n",
       "      <td>1.000000</td>\n",
       "      <td>0.857979</td>\n",
       "      <td>0.528837</td>\n",
       "      <td>0.596008</td>\n",
       "    </tr>\n",
       "    <tr>\n",
       "      <th>likes</th>\n",
       "      <td>0.857979</td>\n",
       "      <td>1.000000</td>\n",
       "      <td>0.513075</td>\n",
       "      <td>0.735359</td>\n",
       "    </tr>\n",
       "    <tr>\n",
       "      <th>dislikes</th>\n",
       "      <td>0.528837</td>\n",
       "      <td>0.513075</td>\n",
       "      <td>1.000000</td>\n",
       "      <td>0.438610</td>\n",
       "    </tr>\n",
       "    <tr>\n",
       "      <th>comment_count</th>\n",
       "      <td>0.596008</td>\n",
       "      <td>0.735359</td>\n",
       "      <td>0.438610</td>\n",
       "      <td>1.000000</td>\n",
       "    </tr>\n",
       "  </tbody>\n",
       "</table>\n",
       "</div>"
      ],
      "text/plain": [
       "               view_count     likes  dislikes  comment_count\n",
       "view_count       1.000000  0.857979  0.528837       0.596008\n",
       "likes            0.857979  1.000000  0.513075       0.735359\n",
       "dislikes         0.528837  0.513075  1.000000       0.438610\n",
       "comment_count    0.596008  0.735359  0.438610       1.000000"
      ]
     },
     "metadata": {},
     "output_type": "display_data"
    },
    {
     "name": "stdout",
     "output_type": "stream",
     "text": [
      "Canada\n"
     ]
    },
    {
     "data": {
      "text/html": [
       "<div>\n",
       "<style scoped>\n",
       "    .dataframe tbody tr th:only-of-type {\n",
       "        vertical-align: middle;\n",
       "    }\n",
       "\n",
       "    .dataframe tbody tr th {\n",
       "        vertical-align: top;\n",
       "    }\n",
       "\n",
       "    .dataframe thead th {\n",
       "        text-align: right;\n",
       "    }\n",
       "</style>\n",
       "<table border=\"1\" class=\"dataframe\">\n",
       "  <thead>\n",
       "    <tr style=\"text-align: right;\">\n",
       "      <th></th>\n",
       "      <th>view_count</th>\n",
       "      <th>likes</th>\n",
       "      <th>dislikes</th>\n",
       "      <th>comment_count</th>\n",
       "    </tr>\n",
       "  </thead>\n",
       "  <tbody>\n",
       "    <tr>\n",
       "      <th>view_count</th>\n",
       "      <td>1.000000</td>\n",
       "      <td>0.831215</td>\n",
       "      <td>0.599812</td>\n",
       "      <td>0.525251</td>\n",
       "    </tr>\n",
       "    <tr>\n",
       "      <th>likes</th>\n",
       "      <td>0.831215</td>\n",
       "      <td>1.000000</td>\n",
       "      <td>0.538719</td>\n",
       "      <td>0.697019</td>\n",
       "    </tr>\n",
       "    <tr>\n",
       "      <th>dislikes</th>\n",
       "      <td>0.599812</td>\n",
       "      <td>0.538719</td>\n",
       "      <td>1.000000</td>\n",
       "      <td>0.460017</td>\n",
       "    </tr>\n",
       "    <tr>\n",
       "      <th>comment_count</th>\n",
       "      <td>0.525251</td>\n",
       "      <td>0.697019</td>\n",
       "      <td>0.460017</td>\n",
       "      <td>1.000000</td>\n",
       "    </tr>\n",
       "  </tbody>\n",
       "</table>\n",
       "</div>"
      ],
      "text/plain": [
       "               view_count     likes  dislikes  comment_count\n",
       "view_count       1.000000  0.831215  0.599812       0.525251\n",
       "likes            0.831215  1.000000  0.538719       0.697019\n",
       "dislikes         0.599812  0.538719  1.000000       0.460017\n",
       "comment_count    0.525251  0.697019  0.460017       1.000000"
      ]
     },
     "metadata": {},
     "output_type": "display_data"
    },
    {
     "name": "stdout",
     "output_type": "stream",
     "text": [
      "Germany\n"
     ]
    },
    {
     "data": {
      "text/html": [
       "<div>\n",
       "<style scoped>\n",
       "    .dataframe tbody tr th:only-of-type {\n",
       "        vertical-align: middle;\n",
       "    }\n",
       "\n",
       "    .dataframe tbody tr th {\n",
       "        vertical-align: top;\n",
       "    }\n",
       "\n",
       "    .dataframe thead th {\n",
       "        text-align: right;\n",
       "    }\n",
       "</style>\n",
       "<table border=\"1\" class=\"dataframe\">\n",
       "  <thead>\n",
       "    <tr style=\"text-align: right;\">\n",
       "      <th></th>\n",
       "      <th>view_count</th>\n",
       "      <th>likes</th>\n",
       "      <th>dislikes</th>\n",
       "      <th>comment_count</th>\n",
       "    </tr>\n",
       "  </thead>\n",
       "  <tbody>\n",
       "    <tr>\n",
       "      <th>view_count</th>\n",
       "      <td>1.000000</td>\n",
       "      <td>0.845944</td>\n",
       "      <td>0.553385</td>\n",
       "      <td>0.533439</td>\n",
       "    </tr>\n",
       "    <tr>\n",
       "      <th>likes</th>\n",
       "      <td>0.845944</td>\n",
       "      <td>1.000000</td>\n",
       "      <td>0.506082</td>\n",
       "      <td>0.703184</td>\n",
       "    </tr>\n",
       "    <tr>\n",
       "      <th>dislikes</th>\n",
       "      <td>0.553385</td>\n",
       "      <td>0.506082</td>\n",
       "      <td>1.000000</td>\n",
       "      <td>0.454909</td>\n",
       "    </tr>\n",
       "    <tr>\n",
       "      <th>comment_count</th>\n",
       "      <td>0.533439</td>\n",
       "      <td>0.703184</td>\n",
       "      <td>0.454909</td>\n",
       "      <td>1.000000</td>\n",
       "    </tr>\n",
       "  </tbody>\n",
       "</table>\n",
       "</div>"
      ],
      "text/plain": [
       "               view_count     likes  dislikes  comment_count\n",
       "view_count       1.000000  0.845944  0.553385       0.533439\n",
       "likes            0.845944  1.000000  0.506082       0.703184\n",
       "dislikes         0.553385  0.506082  1.000000       0.454909\n",
       "comment_count    0.533439  0.703184  0.454909       1.000000"
      ]
     },
     "metadata": {},
     "output_type": "display_data"
    },
    {
     "name": "stdout",
     "output_type": "stream",
     "text": [
      "France\n"
     ]
    },
    {
     "data": {
      "text/html": [
       "<div>\n",
       "<style scoped>\n",
       "    .dataframe tbody tr th:only-of-type {\n",
       "        vertical-align: middle;\n",
       "    }\n",
       "\n",
       "    .dataframe tbody tr th {\n",
       "        vertical-align: top;\n",
       "    }\n",
       "\n",
       "    .dataframe thead th {\n",
       "        text-align: right;\n",
       "    }\n",
       "</style>\n",
       "<table border=\"1\" class=\"dataframe\">\n",
       "  <thead>\n",
       "    <tr style=\"text-align: right;\">\n",
       "      <th></th>\n",
       "      <th>view_count</th>\n",
       "      <th>likes</th>\n",
       "      <th>dislikes</th>\n",
       "      <th>comment_count</th>\n",
       "    </tr>\n",
       "  </thead>\n",
       "  <tbody>\n",
       "    <tr>\n",
       "      <th>view_count</th>\n",
       "      <td>1.000000</td>\n",
       "      <td>0.876204</td>\n",
       "      <td>0.560136</td>\n",
       "      <td>0.717249</td>\n",
       "    </tr>\n",
       "    <tr>\n",
       "      <th>likes</th>\n",
       "      <td>0.876204</td>\n",
       "      <td>1.000000</td>\n",
       "      <td>0.556488</td>\n",
       "      <td>0.795262</td>\n",
       "    </tr>\n",
       "    <tr>\n",
       "      <th>dislikes</th>\n",
       "      <td>0.560136</td>\n",
       "      <td>0.556488</td>\n",
       "      <td>1.000000</td>\n",
       "      <td>0.575066</td>\n",
       "    </tr>\n",
       "    <tr>\n",
       "      <th>comment_count</th>\n",
       "      <td>0.717249</td>\n",
       "      <td>0.795262</td>\n",
       "      <td>0.575066</td>\n",
       "      <td>1.000000</td>\n",
       "    </tr>\n",
       "  </tbody>\n",
       "</table>\n",
       "</div>"
      ],
      "text/plain": [
       "               view_count     likes  dislikes  comment_count\n",
       "view_count       1.000000  0.876204  0.560136       0.717249\n",
       "likes            0.876204  1.000000  0.556488       0.795262\n",
       "dislikes         0.560136  0.556488  1.000000       0.575066\n",
       "comment_count    0.717249  0.795262  0.575066       1.000000"
      ]
     },
     "metadata": {},
     "output_type": "display_data"
    },
    {
     "name": "stdout",
     "output_type": "stream",
     "text": [
      "Great Brittain\n"
     ]
    },
    {
     "data": {
      "text/html": [
       "<div>\n",
       "<style scoped>\n",
       "    .dataframe tbody tr th:only-of-type {\n",
       "        vertical-align: middle;\n",
       "    }\n",
       "\n",
       "    .dataframe tbody tr th {\n",
       "        vertical-align: top;\n",
       "    }\n",
       "\n",
       "    .dataframe thead th {\n",
       "        text-align: right;\n",
       "    }\n",
       "</style>\n",
       "<table border=\"1\" class=\"dataframe\">\n",
       "  <thead>\n",
       "    <tr style=\"text-align: right;\">\n",
       "      <th></th>\n",
       "      <th>view_count</th>\n",
       "      <th>likes</th>\n",
       "      <th>dislikes</th>\n",
       "      <th>comment_count</th>\n",
       "    </tr>\n",
       "  </thead>\n",
       "  <tbody>\n",
       "    <tr>\n",
       "      <th>view_count</th>\n",
       "      <td>1.000000</td>\n",
       "      <td>0.833602</td>\n",
       "      <td>0.563733</td>\n",
       "      <td>0.537599</td>\n",
       "    </tr>\n",
       "    <tr>\n",
       "      <th>likes</th>\n",
       "      <td>0.833602</td>\n",
       "      <td>1.000000</td>\n",
       "      <td>0.505950</td>\n",
       "      <td>0.707026</td>\n",
       "    </tr>\n",
       "    <tr>\n",
       "      <th>dislikes</th>\n",
       "      <td>0.563733</td>\n",
       "      <td>0.505950</td>\n",
       "      <td>1.000000</td>\n",
       "      <td>0.441411</td>\n",
       "    </tr>\n",
       "    <tr>\n",
       "      <th>comment_count</th>\n",
       "      <td>0.537599</td>\n",
       "      <td>0.707026</td>\n",
       "      <td>0.441411</td>\n",
       "      <td>1.000000</td>\n",
       "    </tr>\n",
       "  </tbody>\n",
       "</table>\n",
       "</div>"
      ],
      "text/plain": [
       "               view_count     likes  dislikes  comment_count\n",
       "view_count       1.000000  0.833602  0.563733       0.537599\n",
       "likes            0.833602  1.000000  0.505950       0.707026\n",
       "dislikes         0.563733  0.505950  1.000000       0.441411\n",
       "comment_count    0.537599  0.707026  0.441411       1.000000"
      ]
     },
     "metadata": {},
     "output_type": "display_data"
    },
    {
     "name": "stdout",
     "output_type": "stream",
     "text": [
      "India\n"
     ]
    },
    {
     "data": {
      "text/html": [
       "<div>\n",
       "<style scoped>\n",
       "    .dataframe tbody tr th:only-of-type {\n",
       "        vertical-align: middle;\n",
       "    }\n",
       "\n",
       "    .dataframe tbody tr th {\n",
       "        vertical-align: top;\n",
       "    }\n",
       "\n",
       "    .dataframe thead th {\n",
       "        text-align: right;\n",
       "    }\n",
       "</style>\n",
       "<table border=\"1\" class=\"dataframe\">\n",
       "  <thead>\n",
       "    <tr style=\"text-align: right;\">\n",
       "      <th></th>\n",
       "      <th>view_count</th>\n",
       "      <th>likes</th>\n",
       "      <th>dislikes</th>\n",
       "      <th>comment_count</th>\n",
       "    </tr>\n",
       "  </thead>\n",
       "  <tbody>\n",
       "    <tr>\n",
       "      <th>view_count</th>\n",
       "      <td>1.000000</td>\n",
       "      <td>0.807653</td>\n",
       "      <td>0.124489</td>\n",
       "      <td>0.470470</td>\n",
       "    </tr>\n",
       "    <tr>\n",
       "      <th>likes</th>\n",
       "      <td>0.807653</td>\n",
       "      <td>1.000000</td>\n",
       "      <td>0.074802</td>\n",
       "      <td>0.618247</td>\n",
       "    </tr>\n",
       "    <tr>\n",
       "      <th>dislikes</th>\n",
       "      <td>0.124489</td>\n",
       "      <td>0.074802</td>\n",
       "      <td>1.000000</td>\n",
       "      <td>0.154924</td>\n",
       "    </tr>\n",
       "    <tr>\n",
       "      <th>comment_count</th>\n",
       "      <td>0.470470</td>\n",
       "      <td>0.618247</td>\n",
       "      <td>0.154924</td>\n",
       "      <td>1.000000</td>\n",
       "    </tr>\n",
       "  </tbody>\n",
       "</table>\n",
       "</div>"
      ],
      "text/plain": [
       "               view_count     likes  dislikes  comment_count\n",
       "view_count       1.000000  0.807653  0.124489       0.470470\n",
       "likes            0.807653  1.000000  0.074802       0.618247\n",
       "dislikes         0.124489  0.074802  1.000000       0.154924\n",
       "comment_count    0.470470  0.618247  0.154924       1.000000"
      ]
     },
     "metadata": {},
     "output_type": "display_data"
    },
    {
     "name": "stdout",
     "output_type": "stream",
     "text": [
      "Japan\n"
     ]
    },
    {
     "data": {
      "text/html": [
       "<div>\n",
       "<style scoped>\n",
       "    .dataframe tbody tr th:only-of-type {\n",
       "        vertical-align: middle;\n",
       "    }\n",
       "\n",
       "    .dataframe tbody tr th {\n",
       "        vertical-align: top;\n",
       "    }\n",
       "\n",
       "    .dataframe thead th {\n",
       "        text-align: right;\n",
       "    }\n",
       "</style>\n",
       "<table border=\"1\" class=\"dataframe\">\n",
       "  <thead>\n",
       "    <tr style=\"text-align: right;\">\n",
       "      <th></th>\n",
       "      <th>view_count</th>\n",
       "      <th>likes</th>\n",
       "      <th>dislikes</th>\n",
       "      <th>comment_count</th>\n",
       "    </tr>\n",
       "  </thead>\n",
       "  <tbody>\n",
       "    <tr>\n",
       "      <th>view_count</th>\n",
       "      <td>1.000000</td>\n",
       "      <td>0.884619</td>\n",
       "      <td>0.553649</td>\n",
       "      <td>0.777745</td>\n",
       "    </tr>\n",
       "    <tr>\n",
       "      <th>likes</th>\n",
       "      <td>0.884619</td>\n",
       "      <td>1.000000</td>\n",
       "      <td>0.567729</td>\n",
       "      <td>0.824239</td>\n",
       "    </tr>\n",
       "    <tr>\n",
       "      <th>dislikes</th>\n",
       "      <td>0.553649</td>\n",
       "      <td>0.567729</td>\n",
       "      <td>1.000000</td>\n",
       "      <td>0.591082</td>\n",
       "    </tr>\n",
       "    <tr>\n",
       "      <th>comment_count</th>\n",
       "      <td>0.777745</td>\n",
       "      <td>0.824239</td>\n",
       "      <td>0.591082</td>\n",
       "      <td>1.000000</td>\n",
       "    </tr>\n",
       "  </tbody>\n",
       "</table>\n",
       "</div>"
      ],
      "text/plain": [
       "               view_count     likes  dislikes  comment_count\n",
       "view_count       1.000000  0.884619  0.553649       0.777745\n",
       "likes            0.884619  1.000000  0.567729       0.824239\n",
       "dislikes         0.553649  0.567729  1.000000       0.591082\n",
       "comment_count    0.777745  0.824239  0.591082       1.000000"
      ]
     },
     "metadata": {},
     "output_type": "display_data"
    },
    {
     "name": "stdout",
     "output_type": "stream",
     "text": [
      "South Korea\n"
     ]
    },
    {
     "data": {
      "text/html": [
       "<div>\n",
       "<style scoped>\n",
       "    .dataframe tbody tr th:only-of-type {\n",
       "        vertical-align: middle;\n",
       "    }\n",
       "\n",
       "    .dataframe tbody tr th {\n",
       "        vertical-align: top;\n",
       "    }\n",
       "\n",
       "    .dataframe thead th {\n",
       "        text-align: right;\n",
       "    }\n",
       "</style>\n",
       "<table border=\"1\" class=\"dataframe\">\n",
       "  <thead>\n",
       "    <tr style=\"text-align: right;\">\n",
       "      <th></th>\n",
       "      <th>view_count</th>\n",
       "      <th>likes</th>\n",
       "      <th>dislikes</th>\n",
       "      <th>comment_count</th>\n",
       "    </tr>\n",
       "  </thead>\n",
       "  <tbody>\n",
       "    <tr>\n",
       "      <th>view_count</th>\n",
       "      <td>1.000000</td>\n",
       "      <td>0.872127</td>\n",
       "      <td>0.510735</td>\n",
       "      <td>0.768647</td>\n",
       "    </tr>\n",
       "    <tr>\n",
       "      <th>likes</th>\n",
       "      <td>0.872127</td>\n",
       "      <td>1.000000</td>\n",
       "      <td>0.549738</td>\n",
       "      <td>0.814076</td>\n",
       "    </tr>\n",
       "    <tr>\n",
       "      <th>dislikes</th>\n",
       "      <td>0.510735</td>\n",
       "      <td>0.549738</td>\n",
       "      <td>1.000000</td>\n",
       "      <td>0.584562</td>\n",
       "    </tr>\n",
       "    <tr>\n",
       "      <th>comment_count</th>\n",
       "      <td>0.768647</td>\n",
       "      <td>0.814076</td>\n",
       "      <td>0.584562</td>\n",
       "      <td>1.000000</td>\n",
       "    </tr>\n",
       "  </tbody>\n",
       "</table>\n",
       "</div>"
      ],
      "text/plain": [
       "               view_count     likes  dislikes  comment_count\n",
       "view_count       1.000000  0.872127  0.510735       0.768647\n",
       "likes            0.872127  1.000000  0.549738       0.814076\n",
       "dislikes         0.510735  0.549738  1.000000       0.584562\n",
       "comment_count    0.768647  0.814076  0.584562       1.000000"
      ]
     },
     "metadata": {},
     "output_type": "display_data"
    },
    {
     "name": "stdout",
     "output_type": "stream",
     "text": [
      "Mexico\n"
     ]
    },
    {
     "data": {
      "text/html": [
       "<div>\n",
       "<style scoped>\n",
       "    .dataframe tbody tr th:only-of-type {\n",
       "        vertical-align: middle;\n",
       "    }\n",
       "\n",
       "    .dataframe tbody tr th {\n",
       "        vertical-align: top;\n",
       "    }\n",
       "\n",
       "    .dataframe thead th {\n",
       "        text-align: right;\n",
       "    }\n",
       "</style>\n",
       "<table border=\"1\" class=\"dataframe\">\n",
       "  <thead>\n",
       "    <tr style=\"text-align: right;\">\n",
       "      <th></th>\n",
       "      <th>view_count</th>\n",
       "      <th>likes</th>\n",
       "      <th>dislikes</th>\n",
       "      <th>comment_count</th>\n",
       "    </tr>\n",
       "  </thead>\n",
       "  <tbody>\n",
       "    <tr>\n",
       "      <th>view_count</th>\n",
       "      <td>1.000000</td>\n",
       "      <td>0.844619</td>\n",
       "      <td>0.505408</td>\n",
       "      <td>0.682985</td>\n",
       "    </tr>\n",
       "    <tr>\n",
       "      <th>likes</th>\n",
       "      <td>0.844619</td>\n",
       "      <td>1.000000</td>\n",
       "      <td>0.516366</td>\n",
       "      <td>0.755392</td>\n",
       "    </tr>\n",
       "    <tr>\n",
       "      <th>dislikes</th>\n",
       "      <td>0.505408</td>\n",
       "      <td>0.516366</td>\n",
       "      <td>1.000000</td>\n",
       "      <td>0.524613</td>\n",
       "    </tr>\n",
       "    <tr>\n",
       "      <th>comment_count</th>\n",
       "      <td>0.682985</td>\n",
       "      <td>0.755392</td>\n",
       "      <td>0.524613</td>\n",
       "      <td>1.000000</td>\n",
       "    </tr>\n",
       "  </tbody>\n",
       "</table>\n",
       "</div>"
      ],
      "text/plain": [
       "               view_count     likes  dislikes  comment_count\n",
       "view_count       1.000000  0.844619  0.505408       0.682985\n",
       "likes            0.844619  1.000000  0.516366       0.755392\n",
       "dislikes         0.505408  0.516366  1.000000       0.524613\n",
       "comment_count    0.682985  0.755392  0.524613       1.000000"
      ]
     },
     "metadata": {},
     "output_type": "display_data"
    },
    {
     "name": "stdout",
     "output_type": "stream",
     "text": [
      "Russia\n"
     ]
    },
    {
     "data": {
      "text/html": [
       "<div>\n",
       "<style scoped>\n",
       "    .dataframe tbody tr th:only-of-type {\n",
       "        vertical-align: middle;\n",
       "    }\n",
       "\n",
       "    .dataframe tbody tr th {\n",
       "        vertical-align: top;\n",
       "    }\n",
       "\n",
       "    .dataframe thead th {\n",
       "        text-align: right;\n",
       "    }\n",
       "</style>\n",
       "<table border=\"1\" class=\"dataframe\">\n",
       "  <thead>\n",
       "    <tr style=\"text-align: right;\">\n",
       "      <th></th>\n",
       "      <th>view_count</th>\n",
       "      <th>likes</th>\n",
       "      <th>dislikes</th>\n",
       "      <th>comment_count</th>\n",
       "    </tr>\n",
       "  </thead>\n",
       "  <tbody>\n",
       "    <tr>\n",
       "      <th>view_count</th>\n",
       "      <td>1.000000</td>\n",
       "      <td>0.857332</td>\n",
       "      <td>0.464623</td>\n",
       "      <td>0.641931</td>\n",
       "    </tr>\n",
       "    <tr>\n",
       "      <th>likes</th>\n",
       "      <td>0.857332</td>\n",
       "      <td>1.000000</td>\n",
       "      <td>0.469789</td>\n",
       "      <td>0.760687</td>\n",
       "    </tr>\n",
       "    <tr>\n",
       "      <th>dislikes</th>\n",
       "      <td>0.464623</td>\n",
       "      <td>0.469789</td>\n",
       "      <td>1.000000</td>\n",
       "      <td>0.468512</td>\n",
       "    </tr>\n",
       "    <tr>\n",
       "      <th>comment_count</th>\n",
       "      <td>0.641931</td>\n",
       "      <td>0.760687</td>\n",
       "      <td>0.468512</td>\n",
       "      <td>1.000000</td>\n",
       "    </tr>\n",
       "  </tbody>\n",
       "</table>\n",
       "</div>"
      ],
      "text/plain": [
       "               view_count     likes  dislikes  comment_count\n",
       "view_count       1.000000  0.857332  0.464623       0.641931\n",
       "likes            0.857332  1.000000  0.469789       0.760687\n",
       "dislikes         0.464623  0.469789  1.000000       0.468512\n",
       "comment_count    0.641931  0.760687  0.468512       1.000000"
      ]
     },
     "metadata": {},
     "output_type": "display_data"
    }
   ],
   "source": [
    "count = 0\n",
    "while count != 10:\n",
    "    print(df_name_list[count])\n",
    "    current_df = df_list[count]\n",
    "    _x = current_df[corrolation_list].corr()\n",
    "    display(_x)\n",
    "    views_df.loc[count] = _x.loc['view_count']\n",
    "    likes_df.loc[count] = _x.loc['likes']\n",
    "    count += 1"
   ]
  },
  {
   "cell_type": "code",
   "execution_count": 34,
   "metadata": {
    "execution": {
     "iopub.execute_input": "2023-03-02T17:38:16.724602Z",
     "iopub.status.busy": "2023-03-02T17:38:16.723948Z",
     "iopub.status.idle": "2023-03-02T17:38:16.740689Z",
     "shell.execute_reply": "2023-03-02T17:38:16.740019Z",
     "shell.execute_reply.started": "2023-03-02T17:38:16.724555Z"
    }
   },
   "outputs": [
    {
     "data": {
      "text/html": [
       "<div>\n",
       "<style scoped>\n",
       "    .dataframe tbody tr th:only-of-type {\n",
       "        vertical-align: middle;\n",
       "    }\n",
       "\n",
       "    .dataframe tbody tr th {\n",
       "        vertical-align: top;\n",
       "    }\n",
       "\n",
       "    .dataframe thead th {\n",
       "        text-align: right;\n",
       "    }\n",
       "</style>\n",
       "<table border=\"1\" class=\"dataframe\">\n",
       "  <thead>\n",
       "    <tr style=\"text-align: right;\">\n",
       "      <th></th>\n",
       "      <th>video_id</th>\n",
       "      <th>title</th>\n",
       "      <th>publishedAt</th>\n",
       "      <th>channelId</th>\n",
       "      <th>channelTitle</th>\n",
       "      <th>categoryId</th>\n",
       "      <th>trending_date</th>\n",
       "      <th>tags</th>\n",
       "      <th>view_count</th>\n",
       "      <th>likes</th>\n",
       "      <th>dislikes</th>\n",
       "      <th>comment_count</th>\n",
       "      <th>thumbnail_link</th>\n",
       "      <th>comments_disabled</th>\n",
       "      <th>ratings_disabled</th>\n",
       "      <th>description</th>\n",
       "    </tr>\n",
       "  </thead>\n",
       "  <tbody>\n",
       "    <tr>\n",
       "      <th>0</th>\n",
       "      <td>3C66w5Z0ixs</td>\n",
       "      <td>I ASKED HER TO BE MY GIRLFRIEND...</td>\n",
       "      <td>2020-08-11T19:20:14Z</td>\n",
       "      <td>UCvtRTOMP2TqYqu51xNrqAzg</td>\n",
       "      <td>Brawadis</td>\n",
       "      <td>22</td>\n",
       "      <td>2020-08-12T00:00:00Z</td>\n",
       "      <td>brawadis|prank|basketball|skits|ghost|funny vi...</td>\n",
       "      <td>1514614</td>\n",
       "      <td>156908</td>\n",
       "      <td>5855</td>\n",
       "      <td>35313</td>\n",
       "      <td>https://i.ytimg.com/vi/3C66w5Z0ixs/default.jpg</td>\n",
       "      <td>False</td>\n",
       "      <td>False</td>\n",
       "      <td>SUBSCRIBE to BRAWADIS ▶ http://bit.ly/Subscrib...</td>\n",
       "    </tr>\n",
       "    <tr>\n",
       "      <th>1</th>\n",
       "      <td>M9Pmf9AB4Mo</td>\n",
       "      <td>Apex Legends | Stories from the Outlands – “Th...</td>\n",
       "      <td>2020-08-11T17:00:10Z</td>\n",
       "      <td>UC0ZV6M2THA81QT9hrVWJG3A</td>\n",
       "      <td>Apex Legends</td>\n",
       "      <td>20</td>\n",
       "      <td>2020-08-12T00:00:00Z</td>\n",
       "      <td>Apex Legends|Apex Legends characters|new Apex ...</td>\n",
       "      <td>2381688</td>\n",
       "      <td>146739</td>\n",
       "      <td>2794</td>\n",
       "      <td>16549</td>\n",
       "      <td>https://i.ytimg.com/vi/M9Pmf9AB4Mo/default.jpg</td>\n",
       "      <td>False</td>\n",
       "      <td>False</td>\n",
       "      <td>While running her own modding shop, Ramya Pare...</td>\n",
       "    </tr>\n",
       "    <tr>\n",
       "      <th>2</th>\n",
       "      <td>J78aPJ3VyNs</td>\n",
       "      <td>I left youtube for a month and THIS is what ha...</td>\n",
       "      <td>2020-08-11T16:34:06Z</td>\n",
       "      <td>UCYzPXprvl5Y-Sf0g4vX-m6g</td>\n",
       "      <td>jacksepticeye</td>\n",
       "      <td>24</td>\n",
       "      <td>2020-08-12T00:00:00Z</td>\n",
       "      <td>jacksepticeye|funny|funny meme|memes|jacksepti...</td>\n",
       "      <td>2038853</td>\n",
       "      <td>353787</td>\n",
       "      <td>2628</td>\n",
       "      <td>40221</td>\n",
       "      <td>https://i.ytimg.com/vi/J78aPJ3VyNs/default.jpg</td>\n",
       "      <td>False</td>\n",
       "      <td>False</td>\n",
       "      <td>I left youtube for a month and this is what ha...</td>\n",
       "    </tr>\n",
       "    <tr>\n",
       "      <th>3</th>\n",
       "      <td>kXLn3HkpjaA</td>\n",
       "      <td>XXL 2020 Freshman Class Revealed - Official An...</td>\n",
       "      <td>2020-08-11T16:38:55Z</td>\n",
       "      <td>UCbg_UMjlHJg_19SZckaKajg</td>\n",
       "      <td>XXL</td>\n",
       "      <td>10</td>\n",
       "      <td>2020-08-12T00:00:00Z</td>\n",
       "      <td>xxl freshman|xxl freshmen|2020 xxl freshman|20...</td>\n",
       "      <td>496771</td>\n",
       "      <td>23251</td>\n",
       "      <td>1856</td>\n",
       "      <td>7647</td>\n",
       "      <td>https://i.ytimg.com/vi/kXLn3HkpjaA/default.jpg</td>\n",
       "      <td>False</td>\n",
       "      <td>False</td>\n",
       "      <td>Subscribe to XXL → http://bit.ly/subscribe-xxl...</td>\n",
       "    </tr>\n",
       "    <tr>\n",
       "      <th>4</th>\n",
       "      <td>VIUo6yapDbc</td>\n",
       "      <td>Ultimate DIY Home Movie Theater for The LaBran...</td>\n",
       "      <td>2020-08-11T15:10:05Z</td>\n",
       "      <td>UCDVPcEbVLQgLZX0Rt6jo34A</td>\n",
       "      <td>Mr. Kate</td>\n",
       "      <td>26</td>\n",
       "      <td>2020-08-12T00:00:00Z</td>\n",
       "      <td>The LaBrant Family|DIY|Interior Design|Makeove...</td>\n",
       "      <td>1123889</td>\n",
       "      <td>45802</td>\n",
       "      <td>964</td>\n",
       "      <td>2196</td>\n",
       "      <td>https://i.ytimg.com/vi/VIUo6yapDbc/default.jpg</td>\n",
       "      <td>False</td>\n",
       "      <td>False</td>\n",
       "      <td>Transforming The LaBrant Family's empty white ...</td>\n",
       "    </tr>\n",
       "  </tbody>\n",
       "</table>\n",
       "</div>"
      ],
      "text/plain": [
       "      video_id                                              title  \\\n",
       "0  3C66w5Z0ixs                 I ASKED HER TO BE MY GIRLFRIEND...   \n",
       "1  M9Pmf9AB4Mo  Apex Legends | Stories from the Outlands – “Th...   \n",
       "2  J78aPJ3VyNs  I left youtube for a month and THIS is what ha...   \n",
       "3  kXLn3HkpjaA  XXL 2020 Freshman Class Revealed - Official An...   \n",
       "4  VIUo6yapDbc  Ultimate DIY Home Movie Theater for The LaBran...   \n",
       "\n",
       "            publishedAt                 channelId   channelTitle  categoryId  \\\n",
       "0  2020-08-11T19:20:14Z  UCvtRTOMP2TqYqu51xNrqAzg       Brawadis          22   \n",
       "1  2020-08-11T17:00:10Z  UC0ZV6M2THA81QT9hrVWJG3A   Apex Legends          20   \n",
       "2  2020-08-11T16:34:06Z  UCYzPXprvl5Y-Sf0g4vX-m6g  jacksepticeye          24   \n",
       "3  2020-08-11T16:38:55Z  UCbg_UMjlHJg_19SZckaKajg            XXL          10   \n",
       "4  2020-08-11T15:10:05Z  UCDVPcEbVLQgLZX0Rt6jo34A       Mr. Kate          26   \n",
       "\n",
       "          trending_date                                               tags  \\\n",
       "0  2020-08-12T00:00:00Z  brawadis|prank|basketball|skits|ghost|funny vi...   \n",
       "1  2020-08-12T00:00:00Z  Apex Legends|Apex Legends characters|new Apex ...   \n",
       "2  2020-08-12T00:00:00Z  jacksepticeye|funny|funny meme|memes|jacksepti...   \n",
       "3  2020-08-12T00:00:00Z  xxl freshman|xxl freshmen|2020 xxl freshman|20...   \n",
       "4  2020-08-12T00:00:00Z  The LaBrant Family|DIY|Interior Design|Makeove...   \n",
       "\n",
       "   view_count   likes  dislikes  comment_count  \\\n",
       "0     1514614  156908      5855          35313   \n",
       "1     2381688  146739      2794          16549   \n",
       "2     2038853  353787      2628          40221   \n",
       "3      496771   23251      1856           7647   \n",
       "4     1123889   45802       964           2196   \n",
       "\n",
       "                                   thumbnail_link  comments_disabled  \\\n",
       "0  https://i.ytimg.com/vi/3C66w5Z0ixs/default.jpg              False   \n",
       "1  https://i.ytimg.com/vi/M9Pmf9AB4Mo/default.jpg              False   \n",
       "2  https://i.ytimg.com/vi/J78aPJ3VyNs/default.jpg              False   \n",
       "3  https://i.ytimg.com/vi/kXLn3HkpjaA/default.jpg              False   \n",
       "4  https://i.ytimg.com/vi/VIUo6yapDbc/default.jpg              False   \n",
       "\n",
       "   ratings_disabled                                        description  \n",
       "0             False  SUBSCRIBE to BRAWADIS ▶ http://bit.ly/Subscrib...  \n",
       "1             False  While running her own modding shop, Ramya Pare...  \n",
       "2             False  I left youtube for a month and this is what ha...  \n",
       "3             False  Subscribe to XXL → http://bit.ly/subscribe-xxl...  \n",
       "4             False  Transforming The LaBrant Family's empty white ...  "
      ]
     },
     "execution_count": 34,
     "metadata": {},
     "output_type": "execute_result"
    }
   ],
   "source": [
    "df.head()"
   ]
  },
  {
   "cell_type": "code",
   "execution_count": 35,
   "metadata": {
    "execution": {
     "iopub.execute_input": "2023-03-02T17:38:23.237943Z",
     "iopub.status.busy": "2023-03-02T17:38:23.237549Z",
     "iopub.status.idle": "2023-03-02T17:38:23.251097Z",
     "shell.execute_reply": "2023-03-02T17:38:23.249756Z",
     "shell.execute_reply.started": "2023-03-02T17:38:23.237909Z"
    }
   },
   "outputs": [
    {
     "data": {
      "text/html": [
       "<div>\n",
       "<style scoped>\n",
       "    .dataframe tbody tr th:only-of-type {\n",
       "        vertical-align: middle;\n",
       "    }\n",
       "\n",
       "    .dataframe tbody tr th {\n",
       "        vertical-align: top;\n",
       "    }\n",
       "\n",
       "    .dataframe thead th {\n",
       "        text-align: right;\n",
       "    }\n",
       "</style>\n",
       "<table border=\"1\" class=\"dataframe\">\n",
       "  <thead>\n",
       "    <tr style=\"text-align: right;\">\n",
       "      <th></th>\n",
       "      <th>view_count</th>\n",
       "      <th>likes</th>\n",
       "      <th>dislikes</th>\n",
       "      <th>comment_count</th>\n",
       "    </tr>\n",
       "  </thead>\n",
       "  <tbody>\n",
       "    <tr>\n",
       "      <th>0</th>\n",
       "      <td>1.0</td>\n",
       "      <td>0.857979</td>\n",
       "      <td>0.528837</td>\n",
       "      <td>0.596008</td>\n",
       "    </tr>\n",
       "    <tr>\n",
       "      <th>1</th>\n",
       "      <td>1.0</td>\n",
       "      <td>0.831215</td>\n",
       "      <td>0.599812</td>\n",
       "      <td>0.525251</td>\n",
       "    </tr>\n",
       "    <tr>\n",
       "      <th>2</th>\n",
       "      <td>1.0</td>\n",
       "      <td>0.845944</td>\n",
       "      <td>0.553385</td>\n",
       "      <td>0.533439</td>\n",
       "    </tr>\n",
       "    <tr>\n",
       "      <th>3</th>\n",
       "      <td>1.0</td>\n",
       "      <td>0.876204</td>\n",
       "      <td>0.560136</td>\n",
       "      <td>0.717249</td>\n",
       "    </tr>\n",
       "    <tr>\n",
       "      <th>4</th>\n",
       "      <td>1.0</td>\n",
       "      <td>0.833602</td>\n",
       "      <td>0.563733</td>\n",
       "      <td>0.537599</td>\n",
       "    </tr>\n",
       "    <tr>\n",
       "      <th>5</th>\n",
       "      <td>1.0</td>\n",
       "      <td>0.807653</td>\n",
       "      <td>0.124489</td>\n",
       "      <td>0.470470</td>\n",
       "    </tr>\n",
       "    <tr>\n",
       "      <th>6</th>\n",
       "      <td>1.0</td>\n",
       "      <td>0.884619</td>\n",
       "      <td>0.553649</td>\n",
       "      <td>0.777745</td>\n",
       "    </tr>\n",
       "    <tr>\n",
       "      <th>7</th>\n",
       "      <td>1.0</td>\n",
       "      <td>0.872127</td>\n",
       "      <td>0.510735</td>\n",
       "      <td>0.768647</td>\n",
       "    </tr>\n",
       "    <tr>\n",
       "      <th>8</th>\n",
       "      <td>1.0</td>\n",
       "      <td>0.844619</td>\n",
       "      <td>0.505408</td>\n",
       "      <td>0.682985</td>\n",
       "    </tr>\n",
       "    <tr>\n",
       "      <th>9</th>\n",
       "      <td>1.0</td>\n",
       "      <td>0.857332</td>\n",
       "      <td>0.464623</td>\n",
       "      <td>0.641931</td>\n",
       "    </tr>\n",
       "  </tbody>\n",
       "</table>\n",
       "</div>"
      ],
      "text/plain": [
       "   view_count     likes  dislikes  comment_count\n",
       "0         1.0  0.857979  0.528837       0.596008\n",
       "1         1.0  0.831215  0.599812       0.525251\n",
       "2         1.0  0.845944  0.553385       0.533439\n",
       "3         1.0  0.876204  0.560136       0.717249\n",
       "4         1.0  0.833602  0.563733       0.537599\n",
       "5         1.0  0.807653  0.124489       0.470470\n",
       "6         1.0  0.884619  0.553649       0.777745\n",
       "7         1.0  0.872127  0.510735       0.768647\n",
       "8         1.0  0.844619  0.505408       0.682985\n",
       "9         1.0  0.857332  0.464623       0.641931"
      ]
     },
     "execution_count": 35,
     "metadata": {},
     "output_type": "execute_result"
    }
   ],
   "source": [
    "views_df"
   ]
  },
  {
   "cell_type": "code",
   "execution_count": 36,
   "metadata": {
    "execution": {
     "iopub.execute_input": "2023-03-02T17:38:29.842395Z",
     "iopub.status.busy": "2023-03-02T17:38:29.842024Z",
     "iopub.status.idle": "2023-03-02T17:38:29.852235Z",
     "shell.execute_reply": "2023-03-02T17:38:29.850800Z",
     "shell.execute_reply.started": "2023-03-02T17:38:29.842365Z"
    }
   },
   "outputs": [
    {
     "data": {
      "text/plain": [
       "view_count       1.000000\n",
       "likes            0.857332\n",
       "dislikes         0.464623\n",
       "comment_count    0.641931\n",
       "Name: view_count, dtype: float64"
      ]
     },
     "execution_count": 36,
     "metadata": {},
     "output_type": "execute_result"
    }
   ],
   "source": [
    "_x.loc['view_count']"
   ]
  },
  {
   "cell_type": "code",
   "execution_count": 37,
   "metadata": {
    "execution": {
     "iopub.execute_input": "2023-03-02T17:38:34.093032Z",
     "iopub.status.busy": "2023-03-02T17:38:34.092614Z",
     "iopub.status.idle": "2023-03-02T17:38:34.101545Z",
     "shell.execute_reply": "2023-03-02T17:38:34.100224Z",
     "shell.execute_reply.started": "2023-03-02T17:38:34.092999Z"
    }
   },
   "outputs": [
    {
     "data": {
      "text/plain": [
       "view_count       0.857332\n",
       "likes            1.000000\n",
       "dislikes         0.469789\n",
       "comment_count    0.760687\n",
       "Name: likes, dtype: float64"
      ]
     },
     "execution_count": 37,
     "metadata": {},
     "output_type": "execute_result"
    }
   ],
   "source": [
    "_x.loc['likes']"
   ]
  },
  {
   "cell_type": "code",
   "execution_count": 38,
   "metadata": {
    "execution": {
     "iopub.execute_input": "2023-03-02T17:38:37.333235Z",
     "iopub.status.busy": "2023-03-02T17:38:37.332897Z",
     "iopub.status.idle": "2023-03-02T17:38:37.345107Z",
     "shell.execute_reply": "2023-03-02T17:38:37.344044Z",
     "shell.execute_reply.started": "2023-03-02T17:38:37.333210Z"
    }
   },
   "outputs": [
    {
     "data": {
      "text/html": [
       "<div>\n",
       "<style scoped>\n",
       "    .dataframe tbody tr th:only-of-type {\n",
       "        vertical-align: middle;\n",
       "    }\n",
       "\n",
       "    .dataframe tbody tr th {\n",
       "        vertical-align: top;\n",
       "    }\n",
       "\n",
       "    .dataframe thead th {\n",
       "        text-align: right;\n",
       "    }\n",
       "</style>\n",
       "<table border=\"1\" class=\"dataframe\">\n",
       "  <thead>\n",
       "    <tr style=\"text-align: right;\">\n",
       "      <th></th>\n",
       "      <th>view_count</th>\n",
       "      <th>likes</th>\n",
       "      <th>dislikes</th>\n",
       "      <th>comment_count</th>\n",
       "    </tr>\n",
       "  </thead>\n",
       "  <tbody>\n",
       "    <tr>\n",
       "      <th>0</th>\n",
       "      <td>0.857979</td>\n",
       "      <td>1.0</td>\n",
       "      <td>0.513075</td>\n",
       "      <td>0.735359</td>\n",
       "    </tr>\n",
       "    <tr>\n",
       "      <th>1</th>\n",
       "      <td>0.831215</td>\n",
       "      <td>1.0</td>\n",
       "      <td>0.538719</td>\n",
       "      <td>0.697019</td>\n",
       "    </tr>\n",
       "    <tr>\n",
       "      <th>2</th>\n",
       "      <td>0.845944</td>\n",
       "      <td>1.0</td>\n",
       "      <td>0.506082</td>\n",
       "      <td>0.703184</td>\n",
       "    </tr>\n",
       "    <tr>\n",
       "      <th>3</th>\n",
       "      <td>0.876204</td>\n",
       "      <td>1.0</td>\n",
       "      <td>0.556488</td>\n",
       "      <td>0.795262</td>\n",
       "    </tr>\n",
       "    <tr>\n",
       "      <th>4</th>\n",
       "      <td>0.833602</td>\n",
       "      <td>1.0</td>\n",
       "      <td>0.505950</td>\n",
       "      <td>0.707026</td>\n",
       "    </tr>\n",
       "    <tr>\n",
       "      <th>5</th>\n",
       "      <td>0.807653</td>\n",
       "      <td>1.0</td>\n",
       "      <td>0.074802</td>\n",
       "      <td>0.618247</td>\n",
       "    </tr>\n",
       "    <tr>\n",
       "      <th>6</th>\n",
       "      <td>0.884619</td>\n",
       "      <td>1.0</td>\n",
       "      <td>0.567729</td>\n",
       "      <td>0.824239</td>\n",
       "    </tr>\n",
       "    <tr>\n",
       "      <th>7</th>\n",
       "      <td>0.872127</td>\n",
       "      <td>1.0</td>\n",
       "      <td>0.549738</td>\n",
       "      <td>0.814076</td>\n",
       "    </tr>\n",
       "    <tr>\n",
       "      <th>8</th>\n",
       "      <td>0.844619</td>\n",
       "      <td>1.0</td>\n",
       "      <td>0.516366</td>\n",
       "      <td>0.755392</td>\n",
       "    </tr>\n",
       "    <tr>\n",
       "      <th>9</th>\n",
       "      <td>0.857332</td>\n",
       "      <td>1.0</td>\n",
       "      <td>0.469789</td>\n",
       "      <td>0.760687</td>\n",
       "    </tr>\n",
       "  </tbody>\n",
       "</table>\n",
       "</div>"
      ],
      "text/plain": [
       "   view_count  likes  dislikes  comment_count\n",
       "0    0.857979    1.0  0.513075       0.735359\n",
       "1    0.831215    1.0  0.538719       0.697019\n",
       "2    0.845944    1.0  0.506082       0.703184\n",
       "3    0.876204    1.0  0.556488       0.795262\n",
       "4    0.833602    1.0  0.505950       0.707026\n",
       "5    0.807653    1.0  0.074802       0.618247\n",
       "6    0.884619    1.0  0.567729       0.824239\n",
       "7    0.872127    1.0  0.549738       0.814076\n",
       "8    0.844619    1.0  0.516366       0.755392\n",
       "9    0.857332    1.0  0.469789       0.760687"
      ]
     },
     "execution_count": 38,
     "metadata": {},
     "output_type": "execute_result"
    }
   ],
   "source": [
    "likes_df"
   ]
  },
  {
   "cell_type": "code",
   "execution_count": 39,
   "metadata": {
    "execution": {
     "iopub.execute_input": "2023-03-02T17:38:41.571541Z",
     "iopub.status.busy": "2023-03-02T17:38:41.571147Z",
     "iopub.status.idle": "2023-03-02T17:38:42.118133Z",
     "shell.execute_reply": "2023-03-02T17:38:42.117074Z",
     "shell.execute_reply.started": "2023-03-02T17:38:41.571509Z"
    }
   },
   "outputs": [],
   "source": [
    "import matplotlib as plt\n",
    "import seaborn as sns\n",
    "import matplotlib.pyplot"
   ]
  },
  {
   "cell_type": "code",
   "execution_count": 44,
   "metadata": {
    "execution": {
     "iopub.execute_input": "2023-03-02T17:42:42.054289Z",
     "iopub.status.busy": "2023-03-02T17:42:42.053927Z",
     "iopub.status.idle": "2023-03-02T17:42:42.069719Z",
     "shell.execute_reply": "2023-03-02T17:42:42.068665Z",
     "shell.execute_reply.started": "2023-03-02T17:42:42.054257Z"
    }
   },
   "outputs": [
    {
     "data": {
      "text/html": [
       "<div>\n",
       "<style scoped>\n",
       "    .dataframe tbody tr th:only-of-type {\n",
       "        vertical-align: middle;\n",
       "    }\n",
       "\n",
       "    .dataframe tbody tr th {\n",
       "        vertical-align: top;\n",
       "    }\n",
       "\n",
       "    .dataframe thead th {\n",
       "        text-align: right;\n",
       "    }\n",
       "</style>\n",
       "<table border=\"1\" class=\"dataframe\">\n",
       "  <thead>\n",
       "    <tr style=\"text-align: right;\">\n",
       "      <th></th>\n",
       "      <th>view_count</th>\n",
       "      <th>likes</th>\n",
       "      <th>dislikes</th>\n",
       "      <th>comment_count</th>\n",
       "    </tr>\n",
       "  </thead>\n",
       "  <tbody>\n",
       "    <tr>\n",
       "      <th>0</th>\n",
       "      <td>0.857979</td>\n",
       "      <td>1.0</td>\n",
       "      <td>0.513075</td>\n",
       "      <td>0.735359</td>\n",
       "    </tr>\n",
       "    <tr>\n",
       "      <th>1</th>\n",
       "      <td>0.831215</td>\n",
       "      <td>1.0</td>\n",
       "      <td>0.538719</td>\n",
       "      <td>0.697019</td>\n",
       "    </tr>\n",
       "    <tr>\n",
       "      <th>2</th>\n",
       "      <td>0.845944</td>\n",
       "      <td>1.0</td>\n",
       "      <td>0.506082</td>\n",
       "      <td>0.703184</td>\n",
       "    </tr>\n",
       "    <tr>\n",
       "      <th>3</th>\n",
       "      <td>0.876204</td>\n",
       "      <td>1.0</td>\n",
       "      <td>0.556488</td>\n",
       "      <td>0.795262</td>\n",
       "    </tr>\n",
       "    <tr>\n",
       "      <th>4</th>\n",
       "      <td>0.833602</td>\n",
       "      <td>1.0</td>\n",
       "      <td>0.505950</td>\n",
       "      <td>0.707026</td>\n",
       "    </tr>\n",
       "    <tr>\n",
       "      <th>5</th>\n",
       "      <td>0.807653</td>\n",
       "      <td>1.0</td>\n",
       "      <td>0.074802</td>\n",
       "      <td>0.618247</td>\n",
       "    </tr>\n",
       "    <tr>\n",
       "      <th>6</th>\n",
       "      <td>0.884619</td>\n",
       "      <td>1.0</td>\n",
       "      <td>0.567729</td>\n",
       "      <td>0.824239</td>\n",
       "    </tr>\n",
       "    <tr>\n",
       "      <th>7</th>\n",
       "      <td>0.872127</td>\n",
       "      <td>1.0</td>\n",
       "      <td>0.549738</td>\n",
       "      <td>0.814076</td>\n",
       "    </tr>\n",
       "    <tr>\n",
       "      <th>8</th>\n",
       "      <td>0.844619</td>\n",
       "      <td>1.0</td>\n",
       "      <td>0.516366</td>\n",
       "      <td>0.755392</td>\n",
       "    </tr>\n",
       "    <tr>\n",
       "      <th>9</th>\n",
       "      <td>0.857332</td>\n",
       "      <td>1.0</td>\n",
       "      <td>0.469789</td>\n",
       "      <td>0.760687</td>\n",
       "    </tr>\n",
       "  </tbody>\n",
       "</table>\n",
       "</div>"
      ],
      "text/plain": [
       "   view_count  likes  dislikes  comment_count\n",
       "0    0.857979    1.0  0.513075       0.735359\n",
       "1    0.831215    1.0  0.538719       0.697019\n",
       "2    0.845944    1.0  0.506082       0.703184\n",
       "3    0.876204    1.0  0.556488       0.795262\n",
       "4    0.833602    1.0  0.505950       0.707026\n",
       "5    0.807653    1.0  0.074802       0.618247\n",
       "6    0.884619    1.0  0.567729       0.824239\n",
       "7    0.872127    1.0  0.549738       0.814076\n",
       "8    0.844619    1.0  0.516366       0.755392\n",
       "9    0.857332    1.0  0.469789       0.760687"
      ]
     },
     "metadata": {},
     "output_type": "display_data"
    }
   ],
   "source": [
    "views_df = likes_df.drop(axis=1, labels='view_count') #remove redundant column\n",
    "views_df.index = df_name_list\n",
    "display(likes_df)"
   ]
  },
  {
   "cell_type": "code",
   "execution_count": 46,
   "metadata": {
    "execution": {
     "iopub.execute_input": "2023-03-02T17:50:17.015172Z",
     "iopub.status.busy": "2023-03-02T17:50:17.014810Z",
     "iopub.status.idle": "2023-03-02T17:50:17.087706Z",
     "shell.execute_reply": "2023-03-02T17:50:17.086602Z",
     "shell.execute_reply.started": "2023-03-02T17:50:17.015143Z"
    }
   },
   "outputs": [
    {
     "data": {
      "text/html": [
       "<style type=\"text/css\">\n",
       "#T_6553e_row0_col0 {\n",
       "  background-color: #2a88bc;\n",
       "  color: #f1f1f1;\n",
       "}\n",
       "#T_6553e_row0_col1 {\n",
       "  background-color: #045687;\n",
       "  color: #f1f1f1;\n",
       "}\n",
       "#T_6553e_row0_col2 {\n",
       "  background-color: #529bc7;\n",
       "  color: #f1f1f1;\n",
       "}\n",
       "#T_6553e_row1_col0 {\n",
       "  background-color: #bdc8e1;\n",
       "  color: #000000;\n",
       "}\n",
       "#T_6553e_row1_col1 {\n",
       "  background-color: #034871;\n",
       "  color: #f1f1f1;\n",
       "}\n",
       "#T_6553e_row1_col2 {\n",
       "  background-color: #a4bcda;\n",
       "  color: #000000;\n",
       "}\n",
       "#T_6553e_row2_col0 {\n",
       "  background-color: #75a9cf;\n",
       "  color: #f1f1f1;\n",
       "}\n",
       "#T_6553e_row2_col1, #T_6553e_row4_col1 {\n",
       "  background-color: #045a8d;\n",
       "  color: #f1f1f1;\n",
       "}\n",
       "#T_6553e_row2_col2 {\n",
       "  background-color: #97b7d7;\n",
       "  color: #000000;\n",
       "}\n",
       "#T_6553e_row3_col0 {\n",
       "  background-color: #045585;\n",
       "  color: #f1f1f1;\n",
       "}\n",
       "#T_6553e_row3_col1 {\n",
       "  background-color: #023d60;\n",
       "  color: #f1f1f1;\n",
       "}\n",
       "#T_6553e_row3_col2 {\n",
       "  background-color: #045d92;\n",
       "  color: #f1f1f1;\n",
       "}\n",
       "#T_6553e_row4_col0 {\n",
       "  background-color: #b3c3de;\n",
       "  color: #000000;\n",
       "}\n",
       "#T_6553e_row4_col2 {\n",
       "  background-color: #8fb4d6;\n",
       "  color: #000000;\n",
       "}\n",
       "#T_6553e_row5_col0, #T_6553e_row5_col1, #T_6553e_row5_col2 {\n",
       "  background-color: #fff7fb;\n",
       "  color: #000000;\n",
       "}\n",
       "#T_6553e_row6_col0, #T_6553e_row6_col1, #T_6553e_row6_col2 {\n",
       "  background-color: #023858;\n",
       "  color: #f1f1f1;\n",
       "}\n",
       "#T_6553e_row7_col0 {\n",
       "  background-color: #046097;\n",
       "  color: #f1f1f1;\n",
       "}\n",
       "#T_6553e_row7_col1 {\n",
       "  background-color: #034267;\n",
       "  color: #f1f1f1;\n",
       "}\n",
       "#T_6553e_row7_col2 {\n",
       "  background-color: #03456c;\n",
       "  color: #f1f1f1;\n",
       "}\n",
       "#T_6553e_row8_col0 {\n",
       "  background-color: #7dacd1;\n",
       "  color: #f1f1f1;\n",
       "}\n",
       "#T_6553e_row8_col1 {\n",
       "  background-color: #045483;\n",
       "  color: #f1f1f1;\n",
       "}\n",
       "#T_6553e_row8_col2 {\n",
       "  background-color: #2685bb;\n",
       "  color: #f1f1f1;\n",
       "}\n",
       "#T_6553e_row9_col0 {\n",
       "  background-color: #2d8abd;\n",
       "  color: #f1f1f1;\n",
       "}\n",
       "#T_6553e_row9_col1 {\n",
       "  background-color: #0567a1;\n",
       "  color: #f1f1f1;\n",
       "}\n",
       "#T_6553e_row9_col2 {\n",
       "  background-color: #1b7eb7;\n",
       "  color: #f1f1f1;\n",
       "}\n",
       "</style>\n",
       "<table id=\"T_6553e_\">\n",
       "  <thead>\n",
       "    <tr>\n",
       "      <th class=\"blank level0\" >&nbsp;</th>\n",
       "      <th class=\"col_heading level0 col0\" >view_count</th>\n",
       "      <th class=\"col_heading level0 col1\" >dislikes</th>\n",
       "      <th class=\"col_heading level0 col2\" >comment_count</th>\n",
       "    </tr>\n",
       "  </thead>\n",
       "  <tbody>\n",
       "    <tr>\n",
       "      <th id=\"T_6553e_level0_row0\" class=\"row_heading level0 row0\" >United States</th>\n",
       "      <td id=\"T_6553e_row0_col0\" class=\"data row0 col0\" >0.857979</td>\n",
       "      <td id=\"T_6553e_row0_col1\" class=\"data row0 col1\" >0.513075</td>\n",
       "      <td id=\"T_6553e_row0_col2\" class=\"data row0 col2\" >0.735359</td>\n",
       "    </tr>\n",
       "    <tr>\n",
       "      <th id=\"T_6553e_level0_row1\" class=\"row_heading level0 row1\" >Canada</th>\n",
       "      <td id=\"T_6553e_row1_col0\" class=\"data row1 col0\" >0.831215</td>\n",
       "      <td id=\"T_6553e_row1_col1\" class=\"data row1 col1\" >0.538719</td>\n",
       "      <td id=\"T_6553e_row1_col2\" class=\"data row1 col2\" >0.697019</td>\n",
       "    </tr>\n",
       "    <tr>\n",
       "      <th id=\"T_6553e_level0_row2\" class=\"row_heading level0 row2\" >Germany</th>\n",
       "      <td id=\"T_6553e_row2_col0\" class=\"data row2 col0\" >0.845944</td>\n",
       "      <td id=\"T_6553e_row2_col1\" class=\"data row2 col1\" >0.506082</td>\n",
       "      <td id=\"T_6553e_row2_col2\" class=\"data row2 col2\" >0.703184</td>\n",
       "    </tr>\n",
       "    <tr>\n",
       "      <th id=\"T_6553e_level0_row3\" class=\"row_heading level0 row3\" >France</th>\n",
       "      <td id=\"T_6553e_row3_col0\" class=\"data row3 col0\" >0.876204</td>\n",
       "      <td id=\"T_6553e_row3_col1\" class=\"data row3 col1\" >0.556488</td>\n",
       "      <td id=\"T_6553e_row3_col2\" class=\"data row3 col2\" >0.795262</td>\n",
       "    </tr>\n",
       "    <tr>\n",
       "      <th id=\"T_6553e_level0_row4\" class=\"row_heading level0 row4\" >Great Brittain</th>\n",
       "      <td id=\"T_6553e_row4_col0\" class=\"data row4 col0\" >0.833602</td>\n",
       "      <td id=\"T_6553e_row4_col1\" class=\"data row4 col1\" >0.505950</td>\n",
       "      <td id=\"T_6553e_row4_col2\" class=\"data row4 col2\" >0.707026</td>\n",
       "    </tr>\n",
       "    <tr>\n",
       "      <th id=\"T_6553e_level0_row5\" class=\"row_heading level0 row5\" >India</th>\n",
       "      <td id=\"T_6553e_row5_col0\" class=\"data row5 col0\" >0.807653</td>\n",
       "      <td id=\"T_6553e_row5_col1\" class=\"data row5 col1\" >0.074802</td>\n",
       "      <td id=\"T_6553e_row5_col2\" class=\"data row5 col2\" >0.618247</td>\n",
       "    </tr>\n",
       "    <tr>\n",
       "      <th id=\"T_6553e_level0_row6\" class=\"row_heading level0 row6\" >Japan</th>\n",
       "      <td id=\"T_6553e_row6_col0\" class=\"data row6 col0\" >0.884619</td>\n",
       "      <td id=\"T_6553e_row6_col1\" class=\"data row6 col1\" >0.567729</td>\n",
       "      <td id=\"T_6553e_row6_col2\" class=\"data row6 col2\" >0.824239</td>\n",
       "    </tr>\n",
       "    <tr>\n",
       "      <th id=\"T_6553e_level0_row7\" class=\"row_heading level0 row7\" >South Korea</th>\n",
       "      <td id=\"T_6553e_row7_col0\" class=\"data row7 col0\" >0.872127</td>\n",
       "      <td id=\"T_6553e_row7_col1\" class=\"data row7 col1\" >0.549738</td>\n",
       "      <td id=\"T_6553e_row7_col2\" class=\"data row7 col2\" >0.814076</td>\n",
       "    </tr>\n",
       "    <tr>\n",
       "      <th id=\"T_6553e_level0_row8\" class=\"row_heading level0 row8\" >Mexico</th>\n",
       "      <td id=\"T_6553e_row8_col0\" class=\"data row8 col0\" >0.844619</td>\n",
       "      <td id=\"T_6553e_row8_col1\" class=\"data row8 col1\" >0.516366</td>\n",
       "      <td id=\"T_6553e_row8_col2\" class=\"data row8 col2\" >0.755392</td>\n",
       "    </tr>\n",
       "    <tr>\n",
       "      <th id=\"T_6553e_level0_row9\" class=\"row_heading level0 row9\" >Russia</th>\n",
       "      <td id=\"T_6553e_row9_col0\" class=\"data row9 col0\" >0.857332</td>\n",
       "      <td id=\"T_6553e_row9_col1\" class=\"data row9 col1\" >0.469789</td>\n",
       "      <td id=\"T_6553e_row9_col2\" class=\"data row9 col2\" >0.760687</td>\n",
       "    </tr>\n",
       "  </tbody>\n",
       "</table>\n"
      ],
      "text/plain": [
       "<pandas.io.formats.style.Styler at 0x7fbde8960690>"
      ]
     },
     "metadata": {},
     "output_type": "display_data"
    }
   ],
   "source": [
    "likes_df = likes_df.drop(axis=1, labels='likes') #remove redundant column\n",
    "likes_df.index = df_name_list\n",
    "display(likes_df.style.background_gradient())"
   ]
  },
  {
   "cell_type": "code",
   "execution_count": 47,
   "metadata": {
    "execution": {
     "iopub.execute_input": "2023-03-02T17:50:21.693617Z",
     "iopub.status.busy": "2023-03-02T17:50:21.693201Z",
     "iopub.status.idle": "2023-03-02T17:50:21.712691Z",
     "shell.execute_reply": "2023-03-02T17:50:21.711128Z",
     "shell.execute_reply.started": "2023-03-02T17:50:21.693586Z"
    }
   },
   "outputs": [
    {
     "data": {
      "text/html": [
       "<style type=\"text/css\">\n",
       "#T_d3564_row0_col0 {\n",
       "  background-color: #2a88bc;\n",
       "  color: #f1f1f1;\n",
       "}\n",
       "#T_d3564_row0_col1 {\n",
       "  background-color: #529bc7;\n",
       "  color: #f1f1f1;\n",
       "}\n",
       "#T_d3564_row1_col0 {\n",
       "  background-color: #bdc8e1;\n",
       "  color: #000000;\n",
       "}\n",
       "#T_d3564_row1_col1 {\n",
       "  background-color: #a4bcda;\n",
       "  color: #000000;\n",
       "}\n",
       "#T_d3564_row2_col0 {\n",
       "  background-color: #75a9cf;\n",
       "  color: #f1f1f1;\n",
       "}\n",
       "#T_d3564_row2_col1 {\n",
       "  background-color: #97b7d7;\n",
       "  color: #000000;\n",
       "}\n",
       "#T_d3564_row3_col0 {\n",
       "  background-color: #045585;\n",
       "  color: #f1f1f1;\n",
       "}\n",
       "#T_d3564_row3_col1 {\n",
       "  background-color: #045d92;\n",
       "  color: #f1f1f1;\n",
       "}\n",
       "#T_d3564_row4_col0 {\n",
       "  background-color: #b3c3de;\n",
       "  color: #000000;\n",
       "}\n",
       "#T_d3564_row4_col1 {\n",
       "  background-color: #8fb4d6;\n",
       "  color: #000000;\n",
       "}\n",
       "#T_d3564_row5_col0, #T_d3564_row5_col1 {\n",
       "  background-color: #fff7fb;\n",
       "  color: #000000;\n",
       "}\n",
       "#T_d3564_row6_col0, #T_d3564_row6_col1 {\n",
       "  background-color: #023858;\n",
       "  color: #f1f1f1;\n",
       "}\n",
       "#T_d3564_row7_col0 {\n",
       "  background-color: #046097;\n",
       "  color: #f1f1f1;\n",
       "}\n",
       "#T_d3564_row7_col1 {\n",
       "  background-color: #03456c;\n",
       "  color: #f1f1f1;\n",
       "}\n",
       "#T_d3564_row8_col0 {\n",
       "  background-color: #7dacd1;\n",
       "  color: #f1f1f1;\n",
       "}\n",
       "#T_d3564_row8_col1 {\n",
       "  background-color: #2685bb;\n",
       "  color: #f1f1f1;\n",
       "}\n",
       "#T_d3564_row9_col0 {\n",
       "  background-color: #2d8abd;\n",
       "  color: #f1f1f1;\n",
       "}\n",
       "#T_d3564_row9_col1 {\n",
       "  background-color: #1b7eb7;\n",
       "  color: #f1f1f1;\n",
       "}\n",
       "</style>\n",
       "<table id=\"T_d3564_\">\n",
       "  <thead>\n",
       "    <tr>\n",
       "      <th class=\"blank level0\" >&nbsp;</th>\n",
       "      <th class=\"col_heading level0 col0\" >view_count</th>\n",
       "      <th class=\"col_heading level0 col1\" >comment_count</th>\n",
       "    </tr>\n",
       "  </thead>\n",
       "  <tbody>\n",
       "    <tr>\n",
       "      <th id=\"T_d3564_level0_row0\" class=\"row_heading level0 row0\" >United States</th>\n",
       "      <td id=\"T_d3564_row0_col0\" class=\"data row0 col0\" >0.857979</td>\n",
       "      <td id=\"T_d3564_row0_col1\" class=\"data row0 col1\" >0.735359</td>\n",
       "    </tr>\n",
       "    <tr>\n",
       "      <th id=\"T_d3564_level0_row1\" class=\"row_heading level0 row1\" >Canada</th>\n",
       "      <td id=\"T_d3564_row1_col0\" class=\"data row1 col0\" >0.831215</td>\n",
       "      <td id=\"T_d3564_row1_col1\" class=\"data row1 col1\" >0.697019</td>\n",
       "    </tr>\n",
       "    <tr>\n",
       "      <th id=\"T_d3564_level0_row2\" class=\"row_heading level0 row2\" >Germany</th>\n",
       "      <td id=\"T_d3564_row2_col0\" class=\"data row2 col0\" >0.845944</td>\n",
       "      <td id=\"T_d3564_row2_col1\" class=\"data row2 col1\" >0.703184</td>\n",
       "    </tr>\n",
       "    <tr>\n",
       "      <th id=\"T_d3564_level0_row3\" class=\"row_heading level0 row3\" >France</th>\n",
       "      <td id=\"T_d3564_row3_col0\" class=\"data row3 col0\" >0.876204</td>\n",
       "      <td id=\"T_d3564_row3_col1\" class=\"data row3 col1\" >0.795262</td>\n",
       "    </tr>\n",
       "    <tr>\n",
       "      <th id=\"T_d3564_level0_row4\" class=\"row_heading level0 row4\" >Great Brittain</th>\n",
       "      <td id=\"T_d3564_row4_col0\" class=\"data row4 col0\" >0.833602</td>\n",
       "      <td id=\"T_d3564_row4_col1\" class=\"data row4 col1\" >0.707026</td>\n",
       "    </tr>\n",
       "    <tr>\n",
       "      <th id=\"T_d3564_level0_row5\" class=\"row_heading level0 row5\" >India</th>\n",
       "      <td id=\"T_d3564_row5_col0\" class=\"data row5 col0\" >0.807653</td>\n",
       "      <td id=\"T_d3564_row5_col1\" class=\"data row5 col1\" >0.618247</td>\n",
       "    </tr>\n",
       "    <tr>\n",
       "      <th id=\"T_d3564_level0_row6\" class=\"row_heading level0 row6\" >Japan</th>\n",
       "      <td id=\"T_d3564_row6_col0\" class=\"data row6 col0\" >0.884619</td>\n",
       "      <td id=\"T_d3564_row6_col1\" class=\"data row6 col1\" >0.824239</td>\n",
       "    </tr>\n",
       "    <tr>\n",
       "      <th id=\"T_d3564_level0_row7\" class=\"row_heading level0 row7\" >South Korea</th>\n",
       "      <td id=\"T_d3564_row7_col0\" class=\"data row7 col0\" >0.872127</td>\n",
       "      <td id=\"T_d3564_row7_col1\" class=\"data row7 col1\" >0.814076</td>\n",
       "    </tr>\n",
       "    <tr>\n",
       "      <th id=\"T_d3564_level0_row8\" class=\"row_heading level0 row8\" >Mexico</th>\n",
       "      <td id=\"T_d3564_row8_col0\" class=\"data row8 col0\" >0.844619</td>\n",
       "      <td id=\"T_d3564_row8_col1\" class=\"data row8 col1\" >0.755392</td>\n",
       "    </tr>\n",
       "    <tr>\n",
       "      <th id=\"T_d3564_level0_row9\" class=\"row_heading level0 row9\" >Russia</th>\n",
       "      <td id=\"T_d3564_row9_col0\" class=\"data row9 col0\" >0.857332</td>\n",
       "      <td id=\"T_d3564_row9_col1\" class=\"data row9 col1\" >0.760687</td>\n",
       "    </tr>\n",
       "  </tbody>\n",
       "</table>\n"
      ],
      "text/plain": [
       "<pandas.io.formats.style.Styler at 0x7fbde8671e10>"
      ]
     },
     "metadata": {},
     "output_type": "display_data"
    }
   ],
   "source": [
    "dislikes_df = likes_df.drop(axis=1, labels='dislikes') #remove redundant column\n",
    "dislikes_df.index = df_name_list\n",
    "display(dislikes_df.style.background_gradient()) ## Master Data frame with all the corrolation coefficients in relation to likes"
   ]
  },
  {
   "cell_type": "code",
   "execution_count": 48,
   "metadata": {
    "execution": {
     "iopub.execute_input": "2023-03-02T17:50:25.957911Z",
     "iopub.status.busy": "2023-03-02T17:50:25.957353Z",
     "iopub.status.idle": "2023-03-02T17:50:26.310164Z",
     "shell.execute_reply": "2023-03-02T17:50:26.308711Z",
     "shell.execute_reply.started": "2023-03-02T17:50:25.957880Z"
    }
   },
   "outputs": [
    {
     "data": {
      "image/png": "[encoded data removed]",
      "text/plain": [
       "<Figure size 576x432 with 2 Axes>"
      ]
     },
     "metadata": {
      "needs_background": "light"
     },
     "output_type": "display_data"
    }
   ],
   "source": [
    "matplotlib.pyplot.figure(figsize=(8,6))\n",
    "sns.heatmap(likes_df, annot=True, linewidths=.5);"
   ]
  },
  {
   "cell_type": "code",
   "execution_count": 49,
   "metadata": {
    "execution": {
     "iopub.execute_input": "2023-03-02T17:50:32.251528Z",
     "iopub.status.busy": "2023-03-02T17:50:32.251122Z",
     "iopub.status.idle": "2023-03-02T17:50:32.256217Z",
     "shell.execute_reply": "2023-03-02T17:50:32.255178Z",
     "shell.execute_reply.started": "2023-03-02T17:50:32.251497Z"
    }
   },
   "outputs": [],
   "source": [
    "current_df=df_list[0]"
   ]
  },
  {
   "cell_type": "code",
   "execution_count": 50,
   "metadata": {
    "execution": {
     "iopub.execute_input": "2023-03-02T17:50:35.773470Z",
     "iopub.status.busy": "2023-03-02T17:50:35.773086Z",
     "iopub.status.idle": "2023-03-02T17:50:35.780255Z",
     "shell.execute_reply": "2023-03-02T17:50:35.779122Z",
     "shell.execute_reply.started": "2023-03-02T17:50:35.773439Z"
    }
   },
   "outputs": [
    {
     "data": {
      "text/plain": [
       "187390"
      ]
     },
     "execution_count": 50,
     "metadata": {},
     "output_type": "execute_result"
    }
   ],
   "source": [
    "len(current_df)"
   ]
  },
  {
   "cell_type": "code",
   "execution_count": 51,
   "metadata": {
    "execution": {
     "iopub.execute_input": "2023-03-02T17:50:38.962110Z",
     "iopub.status.busy": "2023-03-02T17:50:38.961688Z",
     "iopub.status.idle": "2023-03-02T17:50:38.973809Z",
     "shell.execute_reply": "2023-03-02T17:50:38.972954Z",
     "shell.execute_reply.started": "2023-03-02T17:50:38.962077Z"
    }
   },
   "outputs": [
    {
     "data": {
      "text/html": [
       "<div>\n",
       "<style scoped>\n",
       "    .dataframe tbody tr th:only-of-type {\n",
       "        vertical-align: middle;\n",
       "    }\n",
       "\n",
       "    .dataframe tbody tr th {\n",
       "        vertical-align: top;\n",
       "    }\n",
       "\n",
       "    .dataframe thead th {\n",
       "        text-align: right;\n",
       "    }\n",
       "</style>\n",
       "<table border=\"1\" class=\"dataframe\">\n",
       "  <thead>\n",
       "    <tr style=\"text-align: right;\">\n",
       "      <th></th>\n",
       "      <th>view_count</th>\n",
       "      <th>likes</th>\n",
       "      <th>dislikes</th>\n",
       "      <th>comment_count</th>\n",
       "      <th>country</th>\n",
       "    </tr>\n",
       "  </thead>\n",
       "  <tbody>\n",
       "  </tbody>\n",
       "</table>\n",
       "</div>"
      ],
      "text/plain": [
       "Empty DataFrame\n",
       "Columns: [view_count, likes, dislikes, comment_count, country]\n",
       "Index: []"
      ]
     },
     "metadata": {},
     "output_type": "display_data"
    }
   ],
   "source": [
    "Master_df = pd.DataFrame(columns=['view_count', 'likes', 'dislikes', 'comment_count', 'country'])\n",
    "display(Master_df)"
   ]
  },
  {
   "cell_type": "code",
   "execution_count": 52,
   "metadata": {
    "execution": {
     "iopub.execute_input": "2023-03-02T17:50:41.649668Z",
     "iopub.status.busy": "2023-03-02T17:50:41.649257Z",
     "iopub.status.idle": "2023-03-02T17:50:48.100525Z",
     "shell.execute_reply": "2023-03-02T17:50:48.099206Z",
     "shell.execute_reply.started": "2023-03-02T17:50:41.649632Z"
    }
   },
   "outputs": [
    {
     "name": "stdout",
     "output_type": "stream",
     "text": [
      "1853719\n"
     ]
    }
   ],
   "source": [
    "count = 0\n",
    "entries = 0\n",
    "while count != 10:\n",
    "    current_df = df_list[count]\n",
    "    entries = entries + len(current_df)\n",
    "    country_name = df_name_list[count]\n",
    "    current_df['country'] = country_name\n",
    "    Master_df = pd.merge(Master_df, current_df, how='outer')\n",
    "    count += 1\n",
    "print(entries)"
   ]
  },
  {
   "cell_type": "code",
   "execution_count": 53,
   "metadata": {
    "execution": {
     "iopub.execute_input": "2023-03-02T17:50:48.103158Z",
     "iopub.status.busy": "2023-03-02T17:50:48.102715Z",
     "iopub.status.idle": "2023-03-02T17:50:48.268890Z",
     "shell.execute_reply": "2023-03-02T17:50:48.267865Z",
     "shell.execute_reply.started": "2023-03-02T17:50:48.103114Z"
    }
   },
   "outputs": [
    {
     "data": {
      "text/html": [
       "<div>\n",
       "<style scoped>\n",
       "    .dataframe tbody tr th:only-of-type {\n",
       "        vertical-align: middle;\n",
       "    }\n",
       "\n",
       "    .dataframe tbody tr th {\n",
       "        vertical-align: top;\n",
       "    }\n",
       "\n",
       "    .dataframe thead th {\n",
       "        text-align: right;\n",
       "    }\n",
       "</style>\n",
       "<table border=\"1\" class=\"dataframe\">\n",
       "  <thead>\n",
       "    <tr style=\"text-align: right;\">\n",
       "      <th></th>\n",
       "      <th>view_count</th>\n",
       "      <th>likes</th>\n",
       "      <th>dislikes</th>\n",
       "      <th>comment_count</th>\n",
       "    </tr>\n",
       "  </thead>\n",
       "  <tbody>\n",
       "    <tr>\n",
       "      <th>view_count</th>\n",
       "      <td>1.000000</td>\n",
       "      <td>0.846588</td>\n",
       "      <td>0.191307</td>\n",
       "      <td>0.616863</td>\n",
       "    </tr>\n",
       "    <tr>\n",
       "      <th>likes</th>\n",
       "      <td>0.846588</td>\n",
       "      <td>1.000000</td>\n",
       "      <td>0.168560</td>\n",
       "      <td>0.737447</td>\n",
       "    </tr>\n",
       "    <tr>\n",
       "      <th>dislikes</th>\n",
       "      <td>0.191307</td>\n",
       "      <td>0.168560</td>\n",
       "      <td>1.000000</td>\n",
       "      <td>0.184358</td>\n",
       "    </tr>\n",
       "    <tr>\n",
       "      <th>comment_count</th>\n",
       "      <td>0.616863</td>\n",
       "      <td>0.737447</td>\n",
       "      <td>0.184358</td>\n",
       "      <td>1.000000</td>\n",
       "    </tr>\n",
       "  </tbody>\n",
       "</table>\n",
       "</div>"
      ],
      "text/plain": [
       "               view_count     likes  dislikes  comment_count\n",
       "view_count       1.000000  0.846588  0.191307       0.616863\n",
       "likes            0.846588  1.000000  0.168560       0.737447\n",
       "dislikes         0.191307  0.168560  1.000000       0.184358\n",
       "comment_count    0.616863  0.737447  0.184358       1.000000"
      ]
     },
     "execution_count": 53,
     "metadata": {},
     "output_type": "execute_result"
    }
   ],
   "source": [
    "Master_df[corrolation_list].corr()"
   ]
  },
  {
   "cell_type": "code",
   "execution_count": 57,
   "metadata": {
    "execution": {
     "iopub.execute_input": "2023-03-02T17:53:42.528180Z",
     "iopub.status.busy": "2023-03-02T17:53:42.527856Z",
     "iopub.status.idle": "2023-03-02T17:53:42.645743Z",
     "shell.execute_reply": "2023-03-02T17:53:42.644277Z",
     "shell.execute_reply.started": "2023-03-02T17:53:42.528155Z"
    }
   },
   "outputs": [
    {
     "data": {
      "text/html": [
       "<style type=\"text/css\">\n",
       "#T_b1242_row0_col0, #T_b1242_row1_col1, #T_b1242_row2_col2, #T_b1242_row3_col3 {\n",
       "  background-color: #023858;\n",
       "  color: #f1f1f1;\n",
       "}\n",
       "#T_b1242_row0_col1 {\n",
       "  background-color: #04649e;\n",
       "  color: #f1f1f1;\n",
       "}\n",
       "#T_b1242_row0_col2 {\n",
       "  background-color: #fbf3f9;\n",
       "  color: #000000;\n",
       "}\n",
       "#T_b1242_row0_col3 {\n",
       "  background-color: #65a3cb;\n",
       "  color: #f1f1f1;\n",
       "}\n",
       "#T_b1242_row1_col0 {\n",
       "  background-color: #05659f;\n",
       "  color: #f1f1f1;\n",
       "}\n",
       "#T_b1242_row1_col2, #T_b1242_row2_col0, #T_b1242_row2_col1, #T_b1242_row2_col3 {\n",
       "  background-color: #fff7fb;\n",
       "  color: #000000;\n",
       "}\n",
       "#T_b1242_row1_col3 {\n",
       "  background-color: #2182b9;\n",
       "  color: #f1f1f1;\n",
       "}\n",
       "#T_b1242_row3_col0 {\n",
       "  background-color: #67a4cc;\n",
       "  color: #f1f1f1;\n",
       "}\n",
       "#T_b1242_row3_col1 {\n",
       "  background-color: #1e80b8;\n",
       "  color: #f1f1f1;\n",
       "}\n",
       "#T_b1242_row3_col2 {\n",
       "  background-color: #fdf5fa;\n",
       "  color: #000000;\n",
       "}\n",
       "</style>\n",
       "<table id=\"T_b1242_\">\n",
       "  <thead>\n",
       "    <tr>\n",
       "      <th class=\"blank level0\" >&nbsp;</th>\n",
       "      <th class=\"col_heading level0 col0\" >view_count</th>\n",
       "      <th class=\"col_heading level0 col1\" >likes</th>\n",
       "      <th class=\"col_heading level0 col2\" >dislikes</th>\n",
       "      <th class=\"col_heading level0 col3\" >comment_count</th>\n",
       "    </tr>\n",
       "  </thead>\n",
       "  <tbody>\n",
       "    <tr>\n",
       "      <th id=\"T_b1242_level0_row0\" class=\"row_heading level0 row0\" >view_count</th>\n",
       "      <td id=\"T_b1242_row0_col0\" class=\"data row0 col0\" >1.000000</td>\n",
       "      <td id=\"T_b1242_row0_col1\" class=\"data row0 col1\" >0.846588</td>\n",
       "      <td id=\"T_b1242_row0_col2\" class=\"data row0 col2\" >0.191307</td>\n",
       "      <td id=\"T_b1242_row0_col3\" class=\"data row0 col3\" >0.616863</td>\n",
       "    </tr>\n",
       "    <tr>\n",
       "      <th id=\"T_b1242_level0_row1\" class=\"row_heading level0 row1\" >likes</th>\n",
       "      <td id=\"T_b1242_row1_col0\" class=\"data row1 col0\" >0.846588</td>\n",
       "      <td id=\"T_b1242_row1_col1\" class=\"data row1 col1\" >1.000000</td>\n",
       "      <td id=\"T_b1242_row1_col2\" class=\"data row1 col2\" >0.168560</td>\n",
       "      <td id=\"T_b1242_row1_col3\" class=\"data row1 col3\" >0.737447</td>\n",
       "    </tr>\n",
       "    <tr>\n",
       "      <th id=\"T_b1242_level0_row2\" class=\"row_heading level0 row2\" >dislikes</th>\n",
       "      <td id=\"T_b1242_row2_col0\" class=\"data row2 col0\" >0.191307</td>\n",
       "      <td id=\"T_b1242_row2_col1\" class=\"data row2 col1\" >0.168560</td>\n",
       "      <td id=\"T_b1242_row2_col2\" class=\"data row2 col2\" >1.000000</td>\n",
       "      <td id=\"T_b1242_row2_col3\" class=\"data row2 col3\" >0.184358</td>\n",
       "    </tr>\n",
       "    <tr>\n",
       "      <th id=\"T_b1242_level0_row3\" class=\"row_heading level0 row3\" >comment_count</th>\n",
       "      <td id=\"T_b1242_row3_col0\" class=\"data row3 col0\" >0.616863</td>\n",
       "      <td id=\"T_b1242_row3_col1\" class=\"data row3 col1\" >0.737447</td>\n",
       "      <td id=\"T_b1242_row3_col2\" class=\"data row3 col2\" >0.184358</td>\n",
       "      <td id=\"T_b1242_row3_col3\" class=\"data row3 col3\" >1.000000</td>\n",
       "    </tr>\n",
       "  </tbody>\n",
       "</table>\n"
      ],
      "text/plain": [
       "<pandas.io.formats.style.Styler at 0x7fbde631c350>"
      ]
     },
     "execution_count": 57,
     "metadata": {},
     "output_type": "execute_result"
    }
   ],
   "source": [
    "Master_df[corrolation_list].corr().style.background_gradient()"
   ]
  },
  {
   "cell_type": "code",
   "execution_count": 59,
   "metadata": {
    "execution": {
     "iopub.execute_input": "2023-03-02T17:57:47.232653Z",
     "iopub.status.busy": "2023-03-02T17:57:47.232268Z",
     "iopub.status.idle": "2023-03-02T17:58:49.139821Z",
     "shell.execute_reply": "2023-03-02T17:58:49.138666Z",
     "shell.execute_reply.started": "2023-03-02T17:57:47.232619Z"
    }
   },
   "outputs": [
    {
     "data": {
      "text/plain": [
       "<AxesSubplot:xlabel='view_count', ylabel='likes'>"
      ]
     },
     "execution_count": 59,
     "metadata": {},
     "output_type": "execute_result"
    },
    {
     "data": {
      "image/png": "[encoded data removed]",
      "text/plain": [
       "<Figure size 720x720 with 1 Axes>"
      ]
     },
     "metadata": {
      "needs_background": "light"
     },
     "output_type": "display_data"
    }
   ],
   "source": [
    "matplotlib.pyplot.figure(figsize=(10,10))\n",
    "sns.scatterplot(x=Master_df[\"view_count\"], y=Master_df[\"likes\"], hue=Master_df[\"country\"])\n"
   ]
  },
  {
   "cell_type": "code",
   "execution_count": 64,
   "metadata": {
    "execution": {
     "iopub.execute_input": "2023-03-02T18:03:06.062101Z",
     "iopub.status.busy": "2023-03-02T18:03:06.061765Z",
     "iopub.status.idle": "2023-03-02T18:04:08.150895Z",
     "shell.execute_reply": "2023-03-02T18:04:08.149831Z",
     "shell.execute_reply.started": "2023-03-02T18:03:06.062073Z"
    }
   },
   "outputs": [
    {
     "data": {
      "image/png": "[encoded data removed]",
      "text/plain": [
       "<Figure size 720x720 with 1 Axes>"
      ]
     },
     "metadata": {
      "needs_background": "light"
     },
     "output_type": "display_data"
    }
   ],
   "source": [
    "matplotlib.pyplot.figure(figsize=(10,10))\n",
    "sns.scatterplot(x=Master_df[\"view_count\"], y=Master_df[\"likes\"], hue=Master_df[\"country\"])\n",
    "\n",
    "sns.despine(bottom=True, left=True);"
   ]
  },
  {
   "cell_type": "code",
   "execution_count": 65,
   "metadata": {
    "execution": {
     "iopub.execute_input": "2023-03-02T18:04:25.711382Z",
     "iopub.status.busy": "2023-03-02T18:04:25.711018Z",
     "iopub.status.idle": "2023-03-02T18:04:28.187625Z",
     "shell.execute_reply": "2023-03-02T18:04:28.186433Z",
     "shell.execute_reply.started": "2023-03-02T18:04:25.711352Z"
    }
   },
   "outputs": [],
   "source": [
    "ind= pd.read_csv('../input/youtube-trending-video-dataset/IN_youtube_trending_data.csv')"
   ]
  },
  {
   "cell_type": "code",
   "execution_count": 66,
   "metadata": {
    "execution": {
     "iopub.execute_input": "2023-03-02T18:04:33.434558Z",
     "iopub.status.busy": "2023-03-02T18:04:33.434185Z",
     "iopub.status.idle": "2023-03-02T18:04:33.452668Z",
     "shell.execute_reply": "2023-03-02T18:04:33.451370Z",
     "shell.execute_reply.started": "2023-03-02T18:04:33.434531Z"
    }
   },
   "outputs": [],
   "source": [
    "l=ind.channelTitle.value_counts()[:10].index"
   ]
  },
  {
   "cell_type": "code",
   "execution_count": 67,
   "metadata": {
    "execution": {
     "iopub.execute_input": "2023-03-02T18:04:36.214444Z",
     "iopub.status.busy": "2023-03-02T18:04:36.214089Z",
     "iopub.status.idle": "2023-03-02T18:04:36.231115Z",
     "shell.execute_reply": "2023-03-02T18:04:36.229986Z",
     "shell.execute_reply.started": "2023-03-02T18:04:36.214413Z"
    }
   },
   "outputs": [
    {
     "data": {
      "text/html": [
       "<div>\n",
       "<style scoped>\n",
       "    .dataframe tbody tr th:only-of-type {\n",
       "        vertical-align: middle;\n",
       "    }\n",
       "\n",
       "    .dataframe tbody tr th {\n",
       "        vertical-align: top;\n",
       "    }\n",
       "\n",
       "    .dataframe thead th {\n",
       "        text-align: right;\n",
       "    }\n",
       "</style>\n",
       "<table border=\"1\" class=\"dataframe\">\n",
       "  <thead>\n",
       "    <tr style=\"text-align: right;\">\n",
       "      <th></th>\n",
       "      <th>video_id</th>\n",
       "      <th>title</th>\n",
       "      <th>publishedAt</th>\n",
       "      <th>channelId</th>\n",
       "      <th>channelTitle</th>\n",
       "      <th>categoryId</th>\n",
       "      <th>trending_date</th>\n",
       "      <th>tags</th>\n",
       "      <th>view_count</th>\n",
       "      <th>likes</th>\n",
       "      <th>dislikes</th>\n",
       "      <th>comment_count</th>\n",
       "      <th>thumbnail_link</th>\n",
       "      <th>comments_disabled</th>\n",
       "      <th>ratings_disabled</th>\n",
       "      <th>description</th>\n",
       "    </tr>\n",
       "  </thead>\n",
       "  <tbody>\n",
       "    <tr>\n",
       "      <th>0</th>\n",
       "      <td>Iot0eF6EoNA</td>\n",
       "      <td>Sadak 2 | Official Trailer | Sanjay | Pooja | ...</td>\n",
       "      <td>2020-08-12T04:31:41Z</td>\n",
       "      <td>UCGqvJPRcv7aVFun-eTsatcA</td>\n",
       "      <td>FoxStarHindi</td>\n",
       "      <td>24</td>\n",
       "      <td>2020-08-12T00:00:00Z</td>\n",
       "      <td>sadak|sadak 2|mahesh bhatt|vishesh films|pooja...</td>\n",
       "      <td>9885899</td>\n",
       "      <td>224925</td>\n",
       "      <td>3979409</td>\n",
       "      <td>350210</td>\n",
       "      <td>https://i.ytimg.com/vi/Iot0eF6EoNA/default.jpg</td>\n",
       "      <td>False</td>\n",
       "      <td>False</td>\n",
       "      <td>Three Streams. Three Stories. One Journey. Sta...</td>\n",
       "    </tr>\n",
       "    <tr>\n",
       "      <th>1</th>\n",
       "      <td>x-KbnJ9fvJc</td>\n",
       "      <td>Kya Baat Aa : Karan Aujla (Official Video) Tan...</td>\n",
       "      <td>2020-08-11T09:00:11Z</td>\n",
       "      <td>UCm9SZAl03Rev9sFwloCdz1g</td>\n",
       "      <td>Rehaan Records</td>\n",
       "      <td>10</td>\n",
       "      <td>2020-08-12T00:00:00Z</td>\n",
       "      <td>[None]</td>\n",
       "      <td>11308046</td>\n",
       "      <td>655450</td>\n",
       "      <td>33242</td>\n",
       "      <td>405146</td>\n",
       "      <td>https://i.ytimg.com/vi/x-KbnJ9fvJc/default.jpg</td>\n",
       "      <td>False</td>\n",
       "      <td>False</td>\n",
       "      <td>Singer/Lyrics: Karan Aujla Feat Tania Music/ D...</td>\n",
       "    </tr>\n",
       "    <tr>\n",
       "      <th>2</th>\n",
       "      <td>KX06ksuS6Xo</td>\n",
       "      <td>Diljit Dosanjh: CLASH (Official) Music Video |...</td>\n",
       "      <td>2020-08-11T07:30:02Z</td>\n",
       "      <td>UCZRdNleCgW-BGUJf-bbjzQg</td>\n",
       "      <td>Diljit Dosanjh</td>\n",
       "      <td>10</td>\n",
       "      <td>2020-08-12T00:00:00Z</td>\n",
       "      <td>clash diljit dosanjh|diljit dosanjh|diljit dos...</td>\n",
       "      <td>9140911</td>\n",
       "      <td>296533</td>\n",
       "      <td>6179</td>\n",
       "      <td>30058</td>\n",
       "      <td>https://i.ytimg.com/vi/KX06ksuS6Xo/default.jpg</td>\n",
       "      <td>False</td>\n",
       "      <td>False</td>\n",
       "      <td>CLASH official music video performed by DILJIT...</td>\n",
       "    </tr>\n",
       "    <tr>\n",
       "      <th>3</th>\n",
       "      <td>UsMRgnTcchY</td>\n",
       "      <td>Dil Ko Maine Di Kasam Video | Amaal M Ft.Ariji...</td>\n",
       "      <td>2020-08-10T05:30:49Z</td>\n",
       "      <td>UCq-Fj5jknLsUf-MWSy4_brA</td>\n",
       "      <td>T-Series</td>\n",
       "      <td>10</td>\n",
       "      <td>2020-08-12T00:00:00Z</td>\n",
       "      <td>hindi songs|2020 hindi songs|2020 new songs|t-...</td>\n",
       "      <td>23564512</td>\n",
       "      <td>743931</td>\n",
       "      <td>84162</td>\n",
       "      <td>136942</td>\n",
       "      <td>https://i.ytimg.com/vi/UsMRgnTcchY/default.jpg</td>\n",
       "      <td>False</td>\n",
       "      <td>False</td>\n",
       "      <td>Gulshan Kumar and T-Series presents Bhushan Ku...</td>\n",
       "    </tr>\n",
       "    <tr>\n",
       "      <th>4</th>\n",
       "      <td>WNSEXJJhKTU</td>\n",
       "      <td>Baarish (Official Video) Payal Dev,Stebin Ben ...</td>\n",
       "      <td>2020-08-11T05:30:13Z</td>\n",
       "      <td>UCye6Oz0mg46S362LwARGVcA</td>\n",
       "      <td>VYRLOriginals</td>\n",
       "      <td>10</td>\n",
       "      <td>2020-08-12T00:00:00Z</td>\n",
       "      <td>VYRL Original|Mohsin Khan|Shivangi Joshi|Payal...</td>\n",
       "      <td>6783649</td>\n",
       "      <td>268817</td>\n",
       "      <td>8798</td>\n",
       "      <td>22984</td>\n",
       "      <td>https://i.ytimg.com/vi/WNSEXJJhKTU/default.jpg</td>\n",
       "      <td>False</td>\n",
       "      <td>False</td>\n",
       "      <td>VYRL Originals brings to you ‘Baarish’ - the b...</td>\n",
       "    </tr>\n",
       "  </tbody>\n",
       "</table>\n",
       "</div>"
      ],
      "text/plain": [
       "      video_id                                              title  \\\n",
       "0  Iot0eF6EoNA  Sadak 2 | Official Trailer | Sanjay | Pooja | ...   \n",
       "1  x-KbnJ9fvJc  Kya Baat Aa : Karan Aujla (Official Video) Tan...   \n",
       "2  KX06ksuS6Xo  Diljit Dosanjh: CLASH (Official) Music Video |...   \n",
       "3  UsMRgnTcchY  Dil Ko Maine Di Kasam Video | Amaal M Ft.Ariji...   \n",
       "4  WNSEXJJhKTU  Baarish (Official Video) Payal Dev,Stebin Ben ...   \n",
       "\n",
       "            publishedAt                 channelId    channelTitle  categoryId  \\\n",
       "0  2020-08-12T04:31:41Z  UCGqvJPRcv7aVFun-eTsatcA    FoxStarHindi          24   \n",
       "1  2020-08-11T09:00:11Z  UCm9SZAl03Rev9sFwloCdz1g  Rehaan Records          10   \n",
       "2  2020-08-11T07:30:02Z  UCZRdNleCgW-BGUJf-bbjzQg  Diljit Dosanjh          10   \n",
       "3  2020-08-10T05:30:49Z  UCq-Fj5jknLsUf-MWSy4_brA        T-Series          10   \n",
       "4  2020-08-11T05:30:13Z  UCye6Oz0mg46S362LwARGVcA   VYRLOriginals          10   \n",
       "\n",
       "          trending_date                                               tags  \\\n",
       "0  2020-08-12T00:00:00Z  sadak|sadak 2|mahesh bhatt|vishesh films|pooja...   \n",
       "1  2020-08-12T00:00:00Z                                             [None]   \n",
       "2  2020-08-12T00:00:00Z  clash diljit dosanjh|diljit dosanjh|diljit dos...   \n",
       "3  2020-08-12T00:00:00Z  hindi songs|2020 hindi songs|2020 new songs|t-...   \n",
       "4  2020-08-12T00:00:00Z  VYRL Original|Mohsin Khan|Shivangi Joshi|Payal...   \n",
       "\n",
       "   view_count   likes  dislikes  comment_count  \\\n",
       "0     9885899  224925   3979409         350210   \n",
       "1    11308046  655450     33242         405146   \n",
       "2     9140911  296533      6179          30058   \n",
       "3    23564512  743931     84162         136942   \n",
       "4     6783649  268817      8798          22984   \n",
       "\n",
       "                                   thumbnail_link  comments_disabled  \\\n",
       "0  https://i.ytimg.com/vi/Iot0eF6EoNA/default.jpg              False   \n",
       "1  https://i.ytimg.com/vi/x-KbnJ9fvJc/default.jpg              False   \n",
       "2  https://i.ytimg.com/vi/KX06ksuS6Xo/default.jpg              False   \n",
       "3  https://i.ytimg.com/vi/UsMRgnTcchY/default.jpg              False   \n",
       "4  https://i.ytimg.com/vi/WNSEXJJhKTU/default.jpg              False   \n",
       "\n",
       "   ratings_disabled                                        description  \n",
       "0             False  Three Streams. Three Stories. One Journey. Sta...  \n",
       "1             False  Singer/Lyrics: Karan Aujla Feat Tania Music/ D...  \n",
       "2             False  CLASH official music video performed by DILJIT...  \n",
       "3             False  Gulshan Kumar and T-Series presents Bhushan Ku...  \n",
       "4             False  VYRL Originals brings to you ‘Baarish’ - the b...  "
      ]
     },
     "execution_count": 67,
     "metadata": {},
     "output_type": "execute_result"
    }
   ],
   "source": [
    "ind.head()"
   ]
  },
  {
   "cell_type": "code",
   "execution_count": 68,
   "metadata": {
    "execution": {
     "iopub.execute_input": "2023-03-02T18:04:46.257437Z",
     "iopub.status.busy": "2023-03-02T18:04:46.256985Z",
     "iopub.status.idle": "2023-03-02T18:04:46.264637Z",
     "shell.execute_reply": "2023-03-02T18:04:46.263199Z",
     "shell.execute_reply.started": "2023-03-02T18:04:46.257398Z"
    }
   },
   "outputs": [
    {
     "data": {
      "text/plain": [
       "Index(['Vijay Television', 'Sourav Joshi Vlogs', 'Sony SAB', 'Colors TV',\n",
       "       'Crazy XYZ', 'ZEE5', 'Asianet', 'Sun TV', 'Colors Rishtey', 'T-Series'],\n",
       "      dtype='object')"
      ]
     },
     "execution_count": 68,
     "metadata": {},
     "output_type": "execute_result"
    }
   ],
   "source": [
    "l"
   ]
  },
  {
   "cell_type": "code",
   "execution_count": 70,
   "metadata": {
    "execution": {
     "iopub.execute_input": "2023-03-02T18:04:53.719549Z",
     "iopub.status.busy": "2023-03-02T18:04:53.719222Z",
     "iopub.status.idle": "2023-03-02T18:04:53.738345Z",
     "shell.execute_reply": "2023-03-02T18:04:53.737453Z",
     "shell.execute_reply.started": "2023-03-02T18:04:53.719521Z"
    }
   },
   "outputs": [],
   "source": [
    "video_count = pd.DataFrame({'channel_title':l,'no_of_videos':ind.channelTitle.value_counts()[:10]})"
   ]
  },
  {
   "cell_type": "code",
   "execution_count": 71,
   "metadata": {
    "execution": {
     "iopub.execute_input": "2023-03-02T18:04:57.694244Z",
     "iopub.status.busy": "2023-03-02T18:04:57.693887Z",
     "iopub.status.idle": "2023-03-02T18:04:57.706135Z",
     "shell.execute_reply": "2023-03-02T18:04:57.704856Z",
     "shell.execute_reply.started": "2023-03-02T18:04:57.694218Z"
    }
   },
   "outputs": [
    {
     "data": {
      "text/html": [
       "<div>\n",
       "<style scoped>\n",
       "    .dataframe tbody tr th:only-of-type {\n",
       "        vertical-align: middle;\n",
       "    }\n",
       "\n",
       "    .dataframe tbody tr th {\n",
       "        vertical-align: top;\n",
       "    }\n",
       "\n",
       "    .dataframe thead th {\n",
       "        text-align: right;\n",
       "    }\n",
       "</style>\n",
       "<table border=\"1\" class=\"dataframe\">\n",
       "  <thead>\n",
       "    <tr style=\"text-align: right;\">\n",
       "      <th></th>\n",
       "      <th>channel_title</th>\n",
       "      <th>no_of_videos</th>\n",
       "    </tr>\n",
       "  </thead>\n",
       "  <tbody>\n",
       "    <tr>\n",
       "      <th>Vijay Television</th>\n",
       "      <td>Vijay Television</td>\n",
       "      <td>2182</td>\n",
       "    </tr>\n",
       "    <tr>\n",
       "      <th>Sourav Joshi Vlogs</th>\n",
       "      <td>Sourav Joshi Vlogs</td>\n",
       "      <td>1632</td>\n",
       "    </tr>\n",
       "    <tr>\n",
       "      <th>Sony SAB</th>\n",
       "      <td>Sony SAB</td>\n",
       "      <td>1366</td>\n",
       "    </tr>\n",
       "    <tr>\n",
       "      <th>Colors TV</th>\n",
       "      <td>Colors TV</td>\n",
       "      <td>1247</td>\n",
       "    </tr>\n",
       "    <tr>\n",
       "      <th>Crazy XYZ</th>\n",
       "      <td>Crazy XYZ</td>\n",
       "      <td>1106</td>\n",
       "    </tr>\n",
       "    <tr>\n",
       "      <th>ZEE5</th>\n",
       "      <td>ZEE5</td>\n",
       "      <td>1046</td>\n",
       "    </tr>\n",
       "    <tr>\n",
       "      <th>Asianet</th>\n",
       "      <td>Asianet</td>\n",
       "      <td>991</td>\n",
       "    </tr>\n",
       "    <tr>\n",
       "      <th>Sun TV</th>\n",
       "      <td>Sun TV</td>\n",
       "      <td>934</td>\n",
       "    </tr>\n",
       "    <tr>\n",
       "      <th>Colors Rishtey</th>\n",
       "      <td>Colors Rishtey</td>\n",
       "      <td>882</td>\n",
       "    </tr>\n",
       "    <tr>\n",
       "      <th>T-Series</th>\n",
       "      <td>T-Series</td>\n",
       "      <td>866</td>\n",
       "    </tr>\n",
       "  </tbody>\n",
       "</table>\n",
       "</div>"
      ],
      "text/plain": [
       "                         channel_title  no_of_videos\n",
       "Vijay Television      Vijay Television          2182\n",
       "Sourav Joshi Vlogs  Sourav Joshi Vlogs          1632\n",
       "Sony SAB                      Sony SAB          1366\n",
       "Colors TV                    Colors TV          1247\n",
       "Crazy XYZ                    Crazy XYZ          1106\n",
       "ZEE5                              ZEE5          1046\n",
       "Asianet                        Asianet           991\n",
       "Sun TV                          Sun TV           934\n",
       "Colors Rishtey          Colors Rishtey           882\n",
       "T-Series                      T-Series           866"
      ]
     },
     "execution_count": 71,
     "metadata": {},
     "output_type": "execute_result"
    }
   ],
   "source": [
    "video_count"
   ]
  },
  {
   "cell_type": "code",
   "execution_count": 72,
   "metadata": {
    "execution": {
     "iopub.execute_input": "2023-03-02T18:05:06.347461Z",
     "iopub.status.busy": "2023-03-02T18:05:06.347099Z",
     "iopub.status.idle": "2023-03-02T18:05:06.365764Z",
     "shell.execute_reply": "2023-03-02T18:05:06.364770Z",
     "shell.execute_reply.started": "2023-03-02T18:05:06.347430Z"
    }
   },
   "outputs": [],
   "source": [
    "n=ind.channelTitle.value_counts()[:10]"
   ]
  },
  {
   "cell_type": "code",
   "execution_count": 73,
   "metadata": {
    "execution": {
     "iopub.execute_input": "2023-03-02T18:05:09.844962Z",
     "iopub.status.busy": "2023-03-02T18:05:09.844616Z",
     "iopub.status.idle": "2023-03-02T18:05:09.851559Z",
     "shell.execute_reply": "2023-03-02T18:05:09.850817Z",
     "shell.execute_reply.started": "2023-03-02T18:05:09.844936Z"
    }
   },
   "outputs": [
    {
     "data": {
      "text/plain": [
       "Vijay Television      2182\n",
       "Sourav Joshi Vlogs    1632\n",
       "Sony SAB              1366\n",
       "Colors TV             1247\n",
       "Crazy XYZ             1106\n",
       "ZEE5                  1046\n",
       "Asianet                991\n",
       "Sun TV                 934\n",
       "Colors Rishtey         882\n",
       "T-Series               866\n",
       "Name: channelTitle, dtype: int64"
      ]
     },
     "execution_count": 73,
     "metadata": {},
     "output_type": "execute_result"
    }
   ],
   "source": [
    "n"
   ]
  },
  {
   "cell_type": "code",
   "execution_count": 75,
   "metadata": {
    "execution": {
     "iopub.execute_input": "2023-03-02T18:05:19.475189Z",
     "iopub.status.busy": "2023-03-02T18:05:19.474113Z",
     "iopub.status.idle": "2023-03-02T18:05:19.484122Z",
     "shell.execute_reply": "2023-03-02T18:05:19.483171Z",
     "shell.execute_reply.started": "2023-03-02T18:05:19.475152Z"
    }
   },
   "outputs": [
    {
     "data": {
      "text/html": [
       "<div>\n",
       "<style scoped>\n",
       "    .dataframe tbody tr th:only-of-type {\n",
       "        vertical-align: middle;\n",
       "    }\n",
       "\n",
       "    .dataframe tbody tr th {\n",
       "        vertical-align: top;\n",
       "    }\n",
       "\n",
       "    .dataframe thead th {\n",
       "        text-align: right;\n",
       "    }\n",
       "</style>\n",
       "<table border=\"1\" class=\"dataframe\">\n",
       "  <thead>\n",
       "    <tr style=\"text-align: right;\">\n",
       "      <th></th>\n",
       "      <th>channel_title</th>\n",
       "      <th>no_of_videos</th>\n",
       "    </tr>\n",
       "  </thead>\n",
       "  <tbody>\n",
       "    <tr>\n",
       "      <th>Vijay Television</th>\n",
       "      <td>Vijay Television</td>\n",
       "      <td>2182</td>\n",
       "    </tr>\n",
       "    <tr>\n",
       "      <th>Sourav Joshi Vlogs</th>\n",
       "      <td>Sourav Joshi Vlogs</td>\n",
       "      <td>1632</td>\n",
       "    </tr>\n",
       "    <tr>\n",
       "      <th>Sony SAB</th>\n",
       "      <td>Sony SAB</td>\n",
       "      <td>1366</td>\n",
       "    </tr>\n",
       "    <tr>\n",
       "      <th>Colors TV</th>\n",
       "      <td>Colors TV</td>\n",
       "      <td>1247</td>\n",
       "    </tr>\n",
       "    <tr>\n",
       "      <th>Crazy XYZ</th>\n",
       "      <td>Crazy XYZ</td>\n",
       "      <td>1106</td>\n",
       "    </tr>\n",
       "    <tr>\n",
       "      <th>ZEE5</th>\n",
       "      <td>ZEE5</td>\n",
       "      <td>1046</td>\n",
       "    </tr>\n",
       "    <tr>\n",
       "      <th>Asianet</th>\n",
       "      <td>Asianet</td>\n",
       "      <td>991</td>\n",
       "    </tr>\n",
       "    <tr>\n",
       "      <th>Sun TV</th>\n",
       "      <td>Sun TV</td>\n",
       "      <td>934</td>\n",
       "    </tr>\n",
       "    <tr>\n",
       "      <th>Colors Rishtey</th>\n",
       "      <td>Colors Rishtey</td>\n",
       "      <td>882</td>\n",
       "    </tr>\n",
       "    <tr>\n",
       "      <th>T-Series</th>\n",
       "      <td>T-Series</td>\n",
       "      <td>866</td>\n",
       "    </tr>\n",
       "  </tbody>\n",
       "</table>\n",
       "</div>"
      ],
      "text/plain": [
       "                         channel_title  no_of_videos\n",
       "Vijay Television      Vijay Television          2182\n",
       "Sourav Joshi Vlogs  Sourav Joshi Vlogs          1632\n",
       "Sony SAB                      Sony SAB          1366\n",
       "Colors TV                    Colors TV          1247\n",
       "Crazy XYZ                    Crazy XYZ          1106\n",
       "ZEE5                              ZEE5          1046\n",
       "Asianet                        Asianet           991\n",
       "Sun TV                          Sun TV           934\n",
       "Colors Rishtey          Colors Rishtey           882\n",
       "T-Series                      T-Series           866"
      ]
     },
     "execution_count": 75,
     "metadata": {},
     "output_type": "execute_result"
    }
   ],
   "source": [
    "video_count"
   ]
  },
  {
   "cell_type": "code",
   "execution_count": 76,
   "metadata": {
    "execution": {
     "iopub.execute_input": "2023-03-02T18:05:23.199505Z",
     "iopub.status.busy": "2023-03-02T18:05:23.199138Z",
     "iopub.status.idle": "2023-03-02T18:05:23.204543Z",
     "shell.execute_reply": "2023-03-02T18:05:23.203410Z",
     "shell.execute_reply.started": "2023-03-02T18:05:23.199473Z"
    }
   },
   "outputs": [],
   "source": [
    "z=ind.index"
   ]
  },
  {
   "cell_type": "code",
   "execution_count": 77,
   "metadata": {
    "execution": {
     "iopub.execute_input": "2023-03-02T18:05:25.789627Z",
     "iopub.status.busy": "2023-03-02T18:05:25.789244Z",
     "iopub.status.idle": "2023-03-02T18:05:25.795733Z",
     "shell.execute_reply": "2023-03-02T18:05:25.794316Z",
     "shell.execute_reply.started": "2023-03-02T18:05:25.789573Z"
    }
   },
   "outputs": [
    {
     "data": {
      "text/plain": [
       "RangeIndex(start=0, stop=178839, step=1)"
      ]
     },
     "execution_count": 77,
     "metadata": {},
     "output_type": "execute_result"
    }
   ],
   "source": [
    "z"
   ]
  },
  {
   "cell_type": "code",
   "execution_count": 78,
   "metadata": {
    "execution": {
     "iopub.execute_input": "2023-03-02T18:05:28.649551Z",
     "iopub.status.busy": "2023-03-02T18:05:28.649149Z",
     "iopub.status.idle": "2023-03-02T18:05:28.680397Z",
     "shell.execute_reply": "2023-03-02T18:05:28.679194Z",
     "shell.execute_reply.started": "2023-03-02T18:05:28.649516Z"
    }
   },
   "outputs": [],
   "source": [
    "l=ind.channelTitle.value_counts()[:10].index\n",
    "video_count = pd.DataFrame({'channel_title':l,'no_of_videos':ind.channelTitle.value_counts()[:10]})"
   ]
  },
  {
   "cell_type": "code",
   "execution_count": 79,
   "metadata": {
    "execution": {
     "iopub.execute_input": "2023-03-02T18:05:31.489241Z",
     "iopub.status.busy": "2023-03-02T18:05:31.488880Z",
     "iopub.status.idle": "2023-03-02T18:05:31.500178Z",
     "shell.execute_reply": "2023-03-02T18:05:31.498997Z",
     "shell.execute_reply.started": "2023-03-02T18:05:31.489211Z"
    }
   },
   "outputs": [
    {
     "data": {
      "text/html": [
       "<div>\n",
       "<style scoped>\n",
       "    .dataframe tbody tr th:only-of-type {\n",
       "        vertical-align: middle;\n",
       "    }\n",
       "\n",
       "    .dataframe tbody tr th {\n",
       "        vertical-align: top;\n",
       "    }\n",
       "\n",
       "    .dataframe thead th {\n",
       "        text-align: right;\n",
       "    }\n",
       "</style>\n",
       "<table border=\"1\" class=\"dataframe\">\n",
       "  <thead>\n",
       "    <tr style=\"text-align: right;\">\n",
       "      <th></th>\n",
       "      <th>channel_title</th>\n",
       "      <th>no_of_videos</th>\n",
       "    </tr>\n",
       "  </thead>\n",
       "  <tbody>\n",
       "    <tr>\n",
       "      <th>Vijay Television</th>\n",
       "      <td>Vijay Television</td>\n",
       "      <td>2182</td>\n",
       "    </tr>\n",
       "    <tr>\n",
       "      <th>Sourav Joshi Vlogs</th>\n",
       "      <td>Sourav Joshi Vlogs</td>\n",
       "      <td>1632</td>\n",
       "    </tr>\n",
       "    <tr>\n",
       "      <th>Sony SAB</th>\n",
       "      <td>Sony SAB</td>\n",
       "      <td>1366</td>\n",
       "    </tr>\n",
       "    <tr>\n",
       "      <th>Colors TV</th>\n",
       "      <td>Colors TV</td>\n",
       "      <td>1247</td>\n",
       "    </tr>\n",
       "    <tr>\n",
       "      <th>Crazy XYZ</th>\n",
       "      <td>Crazy XYZ</td>\n",
       "      <td>1106</td>\n",
       "    </tr>\n",
       "    <tr>\n",
       "      <th>ZEE5</th>\n",
       "      <td>ZEE5</td>\n",
       "      <td>1046</td>\n",
       "    </tr>\n",
       "    <tr>\n",
       "      <th>Asianet</th>\n",
       "      <td>Asianet</td>\n",
       "      <td>991</td>\n",
       "    </tr>\n",
       "    <tr>\n",
       "      <th>Sun TV</th>\n",
       "      <td>Sun TV</td>\n",
       "      <td>934</td>\n",
       "    </tr>\n",
       "    <tr>\n",
       "      <th>Colors Rishtey</th>\n",
       "      <td>Colors Rishtey</td>\n",
       "      <td>882</td>\n",
       "    </tr>\n",
       "    <tr>\n",
       "      <th>T-Series</th>\n",
       "      <td>T-Series</td>\n",
       "      <td>866</td>\n",
       "    </tr>\n",
       "  </tbody>\n",
       "</table>\n",
       "</div>"
      ],
      "text/plain": [
       "                         channel_title  no_of_videos\n",
       "Vijay Television      Vijay Television          2182\n",
       "Sourav Joshi Vlogs  Sourav Joshi Vlogs          1632\n",
       "Sony SAB                      Sony SAB          1366\n",
       "Colors TV                    Colors TV          1247\n",
       "Crazy XYZ                    Crazy XYZ          1106\n",
       "ZEE5                              ZEE5          1046\n",
       "Asianet                        Asianet           991\n",
       "Sun TV                          Sun TV           934\n",
       "Colors Rishtey          Colors Rishtey           882\n",
       "T-Series                      T-Series           866"
      ]
     },
     "execution_count": 79,
     "metadata": {},
     "output_type": "execute_result"
    }
   ],
   "source": [
    "video_count"
   ]
  },
  {
   "cell_type": "code",
   "execution_count": 80,
   "metadata": {
    "execution": {
     "iopub.execute_input": "2023-03-02T18:05:35.189837Z",
     "iopub.status.busy": "2023-03-02T18:05:35.189450Z",
     "iopub.status.idle": "2023-03-02T18:05:35.221490Z",
     "shell.execute_reply": "2023-03-02T18:05:35.220343Z",
     "shell.execute_reply.started": "2023-03-02T18:05:35.189798Z"
    }
   },
   "outputs": [],
   "source": [
    "l=ind.channelTitle.value_counts()[:10].index\n",
    "video_count = pd.DataFrame({'channel_title':l,'no_of_videos':ind.channelTitle.value_counts()[:10]})"
   ]
  },
  {
   "cell_type": "code",
   "execution_count": 81,
   "metadata": {
    "execution": {
     "iopub.execute_input": "2023-03-02T18:05:40.239815Z",
     "iopub.status.busy": "2023-03-02T18:05:40.239428Z",
     "iopub.status.idle": "2023-03-02T18:05:40.246302Z",
     "shell.execute_reply": "2023-03-02T18:05:40.245354Z",
     "shell.execute_reply.started": "2023-03-02T18:05:40.239760Z"
    }
   },
   "outputs": [
    {
     "data": {
      "text/plain": [
       "Index(['Vijay Television', 'Sourav Joshi Vlogs', 'Sony SAB', 'Colors TV',\n",
       "       'Crazy XYZ', 'ZEE5', 'Asianet', 'Sun TV', 'Colors Rishtey', 'T-Series'],\n",
       "      dtype='object')"
      ]
     },
     "execution_count": 81,
     "metadata": {},
     "output_type": "execute_result"
    }
   ],
   "source": [
    "video_count.channel_title.index"
   ]
  },
  {
   "cell_type": "code",
   "execution_count": 82,
   "metadata": {
    "execution": {
     "iopub.execute_input": "2023-03-02T18:05:43.225537Z",
     "iopub.status.busy": "2023-03-02T18:05:43.224633Z",
     "iopub.status.idle": "2023-03-02T18:05:43.231919Z",
     "shell.execute_reply": "2023-03-02T18:05:43.230479Z",
     "shell.execute_reply.started": "2023-03-02T18:05:43.225470Z"
    }
   },
   "outputs": [],
   "source": [
    "vi_count = pd.DataFrame({'channel_title':l})"
   ]
  },
  {
   "cell_type": "code",
   "execution_count": 83,
   "metadata": {
    "execution": {
     "iopub.execute_input": "2023-03-02T18:05:46.389686Z",
     "iopub.status.busy": "2023-03-02T18:05:46.389280Z",
     "iopub.status.idle": "2023-03-02T18:05:46.400523Z",
     "shell.execute_reply": "2023-03-02T18:05:46.399462Z",
     "shell.execute_reply.started": "2023-03-02T18:05:46.389654Z"
    }
   },
   "outputs": [
    {
     "data": {
      "text/html": [
       "<div>\n",
       "<style scoped>\n",
       "    .dataframe tbody tr th:only-of-type {\n",
       "        vertical-align: middle;\n",
       "    }\n",
       "\n",
       "    .dataframe tbody tr th {\n",
       "        vertical-align: top;\n",
       "    }\n",
       "\n",
       "    .dataframe thead th {\n",
       "        text-align: right;\n",
       "    }\n",
       "</style>\n",
       "<table border=\"1\" class=\"dataframe\">\n",
       "  <thead>\n",
       "    <tr style=\"text-align: right;\">\n",
       "      <th></th>\n",
       "      <th>channel_title</th>\n",
       "    </tr>\n",
       "  </thead>\n",
       "  <tbody>\n",
       "    <tr>\n",
       "      <th>0</th>\n",
       "      <td>Vijay Television</td>\n",
       "    </tr>\n",
       "    <tr>\n",
       "      <th>1</th>\n",
       "      <td>Sourav Joshi Vlogs</td>\n",
       "    </tr>\n",
       "    <tr>\n",
       "      <th>2</th>\n",
       "      <td>Sony SAB</td>\n",
       "    </tr>\n",
       "    <tr>\n",
       "      <th>3</th>\n",
       "      <td>Colors TV</td>\n",
       "    </tr>\n",
       "    <tr>\n",
       "      <th>4</th>\n",
       "      <td>Crazy XYZ</td>\n",
       "    </tr>\n",
       "    <tr>\n",
       "      <th>5</th>\n",
       "      <td>ZEE5</td>\n",
       "    </tr>\n",
       "    <tr>\n",
       "      <th>6</th>\n",
       "      <td>Asianet</td>\n",
       "    </tr>\n",
       "    <tr>\n",
       "      <th>7</th>\n",
       "      <td>Sun TV</td>\n",
       "    </tr>\n",
       "    <tr>\n",
       "      <th>8</th>\n",
       "      <td>Colors Rishtey</td>\n",
       "    </tr>\n",
       "    <tr>\n",
       "      <th>9</th>\n",
       "      <td>T-Series</td>\n",
       "    </tr>\n",
       "  </tbody>\n",
       "</table>\n",
       "</div>"
      ],
      "text/plain": [
       "        channel_title\n",
       "0    Vijay Television\n",
       "1  Sourav Joshi Vlogs\n",
       "2            Sony SAB\n",
       "3           Colors TV\n",
       "4           Crazy XYZ\n",
       "5                ZEE5\n",
       "6             Asianet\n",
       "7              Sun TV\n",
       "8      Colors Rishtey\n",
       "9            T-Series"
      ]
     },
     "execution_count": 83,
     "metadata": {},
     "output_type": "execute_result"
    }
   ],
   "source": [
    "vi_count"
   ]
  },
  {
   "cell_type": "code",
   "execution_count": 84,
   "metadata": {
    "execution": {
     "iopub.execute_input": "2023-03-02T18:05:50.099457Z",
     "iopub.status.busy": "2023-03-02T18:05:50.099063Z",
     "iopub.status.idle": "2023-03-02T18:05:50.309280Z",
     "shell.execute_reply": "2023-03-02T18:05:50.307621Z",
     "shell.execute_reply.started": "2023-03-02T18:05:50.099417Z"
    }
   },
   "outputs": [
    {
     "data": {
      "text/plain": [
       "<AxesSubplot:xlabel='no_of_videos', ylabel='channel_title'>"
      ]
     },
     "execution_count": 84,
     "metadata": {},
     "output_type": "execute_result"
    },
    {
     "data": {
      "image/png": "[encoded data removed]",
      "text/plain": [
       "<Figure size 648x648 with 1 Axes>"
      ]
     },
     "metadata": {
      "needs_background": "light"
     },
     "output_type": "display_data"
    }
   ],
   "source": [
    "matplotlib.pyplot.figure(figsize=(9,9))\n",
    "sns.barplot(y=\"channel_title\",x=\"no_of_videos\",data = video_count)"
   ]
  },
  {
   "cell_type": "code",
   "execution_count": 85,
   "metadata": {
    "execution": {
     "iopub.execute_input": "2023-03-02T18:05:54.749704Z",
     "iopub.status.busy": "2023-03-02T18:05:54.749292Z",
     "iopub.status.idle": "2023-03-02T18:05:57.091833Z",
     "shell.execute_reply": "2023-03-02T18:05:57.090600Z",
     "shell.execute_reply.started": "2023-03-02T18:05:54.749672Z"
    }
   },
   "outputs": [],
   "source": [
    "us= pd.read_csv('../input/youtube-trending-video-dataset/US_youtube_trending_data.csv')\n",
    "l=us.channelTitle.value_counts()[:10].index\n",
    "video_count = pd.DataFrame({'channel_title':l,'no_of_videos':us.channelTitle.value_counts()[:10]})"
   ]
  },
  {
   "cell_type": "code",
   "execution_count": 86,
   "metadata": {
    "execution": {
     "iopub.execute_input": "2023-03-02T18:06:00.930393Z",
     "iopub.status.busy": "2023-03-02T18:06:00.929760Z",
     "iopub.status.idle": "2023-03-02T18:06:00.941451Z",
     "shell.execute_reply": "2023-03-02T18:06:00.940156Z",
     "shell.execute_reply.started": "2023-03-02T18:06:00.930346Z"
    }
   },
   "outputs": [
    {
     "data": {
      "text/html": [
       "<div>\n",
       "<style scoped>\n",
       "    .dataframe tbody tr th:only-of-type {\n",
       "        vertical-align: middle;\n",
       "    }\n",
       "\n",
       "    .dataframe tbody tr th {\n",
       "        vertical-align: top;\n",
       "    }\n",
       "\n",
       "    .dataframe thead th {\n",
       "        text-align: right;\n",
       "    }\n",
       "</style>\n",
       "<table border=\"1\" class=\"dataframe\">\n",
       "  <thead>\n",
       "    <tr style=\"text-align: right;\">\n",
       "      <th></th>\n",
       "      <th>channel_title</th>\n",
       "      <th>no_of_videos</th>\n",
       "    </tr>\n",
       "  </thead>\n",
       "  <tbody>\n",
       "    <tr>\n",
       "      <th>NFL</th>\n",
       "      <td>NFL</td>\n",
       "      <td>1280</td>\n",
       "    </tr>\n",
       "    <tr>\n",
       "      <th>NBA</th>\n",
       "      <td>NBA</td>\n",
       "      <td>1139</td>\n",
       "    </tr>\n",
       "    <tr>\n",
       "      <th>SSSniperWolf</th>\n",
       "      <td>SSSniperWolf</td>\n",
       "      <td>599</td>\n",
       "    </tr>\n",
       "    <tr>\n",
       "      <th>NBC Sports</th>\n",
       "      <td>NBC Sports</td>\n",
       "      <td>559</td>\n",
       "    </tr>\n",
       "    <tr>\n",
       "      <th>MrBeast Gaming</th>\n",
       "      <td>MrBeast Gaming</td>\n",
       "      <td>512</td>\n",
       "    </tr>\n",
       "    <tr>\n",
       "      <th>SSundee</th>\n",
       "      <td>SSundee</td>\n",
       "      <td>511</td>\n",
       "    </tr>\n",
       "    <tr>\n",
       "      <th>Saturday Night Live</th>\n",
       "      <td>Saturday Night Live</td>\n",
       "      <td>506</td>\n",
       "    </tr>\n",
       "    <tr>\n",
       "      <th>Dude Perfect</th>\n",
       "      <td>Dude Perfect</td>\n",
       "      <td>494</td>\n",
       "    </tr>\n",
       "    <tr>\n",
       "      <th>ESPN</th>\n",
       "      <td>ESPN</td>\n",
       "      <td>486</td>\n",
       "    </tr>\n",
       "    <tr>\n",
       "      <th>MrBeast</th>\n",
       "      <td>MrBeast</td>\n",
       "      <td>482</td>\n",
       "    </tr>\n",
       "  </tbody>\n",
       "</table>\n",
       "</div>"
      ],
      "text/plain": [
       "                           channel_title  no_of_videos\n",
       "NFL                                  NFL          1280\n",
       "NBA                                  NBA          1139\n",
       "SSSniperWolf                SSSniperWolf           599\n",
       "NBC Sports                    NBC Sports           559\n",
       "MrBeast Gaming            MrBeast Gaming           512\n",
       "SSundee                          SSundee           511\n",
       "Saturday Night Live  Saturday Night Live           506\n",
       "Dude Perfect                Dude Perfect           494\n",
       "ESPN                                ESPN           486\n",
       "MrBeast                          MrBeast           482"
      ]
     },
     "execution_count": 86,
     "metadata": {},
     "output_type": "execute_result"
    }
   ],
   "source": [
    "video_count"
   ]
  },
  {
   "cell_type": "code",
   "execution_count": 87,
   "metadata": {
    "execution": {
     "iopub.execute_input": "2023-03-02T18:06:05.435562Z",
     "iopub.status.busy": "2023-03-02T18:06:05.434585Z",
     "iopub.status.idle": "2023-03-02T18:06:05.442534Z",
     "shell.execute_reply": "2023-03-02T18:06:05.441828Z",
     "shell.execute_reply.started": "2023-03-02T18:06:05.435499Z"
    }
   },
   "outputs": [
    {
     "name": "stdout",
     "output_type": "stream",
     "text": [
      "                           channel_title  no_of_videos\n",
      "NFL                                  NFL          1280\n",
      "NBA                                  NBA          1139\n",
      "SSSniperWolf                SSSniperWolf           599\n",
      "NBC Sports                    NBC Sports           559\n",
      "MrBeast Gaming            MrBeast Gaming           512\n",
      "SSundee                          SSundee           511\n",
      "Saturday Night Live  Saturday Night Live           506\n",
      "Dude Perfect                Dude Perfect           494\n",
      "ESPN                                ESPN           486\n",
      "MrBeast                          MrBeast           482\n"
     ]
    }
   ],
   "source": [
    "print(video_count)"
   ]
  },
  {
   "cell_type": "code",
   "execution_count": 88,
   "metadata": {
    "execution": {
     "iopub.execute_input": "2023-03-02T18:06:09.614630Z",
     "iopub.status.busy": "2023-03-02T18:06:09.614259Z",
     "iopub.status.idle": "2023-03-02T18:06:09.837608Z",
     "shell.execute_reply": "2023-03-02T18:06:09.836218Z",
     "shell.execute_reply.started": "2023-03-02T18:06:09.614595Z"
    }
   },
   "outputs": [
    {
     "data": {
      "text/plain": [
       "<AxesSubplot:xlabel='no_of_videos', ylabel='channel_title'>"
      ]
     },
     "execution_count": 88,
     "metadata": {},
     "output_type": "execute_result"
    },
    {
     "data": {
      "image/png": "[encoded data removed]",
      "text/plain": [
       "<Figure size 648x648 with 1 Axes>"
      ]
     },
     "metadata": {
      "needs_background": "light"
     },
     "output_type": "display_data"
    }
   ],
   "source": [
    "matplotlib.pyplot.figure(figsize=(9,9))\n",
    "sns.barplot(y=\"channel_title\",x=\"no_of_videos\",data = video_count)"
   ]
  },
  {
   "cell_type": "code",
   "execution_count": null,
   "metadata": {},
   "outputs": [],
   "source": []
  },
  {
   "cell_type": "code",
   "execution_count": null,
   "metadata": {},
   "outputs": [],
   "source": []
  }
 ],
 "metadata": {
  "kernelspec": {
   "display_name": "Python 3 (ipykernel)",
   "language": "python",
   "name": "python3"
  },
  "language_info": {
   "codemirror_mode": {
    "name": "ipython",
    "version": 3
   },
   "file_extension": ".py",
   "mimetype": "text/x-python",
   "name": "python",
   "nbconvert_exporter": "python",
   "pygments_lexer": "ipython3",
   "version": "3.9.7"
  }
 },
 "nbformat": 4,
 "nbformat_minor": 4
}
